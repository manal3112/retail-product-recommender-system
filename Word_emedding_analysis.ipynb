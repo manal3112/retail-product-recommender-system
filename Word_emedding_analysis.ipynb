{
 "cells": [
  {
   "cell_type": "code",
   "execution_count": 1,
   "id": "f1fbeb8a",
   "metadata": {},
   "outputs": [],
   "source": [
    "import pandas as pd\n",
    "import numpy as np\n",
    "#import sklearn as ss\n",
    "import datetime\n",
    "import tensorflow as tf"
   ]
  },
  {
   "cell_type": "code",
   "execution_count": 85,
   "id": "4130feb8",
   "metadata": {},
   "outputs": [
    {
     "data": {
      "text/plain": [
       "\"dtypes = {'Date': 'category',\\n 'Transaction Time': 'category',\\n 'Customer Number': 'category',\\n 'Receipt Number': 'category',\\n 'Store #': 'category',\\n 'Store Name': 'category',\\n 'Scanned UPC': 'category',\\n 'Item Number': 'category',\\n 'Item Description': 'category',\\n 'Net Sales Units': 'float32',\\n 'Net Sales': 'category',\\n 'Cost': 'category',\\n 'Gross Margin': 'category',\\n 'Gross Margin %': 'category',\\n 'Department Code': 'category',\\n 'Department Name': 'category',\\n 'Class Code': 'category',\\n 'Class Name': 'category',\\n 'Fineline Code': 'category',\\n 'Fineline Name': 'category',\\n 'Item was Scanned': 'float32',\\n 'MIP Promo ID': 'category',\\n 'Promo/Discount': 'category',\\n 'Dynamic Promo ID': 'float32',\\n 'Actual Price': 'category',\\n 'Retail Price': 'category',\\n 'Actual-Retail': 'category',\\n 'Taxable': 'category',\\n 'Tender Type': 'category',\\n '$ Off Retail': 'category',\\n 'Zip Code': 'category',\\n 'Zip Plus-4': 'category',\\n 'Loyalty ID': 'float32',\\n 'Clerk': 'category',\\n 'Item Type': 'category',\\n 'Line #': 'float32',\\n 'Line Item Transaction Type': 'category',\\n 'Pricing Source': 'category'}\""
      ]
     },
     "execution_count": 85,
     "metadata": {},
     "output_type": "execute_result"
    }
   ],
   "source": [
    "\"\"\"dtypes = {'Date': 'category',\n",
    " 'Transaction Time': 'category',\n",
    " 'Customer Number': 'category',\n",
    " 'Receipt Number': 'category',\n",
    " 'Store #': 'category',\n",
    " 'Store Name': 'category',\n",
    " 'Scanned UPC': 'category',\n",
    " 'Item Number': 'category',\n",
    " 'Item Description': 'category',\n",
    " 'Net Sales Units': 'float32',\n",
    " 'Net Sales': 'category',\n",
    " 'Cost': 'category',\n",
    " 'Gross Margin': 'category',\n",
    " 'Gross Margin %': 'category',\n",
    " 'Department Code': 'category',\n",
    " 'Department Name': 'category',\n",
    " 'Class Code': 'category',\n",
    " 'Class Name': 'category',\n",
    " 'Fineline Code': 'category',\n",
    " 'Fineline Name': 'category',\n",
    " 'Item was Scanned': 'float32',\n",
    " 'MIP Promo ID': 'category',\n",
    " 'Promo/Discount': 'category',\n",
    " 'Dynamic Promo ID': 'float32',\n",
    " 'Actual Price': 'category',\n",
    " 'Retail Price': 'category',\n",
    " 'Actual-Retail': 'category',\n",
    " 'Taxable': 'category',\n",
    " 'Tender Type': 'category',\n",
    " '$ Off Retail': 'category',\n",
    " 'Zip Code': 'category',\n",
    " 'Zip Plus-4': 'category',\n",
    " 'Loyalty ID': 'float32',\n",
    " 'Clerk': 'category',\n",
    " 'Item Type': 'category',\n",
    " 'Line #': 'float32',\n",
    " 'Line Item Transaction Type': 'category',\n",
    " 'Pricing Source': 'category'}\"\"\""
   ]
  },
  {
   "cell_type": "code",
   "execution_count": 2,
   "id": "01980f88",
   "metadata": {},
   "outputs": [
    {
     "name": "stderr",
     "output_type": "stream",
     "text": [
      "/Users/manalshah/opt/anaconda3/envs/tf/lib/python3.7/site-packages/IPython/core/interactiveshell.py:3441: DtypeWarning: Columns (9,10,11,12,20,23,24,25,29,30,31,32,35) have mixed types.Specify dtype option on import or set low_memory=False.\n",
      "  exec(code_obj, self.user_global_ns, self.user_ns)\n"
     ]
    }
   ],
   "source": [
    "df = pd.read_csv(\"/Users/manalshah/Desktop/DSF Project/costello_ace_2015-2016.csv\")"
   ]
  },
  {
   "cell_type": "code",
   "execution_count": 2,
   "id": "57a0a6fb",
   "metadata": {},
   "outputs": [
    {
     "name": "stderr",
     "output_type": "stream",
     "text": [
      "/Users/manalshah/opt/anaconda3/envs/tf/lib/python3.7/site-packages/IPython/core/interactiveshell.py:3441: DtypeWarning: Columns (9,10,11,12,20,23,24,25,29,30,31,32,35) have mixed types.Specify dtype option on import or set low_memory=False.\n",
      "  exec(code_obj, self.user_global_ns, self.user_ns)\n"
     ]
    }
   ],
   "source": [
    "dtypes = {'Scanned UPC': 'string'}\n",
    "tdf = pd.read_csv(\"/Users/manalshah/Downloads/costello_ace_2015-2016.csv\", dtype = dtypes)"
   ]
  },
  {
   "cell_type": "code",
   "execution_count": 3,
   "id": "26389b31",
   "metadata": {},
   "outputs": [
    {
     "data": {
      "text/plain": [
       "Index(['Date', 'Transaction Time', 'Customer Number', 'Receipt Number',\n",
       "       'Store #', 'Store Name', 'Scanned UPC', 'Item Number',\n",
       "       'Item Description', 'Net Sales Units', 'Net Sales', 'Cost',\n",
       "       'Gross Margin', 'Gross Margin %', 'Department Code', 'Department Name',\n",
       "       'Class Code', 'Class Name', 'Fineline Code', 'Fineline Name',\n",
       "       'Item was Scanned', 'MIP Promo ID', 'Promo/Discount',\n",
       "       'Dynamic Promo ID', 'Actual Price', 'Retail Price', 'Actual-Retail',\n",
       "       'Taxable', 'Tender Type', '$ Off Retail', 'Zip Code', 'Zip Plus-4',\n",
       "       'Loyalty ID', 'Clerk', 'Item Type', 'Line #',\n",
       "       'Line Item Transaction Type', 'Pricing Source', 'Return Code'],\n",
       "      dtype='object')"
      ]
     },
     "execution_count": 3,
     "metadata": {},
     "output_type": "execute_result"
    }
   ],
   "source": [
    "tdf.columns"
   ]
  },
  {
   "cell_type": "code",
   "execution_count": 6,
   "id": "fbc2018b",
   "metadata": {},
   "outputs": [
    {
     "data": {
      "text/html": [
       "<div>\n",
       "<style scoped>\n",
       "    .dataframe tbody tr th:only-of-type {\n",
       "        vertical-align: middle;\n",
       "    }\n",
       "\n",
       "    .dataframe tbody tr th {\n",
       "        vertical-align: top;\n",
       "    }\n",
       "\n",
       "    .dataframe thead th {\n",
       "        text-align: right;\n",
       "    }\n",
       "</style>\n",
       "<table border=\"1\" class=\"dataframe\">\n",
       "  <thead>\n",
       "    <tr style=\"text-align: right;\">\n",
       "      <th></th>\n",
       "      <th>Item Description</th>\n",
       "    </tr>\n",
       "  </thead>\n",
       "  <tbody>\n",
       "    <tr>\n",
       "      <th>2</th>\n",
       "      <td>BLADE CUTOFF 4.5X1/16MTL</td>\n",
       "    </tr>\n",
       "    <tr>\n",
       "      <th>3</th>\n",
       "      <td>CUT WHL4-1/2X.045 MTL</td>\n",
       "    </tr>\n",
       "    <tr>\n",
       "      <th>13</th>\n",
       "      <td>ACE NIPPLE EXTRACTOR1/2\"</td>\n",
       "    </tr>\n",
       "    <tr>\n",
       "      <th>14</th>\n",
       "      <td>1.38\"X40'OUT CARPET TAPE</td>\n",
       "    </tr>\n",
       "    <tr>\n",
       "      <th>15</th>\n",
       "      <td>JRSY GLOVE W/DOTS XL</td>\n",
       "    </tr>\n",
       "    <tr>\n",
       "      <th>...</th>\n",
       "      <td>...</td>\n",
       "    </tr>\n",
       "    <tr>\n",
       "      <th>15627464</th>\n",
       "      <td>PLASTC STORAG CAP WM BX8</td>\n",
       "    </tr>\n",
       "    <tr>\n",
       "      <th>15627474</th>\n",
       "      <td>COUPLE FLEX 1.5&amp;1.25CAST</td>\n",
       "    </tr>\n",
       "    <tr>\n",
       "      <th>15627477</th>\n",
       "      <td>TWIX CARAMEL SNGL 1.79OZ</td>\n",
       "    </tr>\n",
       "    <tr>\n",
       "      <th>15627481</th>\n",
       "      <td>RNR VNYL LP CLR 27\"X150'</td>\n",
       "    </tr>\n",
       "    <tr>\n",
       "      <th>15627495</th>\n",
       "      <td>TARP POLY BLUE/BRN 6X8</td>\n",
       "    </tr>\n",
       "  </tbody>\n",
       "</table>\n",
       "<p>2670887 rows × 1 columns</p>\n",
       "</div>"
      ],
      "text/plain": [
       "                  Item Description\n",
       "2         BLADE CUTOFF 4.5X1/16MTL\n",
       "3            CUT WHL4-1/2X.045 MTL\n",
       "13        ACE NIPPLE EXTRACTOR1/2\"\n",
       "14        1.38\"X40'OUT CARPET TAPE\n",
       "15            JRSY GLOVE W/DOTS XL\n",
       "...                            ...\n",
       "15627464  PLASTC STORAG CAP WM BX8\n",
       "15627474  COUPLE FLEX 1.5&1.25CAST\n",
       "15627477  TWIX CARAMEL SNGL 1.79OZ\n",
       "15627481  RNR VNYL LP CLR 27\"X150'\n",
       "15627495    TARP POLY BLUE/BRN 6X8\n",
       "\n",
       "[2670887 rows x 1 columns]"
      ]
     },
     "execution_count": 6,
     "metadata": {},
     "output_type": "execute_result"
    }
   ],
   "source": [
    "mdf = df[[\"Item Description\"]].dropna()\n",
    "mdf[mdf[\"Item Description\"].str.contains(\"X\")]"
   ]
  },
  {
   "cell_type": "code",
   "execution_count": 4,
   "id": "40a4594f",
   "metadata": {},
   "outputs": [
    {
     "data": {
      "text/plain": [
       "133074"
      ]
     },
     "execution_count": 4,
     "metadata": {},
     "output_type": "execute_result"
    }
   ],
   "source": [
    "len(tdf[\"Scanned UPC\"].unique())"
   ]
  },
  {
   "cell_type": "code",
   "execution_count": 10,
   "id": "de6dc577",
   "metadata": {},
   "outputs": [
    {
     "data": {
      "text/plain": [
       "15627499"
      ]
     },
     "execution_count": 10,
     "metadata": {},
     "output_type": "execute_result"
    }
   ],
   "source": [
    "len(df[\"Scanned UPC\"])"
   ]
  },
  {
   "cell_type": "code",
   "execution_count": 14,
   "id": "2f90e6cd",
   "metadata": {},
   "outputs": [
    {
     "data": {
      "text/plain": [
       "OTHER          2620074\n",
       "8.43518E+11     172430\n",
       "AUTO            158091\n",
       "6.11942E+11     105241\n",
       "8.56682E+11      58297\n",
       "8.56434E+11      52035\n",
       "8.03994E+11      49677\n",
       "7.24504E+11      44761\n",
       "82901152613      40531\n",
       "7.16341E+11      34202\n",
       "82901152620      33497\n",
       "6.83264E+11      29387\n",
       "6.86141E+11      28394\n",
       "82901193081      27227\n",
       "8.78373E+11      26922\n",
       "8.85911E+11      26266\n",
       "6.81884E+11      24387\n",
       "76706844002      24057\n",
       "QF               22988\n",
       "7.31919E+11      22511\n",
       "74804012934      22468\n",
       "41911000505      21546\n",
       "8.59169E+11      19130\n",
       "23906028138      18830\n",
       "6.08216E+11      18152\n",
       "6.1127E+11       18116\n",
       "8.11322E+11      16239\n",
       "82901888512      16200\n",
       "6.48738E+11      16113\n",
       "27856100029      15479\n",
       "Name: Scanned UPC, dtype: int64"
      ]
     },
     "execution_count": 14,
     "metadata": {},
     "output_type": "execute_result"
    }
   ],
   "source": [
    "df[\"Scanned UPC\"].value_counts()[:30]"
   ]
  },
  {
   "cell_type": "code",
   "execution_count": 5,
   "id": "54689c8f",
   "metadata": {},
   "outputs": [],
   "source": [
    "upc = tdf[\"Scanned UPC\"].copy()"
   ]
  },
  {
   "cell_type": "code",
   "execution_count": 73,
   "id": "f8b651fe",
   "metadata": {},
   "outputs": [
    {
     "data": {
      "text/plain": [
       "'8.85911E+11'"
      ]
     },
     "execution_count": 73,
     "metadata": {},
     "output_type": "execute_result"
    }
   ],
   "source": [
    "upc.head()[3]"
   ]
  },
  {
   "cell_type": "code",
   "execution_count": 6,
   "id": "8db37a3e",
   "metadata": {},
   "outputs": [],
   "source": [
    "upc.dropna(inplace=True)"
   ]
  },
  {
   "cell_type": "code",
   "execution_count": 7,
   "id": "32c1ae1b",
   "metadata": {},
   "outputs": [
    {
     "data": {
      "text/plain": [
       "False    10745586\n",
       "True      4828535\n",
       "Name: Scanned UPC, dtype: Int64"
      ]
     },
     "execution_count": 7,
     "metadata": {},
     "output_type": "execute_result"
    }
   ],
   "source": [
    "#upc.str.strip().str.match(r'\\D+').value_counts()\n",
    "upc.str.strip().str.match(r'.*[_\\D]+.*').value_counts()"
   ]
  },
  {
   "cell_type": "code",
   "execution_count": 76,
   "id": "dc44aa5f",
   "metadata": {},
   "outputs": [
    {
     "data": {
      "text/plain": [
       "<StringArray>\n",
       "[      'OTHER', '82901090779', '8.85911E+11', '82901265313', '82901720836',\n",
       " '82901069294', '7.16341E+11', '82901445012', '51131626638', '82901184539',\n",
       " ...\n",
       " '32085548146', '51712101561', '15231071828', '26925921732', '20418192838',\n",
       " '8.19951E+11', '39083841484', '32888011045', '74507720174',  '8236127492']\n",
       "Length: 133073, dtype: string"
      ]
     },
     "execution_count": 76,
     "metadata": {},
     "output_type": "execute_result"
    }
   ],
   "source": [
    "upc.unique()"
   ]
  },
  {
   "cell_type": "code",
   "execution_count": 82,
   "id": "b9a162c3",
   "metadata": {},
   "outputs": [],
   "source": [
    "import re\n",
    "re.match(r'.*[_\\D]+.*', '66')"
   ]
  },
  {
   "cell_type": "code",
   "execution_count": 24,
   "id": "ea2e0c68",
   "metadata": {},
   "outputs": [
    {
     "data": {
      "text/plain": [
       "0"
      ]
     },
     "execution_count": 24,
     "metadata": {},
     "output_type": "execute_result"
    }
   ],
   "source": [
    "upc.isna().sum()"
   ]
  },
  {
   "cell_type": "code",
   "execution_count": 86,
   "id": "26c4dbb3",
   "metadata": {},
   "outputs": [
    {
     "data": {
      "text/plain": [
       "OTHER          2620074\n",
       "8.43518E+11     172430\n",
       "AUTO            158091\n",
       "6.11942E+11     105241\n",
       "8.56682E+11      58297\n",
       "                ...   \n",
       "7.82022E+11          1\n",
       "7.29001E+12          1\n",
       "3.0753E+12           1\n",
       "7.37888E+11          1\n",
       "8.19951E+11          1\n",
       "Name: Scanned UPC, Length: 2614, dtype: Int64"
      ]
     },
     "execution_count": 86,
     "metadata": {},
     "output_type": "execute_result"
    }
   ],
   "source": [
    "#upc[upc.str.strip().str.match(r'\\D')].value_counts()\n",
    "upc[upc.str.strip().str.match(r'.*[_\\D]+.*')].value_counts()#.reset_index()[\"Scanned UPC\"].sum()"
   ]
  },
  {
   "cell_type": "code",
   "execution_count": 13,
   "id": "890cdee1",
   "metadata": {},
   "outputs": [],
   "source": [
    "codes = list(upc[~(upc.str.strip().str.match(r'.*[_\\D]+.*'))].unique())"
   ]
  },
  {
   "cell_type": "code",
   "execution_count": 14,
   "id": "29f98682",
   "metadata": {},
   "outputs": [],
   "source": [
    "codes_df = pd.DataFrame(data=codes, columns=[\"UPC\"])"
   ]
  },
  {
   "cell_type": "code",
   "execution_count": 15,
   "id": "11ce6c7f",
   "metadata": {},
   "outputs": [
    {
     "data": {
      "text/html": [
       "<div>\n",
       "<style scoped>\n",
       "    .dataframe tbody tr th:only-of-type {\n",
       "        vertical-align: middle;\n",
       "    }\n",
       "\n",
       "    .dataframe tbody tr th {\n",
       "        vertical-align: top;\n",
       "    }\n",
       "\n",
       "    .dataframe thead th {\n",
       "        text-align: right;\n",
       "    }\n",
       "</style>\n",
       "<table border=\"1\" class=\"dataframe\">\n",
       "  <thead>\n",
       "    <tr style=\"text-align: right;\">\n",
       "      <th></th>\n",
       "      <th>UPC</th>\n",
       "    </tr>\n",
       "  </thead>\n",
       "  <tbody>\n",
       "    <tr>\n",
       "      <th>0</th>\n",
       "      <td>82901090779</td>\n",
       "    </tr>\n",
       "    <tr>\n",
       "      <th>1</th>\n",
       "      <td>82901265313</td>\n",
       "    </tr>\n",
       "    <tr>\n",
       "      <th>2</th>\n",
       "      <td>82901720836</td>\n",
       "    </tr>\n",
       "    <tr>\n",
       "      <th>3</th>\n",
       "      <td>82901069294</td>\n",
       "    </tr>\n",
       "    <tr>\n",
       "      <th>4</th>\n",
       "      <td>82901445012</td>\n",
       "    </tr>\n",
       "    <tr>\n",
       "      <th>...</th>\n",
       "      <td>...</td>\n",
       "    </tr>\n",
       "    <tr>\n",
       "      <th>130454</th>\n",
       "      <td>20418192838</td>\n",
       "    </tr>\n",
       "    <tr>\n",
       "      <th>130455</th>\n",
       "      <td>39083841484</td>\n",
       "    </tr>\n",
       "    <tr>\n",
       "      <th>130456</th>\n",
       "      <td>32888011045</td>\n",
       "    </tr>\n",
       "    <tr>\n",
       "      <th>130457</th>\n",
       "      <td>74507720174</td>\n",
       "    </tr>\n",
       "    <tr>\n",
       "      <th>130458</th>\n",
       "      <td>8236127492</td>\n",
       "    </tr>\n",
       "  </tbody>\n",
       "</table>\n",
       "<p>130459 rows × 1 columns</p>\n",
       "</div>"
      ],
      "text/plain": [
       "                UPC\n",
       "0       82901090779\n",
       "1       82901265313\n",
       "2       82901720836\n",
       "3       82901069294\n",
       "4       82901445012\n",
       "...             ...\n",
       "130454  20418192838\n",
       "130455  39083841484\n",
       "130456  32888011045\n",
       "130457  74507720174\n",
       "130458   8236127492\n",
       "\n",
       "[130459 rows x 1 columns]"
      ]
     },
     "execution_count": 15,
     "metadata": {},
     "output_type": "execute_result"
    }
   ],
   "source": [
    "codes_df"
   ]
  },
  {
   "cell_type": "code",
   "execution_count": 20,
   "id": "fa905f70",
   "metadata": {},
   "outputs": [
    {
     "data": {
      "text/plain": [
       "130459"
      ]
     },
     "execution_count": 20,
     "metadata": {},
     "output_type": "execute_result"
    }
   ],
   "source": [
    "len(codes_df)"
   ]
  },
  {
   "cell_type": "code",
   "execution_count": 23,
   "id": "7d765e75",
   "metadata": {},
   "outputs": [
    {
     "name": "stdout",
     "output_type": "stream",
     "text": [
      "Batch Completed 0\n",
      "New Range (2000, 4000)\n",
      "Batch Completed 1\n",
      "New Range (4000, 6000)\n",
      "Batch Completed 2\n",
      "New Range (6000, 8000)\n",
      "Batch Completed 3\n",
      "New Range (8000, 10000)\n",
      "Batch Completed 4\n",
      "New Range (10000, 12000)\n",
      "Batch Completed 5\n",
      "New Range (12000, 14000)\n",
      "Batch Completed 6\n",
      "New Range (14000, 16000)\n",
      "Batch Completed 7\n",
      "New Range (16000, 18000)\n",
      "Batch Completed 8\n",
      "New Range (18000, 20000)\n",
      "Batch Completed 9\n",
      "New Range (20000, 22000)\n",
      "Batch Completed 10\n",
      "New Range (22000, 24000)\n",
      "Batch Completed 11\n",
      "New Range (24000, 26000)\n",
      "Batch Completed 12\n",
      "New Range (26000, 28000)\n",
      "Batch Completed 13\n",
      "New Range (28000, 30000)\n",
      "Batch Completed 14\n",
      "New Range (30000, 32000)\n",
      "Batch Completed 15\n",
      "New Range (32000, 34000)\n",
      "Batch Completed 16\n",
      "New Range (34000, 36000)\n",
      "Batch Completed 17\n",
      "New Range (36000, 38000)\n",
      "Batch Completed 18\n",
      "New Range (38000, 40000)\n",
      "Batch Completed 19\n",
      "New Range (40000, 42000)\n",
      "Batch Completed 20\n",
      "New Range (42000, 44000)\n",
      "Batch Completed 21\n",
      "New Range (44000, 46000)\n",
      "Batch Completed 22\n",
      "New Range (46000, 48000)\n",
      "Batch Completed 23\n",
      "New Range (48000, 50000)\n",
      "Batch Completed 24\n",
      "New Range (50000, 52000)\n",
      "Batch Completed 25\n",
      "New Range (52000, 54000)\n",
      "Batch Completed 26\n",
      "New Range (54000, 56000)\n",
      "Batch Completed 27\n",
      "New Range (56000, 58000)\n",
      "Batch Completed 28\n",
      "New Range (58000, 60000)\n",
      "Batch Completed 29\n",
      "New Range (60000, 62000)\n",
      "Batch Completed 30\n",
      "New Range (62000, 64000)\n",
      "Batch Completed 31\n",
      "New Range (64000, 66000)\n",
      "Batch Completed 32\n",
      "New Range (66000, 68000)\n",
      "Batch Completed 33\n",
      "New Range (68000, 70000)\n",
      "Batch Completed 34\n",
      "New Range (70000, 72000)\n",
      "Batch Completed 35\n",
      "New Range (72000, 74000)\n",
      "Batch Completed 36\n",
      "New Range (74000, 76000)\n",
      "Batch Completed 37\n",
      "New Range (76000, 78000)\n",
      "Batch Completed 38\n",
      "New Range (78000, 80000)\n",
      "Batch Completed 39\n",
      "New Range (80000, 82000)\n",
      "Batch Completed 40\n",
      "New Range (82000, 84000)\n",
      "Batch Completed 41\n",
      "New Range (84000, 86000)\n",
      "Batch Completed 42\n",
      "New Range (86000, 88000)\n",
      "Batch Completed 43\n",
      "New Range (88000, 90000)\n",
      "Batch Completed 44\n",
      "New Range (90000, 92000)\n",
      "Batch Completed 45\n",
      "New Range (92000, 94000)\n",
      "Batch Completed 46\n",
      "New Range (94000, 96000)\n",
      "Batch Completed 47\n",
      "New Range (96000, 98000)\n",
      "Batch Completed 48\n",
      "New Range (98000, 100000)\n",
      "Batch Completed 49\n",
      "New Range (100000, 102000)\n",
      "Batch Completed 50\n",
      "New Range (102000, 104000)\n",
      "Batch Completed 51\n",
      "New Range (104000, 106000)\n",
      "Batch Completed 52\n",
      "New Range (106000, 108000)\n",
      "Batch Completed 53\n",
      "New Range (108000, 110000)\n",
      "Batch Completed 54\n",
      "New Range (110000, 112000)\n",
      "Batch Completed 55\n",
      "New Range (112000, 114000)\n",
      "Batch Completed 56\n",
      "New Range (114000, 116000)\n",
      "Batch Completed 57\n",
      "New Range (116000, 118000)\n",
      "Batch Completed 58\n",
      "New Range (118000, 120000)\n",
      "Batch Completed 59\n",
      "New Range (120000, 122000)\n",
      "Batch Completed 60\n",
      "New Range (122000, 124000)\n",
      "Batch Completed 61\n",
      "New Range (124000, 126000)\n",
      "Batch Completed 62\n",
      "New Range (126000, 128000)\n",
      "Batch Completed 63\n",
      "New Range (128000, 130000)\n",
      "Batch Completed 64\n",
      "New Range (130000, 132000)\n",
      "Batch Completed 65\n",
      "New Range (130458, 132458)\n"
     ]
    }
   ],
   "source": [
    "start = 0\n",
    "end = len(codes_df) - 1\n",
    "chunk = 2000\n",
    "batch = 0\n",
    "\n",
    "filename = \"batch_{}.csv\"\n",
    "\n",
    "while (start < end):\n",
    "    batch_end = start+chunk\n",
    "    if batch_end > end:\n",
    "        batch_end = end\n",
    "    codes_df[start:batch_end].to_csv(filename.format(batch), index=False, header=False)\n",
    "    start = batch_end\n",
    "    batch += 1\n",
    "    print(\"Batch Completed {}\".format(batch-1))\n",
    "    print(\"New Range {}\".format((start,start+chunk)))"
   ]
  },
  {
   "cell_type": "code",
   "execution_count": 91,
   "id": "ccd46a6b",
   "metadata": {},
   "outputs": [],
   "source": [
    "upc[~(upc.str.strip().str.match(r'.*[_\\D]+.*'))][101:2101].to_csv(\"batch.csv\", index=False)"
   ]
  },
  {
   "cell_type": "code",
   "execution_count": 4,
   "id": "f3e596e6",
   "metadata": {},
   "outputs": [
    {
     "name": "stdout",
     "output_type": "stream",
     "text": [
      "/Users/manalshah/Desktop/DSF Project/Exports-2\n"
     ]
    }
   ],
   "source": [
    "%cd \"Exports-2\""
   ]
  },
  {
   "cell_type": "code",
   "execution_count": 16,
   "id": "a5143177",
   "metadata": {},
   "outputs": [
    {
     "data": {
      "text/html": [
       "<div>\n",
       "<style scoped>\n",
       "    .dataframe tbody tr th:only-of-type {\n",
       "        vertical-align: middle;\n",
       "    }\n",
       "\n",
       "    .dataframe tbody tr th {\n",
       "        vertical-align: top;\n",
       "    }\n",
       "\n",
       "    .dataframe thead th {\n",
       "        text-align: right;\n",
       "    }\n",
       "</style>\n",
       "<table border=\"1\" class=\"dataframe\">\n",
       "  <thead>\n",
       "    <tr style=\"text-align: right;\">\n",
       "      <th></th>\n",
       "      <th>upc</th>\n",
       "      <th>color</th>\n",
       "      <th>dimension</th>\n",
       "      <th>weight</th>\n",
       "    </tr>\n",
       "  </thead>\n",
       "  <tbody>\n",
       "    <tr>\n",
       "      <th>0</th>\n",
       "      <td>32151535445</td>\n",
       "      <td>NaN</td>\n",
       "      <td>14 X 14 X 14.5 inches</td>\n",
       "      <td>9.9 Pounds</td>\n",
       "    </tr>\n",
       "    <tr>\n",
       "      <th>1</th>\n",
       "      <td>32151573447</td>\n",
       "      <td>NaN</td>\n",
       "      <td>NaN</td>\n",
       "      <td>NaN</td>\n",
       "    </tr>\n",
       "    <tr>\n",
       "      <th>2</th>\n",
       "      <td>76174706956</td>\n",
       "      <td>Gold</td>\n",
       "      <td>NaN</td>\n",
       "      <td>NaN</td>\n",
       "    </tr>\n",
       "    <tr>\n",
       "      <th>3</th>\n",
       "      <td>43168789592</td>\n",
       "      <td>Black</td>\n",
       "      <td>1.9 X 1.9 X 6.7 inches</td>\n",
       "      <td>NaN</td>\n",
       "    </tr>\n",
       "    <tr>\n",
       "      <th>4</th>\n",
       "      <td>79946326109</td>\n",
       "      <td>Gold</td>\n",
       "      <td>8.7 X 2.6 X 0.9 inches</td>\n",
       "      <td>3 Pounds</td>\n",
       "    </tr>\n",
       "    <tr>\n",
       "      <th>...</th>\n",
       "      <td>...</td>\n",
       "      <td>...</td>\n",
       "      <td>...</td>\n",
       "      <td>...</td>\n",
       "    </tr>\n",
       "    <tr>\n",
       "      <th>1978</th>\n",
       "      <td>37155365487</td>\n",
       "      <td>Stainless steel</td>\n",
       "      <td>6.3 X 4.5 X 2 inches</td>\n",
       "      <td>0.2 pounds</td>\n",
       "    </tr>\n",
       "    <tr>\n",
       "      <th>1979</th>\n",
       "      <td>82901016106</td>\n",
       "      <td>Gold</td>\n",
       "      <td>14.3 X 11.3 X 4.8 inches</td>\n",
       "      <td>1.7 Pounds</td>\n",
       "    </tr>\n",
       "    <tr>\n",
       "      <th>1980</th>\n",
       "      <td>8236067491</td>\n",
       "      <td>NaN</td>\n",
       "      <td>NaN</td>\n",
       "      <td>NaN</td>\n",
       "    </tr>\n",
       "    <tr>\n",
       "      <th>1981</th>\n",
       "      <td>81492252009</td>\n",
       "      <td>Clear</td>\n",
       "      <td>2 X 4 X 2 inches</td>\n",
       "      <td>0.2 Pounds</td>\n",
       "    </tr>\n",
       "    <tr>\n",
       "      <th>1982</th>\n",
       "      <td>82021121223</td>\n",
       "      <td>NaN</td>\n",
       "      <td>NaN</td>\n",
       "      <td>NaN</td>\n",
       "    </tr>\n",
       "  </tbody>\n",
       "</table>\n",
       "<p>1983 rows × 4 columns</p>\n",
       "</div>"
      ],
      "text/plain": [
       "              upc            color                 dimension      weight\n",
       "0     32151535445              NaN     14 X 14 X 14.5 inches  9.9 Pounds\n",
       "1     32151573447              NaN                       NaN         NaN\n",
       "2     76174706956             Gold                       NaN         NaN\n",
       "3     43168789592            Black    1.9 X 1.9 X 6.7 inches         NaN\n",
       "4     79946326109             Gold    8.7 X 2.6 X 0.9 inches    3 Pounds\n",
       "...           ...              ...                       ...         ...\n",
       "1978  37155365487  Stainless steel      6.3 X 4.5 X 2 inches  0.2 pounds\n",
       "1979  82901016106             Gold  14.3 X 11.3 X 4.8 inches  1.7 Pounds\n",
       "1980   8236067491              NaN                       NaN         NaN\n",
       "1981  81492252009            Clear          2 X 4 X 2 inches  0.2 Pounds\n",
       "1982  82021121223              NaN                       NaN         NaN\n",
       "\n",
       "[1983 rows x 4 columns]"
      ]
     },
     "execution_count": 16,
     "metadata": {},
     "output_type": "execute_result"
    }
   ],
   "source": [
    "d = pd.read_csv(\"export_17.csv\", header=0, usecols=[\"upc\", \"color\", \"dimension\", \"weight\"], )\n",
    "#e = pd.read_csv(\"export_5.csv\", header=0)\n",
    "d"
   ]
  },
  {
   "cell_type": "code",
   "execution_count": 5,
   "id": "22095da5",
   "metadata": {},
   "outputs": [
    {
     "name": "stdout",
     "output_type": "stream",
     "text": [
      "Could not find file export_2.csv\n",
      "Could not find file export_9.csv\n",
      "Could not find file export_39.csv\n"
     ]
    },
    {
     "data": {
      "text/html": [
       "<div>\n",
       "<style scoped>\n",
       "    .dataframe tbody tr th:only-of-type {\n",
       "        vertical-align: middle;\n",
       "    }\n",
       "\n",
       "    .dataframe tbody tr th {\n",
       "        vertical-align: top;\n",
       "    }\n",
       "\n",
       "    .dataframe thead th {\n",
       "        text-align: right;\n",
       "    }\n",
       "</style>\n",
       "<table border=\"1\" class=\"dataframe\">\n",
       "  <thead>\n",
       "    <tr style=\"text-align: right;\">\n",
       "      <th></th>\n",
       "      <th>upc</th>\n",
       "      <th>color</th>\n",
       "      <th>dimension</th>\n",
       "      <th>weight</th>\n",
       "    </tr>\n",
       "  </thead>\n",
       "  <tbody>\n",
       "    <tr>\n",
       "      <th>0</th>\n",
       "      <td>41388000053</td>\n",
       "      <td>Tan</td>\n",
       "      <td>5.6 X 4.3 X 1.1 inches</td>\n",
       "      <td>0.6 pounds</td>\n",
       "    </tr>\n",
       "    <tr>\n",
       "      <th>1</th>\n",
       "      <td>32076881085</td>\n",
       "      <td>Black</td>\n",
       "      <td>3 X 4.4 X 11.5 inches</td>\n",
       "      <td>0.9 Pounds</td>\n",
       "    </tr>\n",
       "    <tr>\n",
       "      <th>2</th>\n",
       "      <td>82901002802</td>\n",
       "      <td>Steel</td>\n",
       "      <td>NaN</td>\n",
       "      <td>NaN</td>\n",
       "    </tr>\n",
       "    <tr>\n",
       "      <th>3</th>\n",
       "      <td>34613067594</td>\n",
       "      <td>NaN</td>\n",
       "      <td>NaN</td>\n",
       "      <td>NaN</td>\n",
       "    </tr>\n",
       "    <tr>\n",
       "      <th>4</th>\n",
       "      <td>37604164531</td>\n",
       "      <td>Light Gray</td>\n",
       "      <td>0.2 X 4.7 X 4.2 inches</td>\n",
       "      <td>1.08lb</td>\n",
       "    </tr>\n",
       "    <tr>\n",
       "      <th>...</th>\n",
       "      <td>...</td>\n",
       "      <td>...</td>\n",
       "      <td>...</td>\n",
       "      <td>...</td>\n",
       "    </tr>\n",
       "    <tr>\n",
       "      <th>119249</th>\n",
       "      <td>49437193985</td>\n",
       "      <td>NaN</td>\n",
       "      <td>NaN</td>\n",
       "      <td>NaN</td>\n",
       "    </tr>\n",
       "    <tr>\n",
       "      <th>119250</th>\n",
       "      <td>82901023852</td>\n",
       "      <td>NaN</td>\n",
       "      <td>NaN</td>\n",
       "      <td>NaN</td>\n",
       "    </tr>\n",
       "    <tr>\n",
       "      <th>119251</th>\n",
       "      <td>26508039243</td>\n",
       "      <td>Gold</td>\n",
       "      <td>3.8 X 3.8 X 1 inches</td>\n",
       "      <td>0.1 Pounds</td>\n",
       "    </tr>\n",
       "    <tr>\n",
       "      <th>119252</th>\n",
       "      <td>81492954705</td>\n",
       "      <td>Bronze</td>\n",
       "      <td>NaN</td>\n",
       "      <td>NaN</td>\n",
       "    </tr>\n",
       "    <tr>\n",
       "      <th>119253</th>\n",
       "      <td>8236087055</td>\n",
       "      <td>Gold</td>\n",
       "      <td>7 X 4.6 X 3.3 inches</td>\n",
       "      <td>7.7 Pounds</td>\n",
       "    </tr>\n",
       "  </tbody>\n",
       "</table>\n",
       "<p>119254 rows × 4 columns</p>\n",
       "</div>"
      ],
      "text/plain": [
       "                upc       color               dimension      weight\n",
       "0       41388000053         Tan  5.6 X 4.3 X 1.1 inches  0.6 pounds\n",
       "1       32076881085       Black   3 X 4.4 X 11.5 inches  0.9 Pounds\n",
       "2       82901002802       Steel                     NaN         NaN\n",
       "3       34613067594         NaN                     NaN         NaN\n",
       "4       37604164531  Light Gray  0.2 X 4.7 X 4.2 inches      1.08lb\n",
       "...             ...         ...                     ...         ...\n",
       "119249  49437193985         NaN                     NaN         NaN\n",
       "119250  82901023852         NaN                     NaN         NaN\n",
       "119251  26508039243        Gold    3.8 X 3.8 X 1 inches  0.1 Pounds\n",
       "119252  81492954705      Bronze                     NaN         NaN\n",
       "119253   8236087055        Gold    7 X 4.6 X 3.3 inches  7.7 Pounds\n",
       "\n",
       "[119254 rows x 4 columns]"
      ]
     },
     "execution_count": 5,
     "metadata": {},
     "output_type": "execute_result"
    }
   ],
   "source": [
    "final_df = pd.DataFrame(columns = [\"upc\", \"color\", \"dimension\", \"weight\"])\n",
    "for i in range(63):\n",
    "    try:\n",
    "        df = pd.read_csv(\"export_{}.csv\".format(i), header=0, usecols=[\"upc\", \"color\", \"dimension\", \"weight\"])\n",
    "        final_df = final_df.append(df, ignore_index=True)\n",
    "    except:\n",
    "        print(\"Could not find file export_{}.csv\".format(i))\n",
    "final_df"
   ]
  },
  {
   "cell_type": "code",
   "execution_count": 6,
   "id": "37717c6b",
   "metadata": {},
   "outputs": [
    {
     "data": {
      "text/plain": [
       "weight       47820\n",
       "dimension    61804\n",
       "dtype: int64"
      ]
     },
     "execution_count": 6,
     "metadata": {},
     "output_type": "execute_result"
    }
   ],
   "source": [
    "final_df[[\"weight\", \"dimension\"]].isna().sum()"
   ]
  },
  {
   "cell_type": "code",
   "execution_count": 7,
   "id": "85a7c231",
   "metadata": {},
   "outputs": [],
   "source": [
    "final_df.dropna( subset = [\"dimension\", \"weight\"], inplace = True)"
   ]
  },
  {
   "cell_type": "code",
   "execution_count": 8,
   "id": "48595e91",
   "metadata": {},
   "outputs": [
    {
     "data": {
      "text/html": [
       "<div>\n",
       "<style scoped>\n",
       "    .dataframe tbody tr th:only-of-type {\n",
       "        vertical-align: middle;\n",
       "    }\n",
       "\n",
       "    .dataframe tbody tr th {\n",
       "        vertical-align: top;\n",
       "    }\n",
       "\n",
       "    .dataframe thead th {\n",
       "        text-align: right;\n",
       "    }\n",
       "</style>\n",
       "<table border=\"1\" class=\"dataframe\">\n",
       "  <thead>\n",
       "    <tr style=\"text-align: right;\">\n",
       "      <th></th>\n",
       "      <th>upc</th>\n",
       "      <th>color</th>\n",
       "      <th>dimension</th>\n",
       "      <th>weight</th>\n",
       "    </tr>\n",
       "  </thead>\n",
       "  <tbody>\n",
       "    <tr>\n",
       "      <th>0</th>\n",
       "      <td>41388000053</td>\n",
       "      <td>Tan</td>\n",
       "      <td>5.6 X 4.3 X 1.1 inches</td>\n",
       "      <td>0.6 pounds</td>\n",
       "    </tr>\n",
       "    <tr>\n",
       "      <th>1</th>\n",
       "      <td>32076881085</td>\n",
       "      <td>Black</td>\n",
       "      <td>3 X 4.4 X 11.5 inches</td>\n",
       "      <td>0.9 Pounds</td>\n",
       "    </tr>\n",
       "    <tr>\n",
       "      <th>4</th>\n",
       "      <td>37604164531</td>\n",
       "      <td>Light Gray</td>\n",
       "      <td>0.2 X 4.7 X 4.2 inches</td>\n",
       "      <td>1.08lb</td>\n",
       "    </tr>\n",
       "    <tr>\n",
       "      <th>5</th>\n",
       "      <td>29054121110</td>\n",
       "      <td>Silver</td>\n",
       "      <td>3 X 7 X 10 inches</td>\n",
       "      <td>0.2 Pounds</td>\n",
       "    </tr>\n",
       "    <tr>\n",
       "      <th>7</th>\n",
       "      <td>45923037290</td>\n",
       "      <td>Gold</td>\n",
       "      <td>2 X 2 X 4.1 inches</td>\n",
       "      <td>999 Pounds</td>\n",
       "    </tr>\n",
       "    <tr>\n",
       "      <th>...</th>\n",
       "      <td>...</td>\n",
       "      <td>...</td>\n",
       "      <td>...</td>\n",
       "      <td>...</td>\n",
       "    </tr>\n",
       "    <tr>\n",
       "      <th>119238</th>\n",
       "      <td>39003099520</td>\n",
       "      <td>Dark Gray</td>\n",
       "      <td>1.5 X 4.8 X 7 inches</td>\n",
       "      <td>0.1 Pounds</td>\n",
       "    </tr>\n",
       "    <tr>\n",
       "      <th>119245</th>\n",
       "      <td>37321005506</td>\n",
       "      <td>Burgundy</td>\n",
       "      <td>5 X 5.8 X 5.8 inches</td>\n",
       "      <td>2 Pounds</td>\n",
       "    </tr>\n",
       "    <tr>\n",
       "      <th>119247</th>\n",
       "      <td>32247427838</td>\n",
       "      <td>NaN</td>\n",
       "      <td>19.1 X 15.3 X 115 inches</td>\n",
       "      <td>202 Pounds</td>\n",
       "    </tr>\n",
       "    <tr>\n",
       "      <th>119251</th>\n",
       "      <td>26508039243</td>\n",
       "      <td>Gold</td>\n",
       "      <td>3.8 X 3.8 X 1 inches</td>\n",
       "      <td>0.1 Pounds</td>\n",
       "    </tr>\n",
       "    <tr>\n",
       "      <th>119253</th>\n",
       "      <td>8236087055</td>\n",
       "      <td>Gold</td>\n",
       "      <td>7 X 4.6 X 3.3 inches</td>\n",
       "      <td>7.7 Pounds</td>\n",
       "    </tr>\n",
       "  </tbody>\n",
       "</table>\n",
       "<p>55676 rows × 4 columns</p>\n",
       "</div>"
      ],
      "text/plain": [
       "                upc       color                 dimension      weight\n",
       "0       41388000053         Tan    5.6 X 4.3 X 1.1 inches  0.6 pounds\n",
       "1       32076881085       Black     3 X 4.4 X 11.5 inches  0.9 Pounds\n",
       "4       37604164531  Light Gray    0.2 X 4.7 X 4.2 inches      1.08lb\n",
       "5       29054121110      Silver         3 X 7 X 10 inches  0.2 Pounds\n",
       "7       45923037290        Gold        2 X 2 X 4.1 inches  999 Pounds\n",
       "...             ...         ...                       ...         ...\n",
       "119238  39003099520   Dark Gray      1.5 X 4.8 X 7 inches  0.1 Pounds\n",
       "119245  37321005506    Burgundy      5 X 5.8 X 5.8 inches    2 Pounds\n",
       "119247  32247427838         NaN  19.1 X 15.3 X 115 inches  202 Pounds\n",
       "119251  26508039243        Gold      3.8 X 3.8 X 1 inches  0.1 Pounds\n",
       "119253   8236087055        Gold      7 X 4.6 X 3.3 inches  7.7 Pounds\n",
       "\n",
       "[55676 rows x 4 columns]"
      ]
     },
     "execution_count": 8,
     "metadata": {},
     "output_type": "execute_result"
    }
   ],
   "source": [
    "final_df"
   ]
  },
  {
   "cell_type": "code",
   "execution_count": 9,
   "id": "26450066",
   "metadata": {},
   "outputs": [
    {
     "data": {
      "text/plain": [
       "True     48915\n",
       "False     6761\n",
       "Name: dimension, dtype: int64"
      ]
     },
     "execution_count": 9,
     "metadata": {},
     "output_type": "execute_result"
    }
   ],
   "source": [
    "final_df[\"dimension\"].str.match(r\".*(inches|Inches)$\").value_counts()\n",
    "#final_df[\"dimension\"].where(m, True, False)"
   ]
  },
  {
   "cell_type": "code",
   "execution_count": 10,
   "id": "a2a588af",
   "metadata": {},
   "outputs": [
    {
     "data": {
      "text/plain": [
       "True     49518\n",
       "False     6158\n",
       "Name: weight, dtype: int64"
      ]
     },
     "execution_count": 10,
     "metadata": {},
     "output_type": "execute_result"
    }
   ],
   "source": [
    "final_df[\"weight\"].str.match(r\".*(pounds|Pounds|lbs|Lbs|kgs|lb|kg|ounces|Kilograms|grams)$\").value_counts()"
   ]
  },
  {
   "cell_type": "code",
   "execution_count": 50,
   "id": "98ab58a3",
   "metadata": {},
   "outputs": [],
   "source": [
    "processed_df = final_df[(final_df[\"dimension\"].str.match(r\".*(inches|Inches)$\")) & (final_df[\"weight\"].str.match(r\".*(pounds|Pounds|lbs|Lbs|kgs|lb|kg|ounces|Kilograms|grams)$\"))]"
   ]
  },
  {
   "cell_type": "code",
   "execution_count": 51,
   "id": "e4539c87",
   "metadata": {},
   "outputs": [
    {
     "name": "stdout",
     "output_type": "stream",
     "text": [
      "29 X 43 inches29 X 43 inches\n",
      "29 X 43 inches29 X 43 inches\n"
     ]
    },
    {
     "name": "stderr",
     "output_type": "stream",
     "text": [
      "/Users/manalshah/opt/anaconda3/envs/tf/lib/python3.7/site-packages/ipykernel_launcher.py:11: SettingWithCopyWarning: \n",
      "A value is trying to be set on a copy of a slice from a DataFrame.\n",
      "Try using .loc[row_indexer,col_indexer] = value instead\n",
      "\n",
      "See the caveats in the documentation: https://pandas.pydata.org/pandas-docs/stable/user_guide/indexing.html#returning-a-view-versus-a-copy\n",
      "  # This is added back by InteractiveShellApp.init_path()\n"
     ]
    }
   ],
   "source": [
    "def getVolume(row):\n",
    "    try:\n",
    "        row = np.prod(np.array(row.split(\" \")[0:5:2]).astype(\"float64\"))\n",
    "    except:\n",
    "        try:\n",
    "            row = np.prod(np.array((row.split(\" \")[0], row.split(\" \")[2][:-1], row.split(\" \")[3])).astype(\"float64\"))\n",
    "        except:\n",
    "            print(row)\n",
    "            \n",
    "    return row\n",
    "processed_df[\"dimension\"] = processed_df[\"dimension\"].apply(getVolume)"
   ]
  },
  {
   "cell_type": "code",
   "execution_count": 52,
   "id": "bc007305",
   "metadata": {},
   "outputs": [
    {
     "name": "stderr",
     "output_type": "stream",
     "text": [
      "/Users/manalshah/opt/anaconda3/envs/tf/lib/python3.7/site-packages/pandas/core/frame.py:4913: SettingWithCopyWarning: \n",
      "A value is trying to be set on a copy of a slice from a DataFrame\n",
      "\n",
      "See the caveats in the documentation: https://pandas.pydata.org/pandas-docs/stable/user_guide/indexing.html#returning-a-view-versus-a-copy\n",
      "  errors=errors,\n"
     ]
    }
   ],
   "source": [
    "processed_df[processed_df[\"dimension\"] == \"29 X 43 inches29 X 43 inches\"]\n",
    "processed_df.drop(processed_df[processed_df[\"dimension\"] == \"29 X 43 inches29 X 43 inches\"].index.to_list(), inplace = True)"
   ]
  },
  {
   "cell_type": "code",
   "execution_count": 132,
   "id": "7981b0e4",
   "metadata": {},
   "outputs": [],
   "source": [
    "groups_df = p[p[\"dimension\"] >0 ].groupby(by = [\"Receipt Number\", \"Store #\"], dropna = False).size().sort_values(ascending = False)"
   ]
  },
  {
   "cell_type": "code",
   "execution_count": 138,
   "id": "578290ab",
   "metadata": {},
   "outputs": [
    {
     "name": "stdout",
     "output_type": "stream",
     "text": [
      "('H99393', 'D') 21\n"
     ]
    },
    {
     "name": "stderr",
     "output_type": "stream",
     "text": [
      "/Users/manalshah/opt/anaconda3/envs/tf/lib/python3.7/site-packages/ipykernel_launcher.py:6: UserWarning: Boolean Series key will be reindexed to match DataFrame index.\n",
      "  \n"
     ]
    },
    {
     "name": "stdout",
     "output_type": "stream",
     "text": [
      "('I03919', 'D') 21\n",
      "('F83674', '3') 19\n",
      "('H89212', 'D') 19\n",
      "('H97621', 'G') 18\n",
      "('H25210', 'J') 17\n",
      "('053640', 'B') 17\n",
      "('B62259', 'M') 16\n",
      "('A23584', 'B') 15\n",
      "('I03014', 'D') 15\n",
      "('H95031', 'D') 15\n",
      "('I01553', 'D') 15\n",
      "('I03755', 'D') 15\n",
      "('D01722', '6') 14\n",
      "('I93142', 'B') 14\n",
      "('I02822', 'D') 14\n",
      "('E67675', 'B') 14\n",
      "('17995', '2') 13\n",
      "('G17448', 'I') 13\n",
      "('I01015', 'D') 13\n",
      "('053399', 'B') 13\n",
      "('013635', 'I') 13\n",
      "('I02750', 'D') 13\n",
      "('I03761', 'D') 12\n",
      "('I02481', 'D') 12\n",
      "('E18669', '4') 12\n",
      "('I03731', 'D') 12\n",
      "('H99146', 'D') 12\n",
      "('E92665', 'B') 12\n",
      "('H99250', 'D') 12\n",
      "('B10372', 'B') 12\n",
      "('E86300', 'A') 11\n",
      "('I03896', 'D') 11\n",
      "('J82658', '6') 11\n",
      "('I03978', 'D') 11\n",
      "('E30688', 'B') 11\n",
      "('G87616', 'E') 11\n",
      "('C24665', 'L') 11\n",
      "('I03609', 'D') 11\n",
      "('B60989', '8') 11\n",
      "('E26540', 'B') 11\n",
      "('A74833', 'U') 11\n",
      "('A09449', 'S') 11\n",
      "('A40283', 'U') 10\n",
      "('G18961', 'E') 10\n",
      "('E18681', 'B') 10\n",
      "('I02863', 'D') 10\n",
      "('I03126', 'D') 10\n",
      "('I01180', 'G') 10\n",
      "('I28662', '3') 10\n",
      "('I01733', 'D') 10\n",
      "('I02462', 'G') 10\n",
      "('D85973', 'L') 10\n",
      "('I03266', 'D') 10\n",
      "('A58676', 'M') 10\n",
      "('H95992', 'D') 10\n",
      "('H99689', 'D') 10\n",
      "('I56850', 'W') 10\n",
      "('I03138', 'D') 10\n",
      "('H20482', '2') 10\n",
      "('E25864', 'B') 10\n",
      "('I03704', 'D') 10\n",
      "('E16091', '8') 10\n",
      "('I01471', 'D') 10\n",
      "('I03005', 'D') 10\n",
      "('H98895', 'D') 10\n",
      "('G17864', '1') 10\n",
      "('H75782', 'D') 10\n",
      "('I01059', 'G') 10\n",
      "('I07283', 'B') 10\n",
      "('I03089', 'D') 9\n",
      "('E81716', 'E') 9\n",
      "('I01030', 'D') 9\n",
      "('H99519', 'D') 9\n",
      "('B18907', 'M') 9\n",
      "('F45095', 'B') 9\n",
      "('F54429', 'K') 9\n",
      "('E81796', 'E') 9\n",
      "('H51433', '2') 9\n",
      "('A06793', 'B') 9\n",
      "('G46206', 'B') 9\n",
      "('F20766', 'E') 9\n",
      "('I03394', 'E') 9\n",
      "('I01715', 'D') 9\n",
      "('I03753', 'D') 9\n",
      "('H96667', 'D') 9\n",
      "('B46405', 'S') 9\n",
      "('I76143', 'B') 9\n",
      "('32888', '6') 9\n",
      "('C53643', '4') 9\n",
      "('I03649', 'D') 9\n",
      "('H91480', 'D') 9\n",
      "('H98444', 'D') 9\n",
      "('3735', 'O') 9\n",
      "('I21179', '3') 9\n",
      "('J99520', 'B') 9\n",
      "('J90899', '6') 8\n",
      "('I02740', 'D') 8\n",
      "('X22088', 'B') 8\n",
      "('A25842', '6') 8\n",
      "('H89222', 'Y') 8\n",
      "('H94536', 'D') 8\n",
      "('H99684', 'D') 8\n",
      "('H49836', 'E') 8\n",
      "('H97807', 'D') 8\n",
      "('D21537', '6') 8\n",
      "('F01761', 'A') 8\n",
      "('4468', 'M') 8\n",
      "('I03756', 'D') 8\n",
      "('E46547', '9') 8\n",
      "('E95922', 'I') 8\n",
      "('H44264', 'I') 8\n",
      "('J72316', '6') 8\n",
      "('H07103', 'G') 8\n",
      "('F78489', 'B') 8\n",
      "('H97799', 'D') 8\n",
      "('F47643', '9') 8\n",
      "('F95654', 'B') 8\n",
      "('H35631', 'B') 8\n",
      "('H97538', 'D') 8\n",
      "('D11903', '4') 8\n",
      "('I19396', 'F') 8\n",
      "('A65016', 'M') 8\n",
      "('D03994', 'O') 8\n",
      "('I03417', 'G') 8\n",
      "('I03423', 'D') 8\n",
      "('E19939', '4') 8\n",
      "('B71229', '7') 8\n",
      "('H99328', 'D') 8\n",
      "('H94998', 'G') 8\n",
      "('G74771', 'K') 8\n",
      "('011071', 'D') 8\n",
      "('J56288', 'B') 8\n",
      "('F80509', 'E') 8\n",
      "('A83263', 'S') 8\n",
      "('009797', 'J') 8\n",
      "('I88534', 'X') 8\n",
      "('G85024', 'Y') 8\n",
      "('H93641', 'D') 8\n",
      "('I01035', 'D') 8\n",
      "('H99959', 'G') 8\n",
      "('I66840', 'B') 8\n",
      "('E27071', 'B') 8\n",
      "('I03684', 'D') 8\n",
      "('I95543', 'X') 8\n",
      "('H92476', 'D') 8\n",
      "('I00817', 'D') 8\n",
      "('D02659', '8') 8\n",
      "('C02650', '9') 8\n",
      "('I03918', 'D') 8\n",
      "('E86130', 'E') 8\n",
      "('I03067', 'D') 8\n",
      "('001647', 'U') 8\n",
      "('E99937', 'I') 8\n",
      "('H98999', 'D') 8\n",
      "('E17546', 'B') 8\n",
      "('A31033', 'R') 8\n",
      "('D83747', 'L') 8\n",
      "('F27097', 'Y') 8\n",
      "('I03053', 'D') 8\n",
      "('A99163', '8') 8\n",
      "('G57558', 'E') 8\n",
      "('A06655', 'B') 8\n",
      "('A21472', 'B') 8\n",
      "('G15809', '1') 8\n",
      "('F11666', '9') 8\n",
      "('J61346', 'F') 8\n",
      "('B83078', '7') 8\n",
      "('C22367', 'L') 8\n",
      "('I03814', 'D') 8\n",
      "('E67257', 'I') 8\n",
      "('I03812', 'D') 8\n",
      "('122645', '4') 8\n",
      "('F37028', '9') 8\n",
      "('I71125', 'B') 8\n",
      "('F43553', 'E') 8\n",
      "('G89157', 'I') 8\n",
      "('I03719', 'D') 8\n",
      "('E30032', 'B') 8\n",
      "('B02505', '7') 8\n",
      "('F19085', 'I') 8\n",
      "('H62189', 'I') 7\n",
      "('C89646', '4') 7\n",
      "('E25521', '4') 7\n",
      "('J98095', 'B') 7\n",
      "('A00844', 'B') 7\n",
      "('E03166', '8') 7\n",
      "('G94570', '3') 7\n",
      "('G90527', 'B') 7\n",
      "('E19116', 'B') 7\n",
      "('B65150', '7') 7\n",
      "('J66906', '6') 7\n",
      "('I01343', 'D') 7\n",
      "('A60497', 'M') 7\n",
      "('J70566', '6') 7\n",
      "('A99763', '8') 7\n",
      "('H09574', 'J') 7\n",
      "('E91231', 'E') 7\n",
      "('A08110', 'B') 7\n",
      "('I00714', 'D') 7\n",
      "('E10934', '8') 7\n",
      "('A33932', '6') 7\n",
      "('A02816', 'B') 7\n",
      "('D85675', 'L') 7\n",
      "('B74122', 'S') 7\n",
      "('A13067', 'B') 7\n",
      "('A60220', 'U') 7\n",
      "('E71854', 'I') 7\n",
      "('H99008', 'D') 7\n",
      "('D86148', 'L') 7\n",
      "('A07986', 'S') 7\n",
      "('H77389', 'D') 7\n",
      "('C03423', '9') 7\n",
      "('G24254', 'I') 7\n",
      "('B00125', 'O') 7\n",
      "('G77220', 'J') 7\n",
      "('G58390', 'B') 7\n",
      "('H15502', 'I') 7\n",
      "('E65389', '8') 7\n",
      "('J20923', 'B') 7\n",
      "('H99597', 'D') 7\n",
      "('H98194', 'D') 7\n",
      "('17860', '9') 7\n",
      "('I80770', 'W') 7\n",
      "('I03018', 'D') 7\n",
      "('H81764', 'J') 7\n",
      "('X24556', 'B') 7\n",
      "('I74992', 'B') 7\n",
      "('D19128', 'A') 7\n",
      "('I02297', 'Y') 7\n",
      "('B64418', 'S') 7\n",
      "('I03536', 'D') 7\n",
      "('G45359', 'B') 7\n",
      "('E33760', '8') 7\n",
      "('C46300', '9') 7\n",
      "('A76198', 'U') 7\n",
      "('B40793', 'B') 7\n",
      "('H07741', 'J') 7\n",
      "('G17368', 'G') 7\n",
      "('D84752', 'L') 7\n",
      "('H77711', 'D') 7\n",
      "('H05373', 'I') 7\n",
      "('I78955', 'W') 7\n",
      "('G85511', 'D') 7\n",
      "('F06545', '9') 7\n",
      "('J58486', 'F') 7\n",
      "('C46924', '8') 7\n",
      "('A15385', 'B') 7\n",
      "('11331', 'J') 7\n",
      "('B72871', 'S') 7\n",
      "('H80235', 'J') 7\n",
      "('13846', 'I') 7\n",
      "('I03798', 'D') 7\n",
      "('015066', '3') 7\n",
      "('G18533', '1') 7\n",
      "('F52616', 'B') 7\n",
      "('C74333', 'L') 7\n",
      "('F70468', 'J') 7\n",
      "('H01507', 'K') 7\n",
      "('J08073', 'X') 7\n",
      "('J54419', '6') 7\n",
      "('I03929', 'D') 7\n",
      "('I03965', 'D') 7\n",
      "('G81299', 'J') 7\n",
      "('I00122', 'D') 7\n",
      "('H99527', 'D') 7\n",
      "('H01234', 'K') 7\n",
      "('H94218', 'D') 7\n",
      "('H22869', 'Y') 7\n",
      "('E11127', '8') 7\n",
      "('E68286', 'I') 7\n",
      "('A65899', 'P') 7\n",
      "('I10344', 'F') 7\n",
      "('H87136', 'D') 7\n",
      "('I92799', 'X') 7\n",
      "('I01752', 'D') 7\n",
      "('F22754', 'B') 7\n",
      "('C60581', '4') 7\n",
      "('A17057', 'B') 7\n",
      "('H98945', 'D') 7\n",
      "('H51408', 'F') 7\n",
      "('H99233', 'D') 7\n",
      "('I11253', 'E') 7\n",
      "('C10050', '9') 7\n",
      "('H99270', 'D') 7\n",
      "('B24743', '6') 7\n",
      "('H98350', 'G') 7\n",
      "('E77868', 'A') 7\n",
      "('E41348', 'B') 7\n",
      "('E17799', 'B') 7\n",
      "('A32782', '6') 7\n",
      "('A55534', 'U') 7\n",
      "('I01039', 'D') 7\n",
      "('H99169', 'D') 7\n",
      "('I03700', 'D') 7\n",
      "('H46133', 'D') 7\n",
      "('H01881', '3') 7\n",
      "('G00370', 'I') 7\n",
      "('B59968', 'R') 7\n",
      "('I03490', 'D') 7\n",
      "('H98759', 'D') 7\n",
      "('C11236', '9') 7\n",
      "('E16689', '4') 7\n",
      "('17630', '2') 7\n",
      "('H96006', 'D') 7\n",
      "('F83313', 'B') 7\n",
      "('H64109', 'B') 7\n",
      "('3654', 'O') 7\n",
      "('I00307', 'D') 7\n",
      "('G73455', '3') 7\n",
      "('J68327', 'F') 7\n",
      "('E78814', 'E') 7\n",
      "('I01423', 'D') 7\n",
      "('I02214', 'D') 7\n",
      "('B53722', 'S') 7\n",
      "('I78855', 'W') 7\n",
      "('I39655', 'E') 7\n",
      "('A15706', '6') 7\n",
      "('I02583', 'D') 6\n",
      "('D23755', '9') 6\n",
      "('A23560', '6') 6\n",
      "('B15559', 'R') 6\n",
      "('H99678', 'D') 6\n",
      "('B41668', 'R') 6\n",
      "('C04238', '9') 6\n",
      "('E95659', '6') 6\n",
      "('E35574', 'B') 6\n",
      "('B53853', 'S') 6\n",
      "('B25962', 'M') 6\n",
      "('H97318', 'D') 6\n",
      "('I03709', 'D') 6\n",
      "('D03087', 'O') 6\n",
      "('107417', '4') 6\n",
      "('H98230', 'D') 6\n",
      "('E33490', '4') 6\n",
      "('E00460', '6') 6\n",
      "('J88667', '6') 6\n",
      "('109523', '4') 6\n",
      "('109518', '4') 6\n",
      "('J63589', '6') 6\n",
      "('I02646', 'D') 6\n",
      "('115056', '4') 6\n",
      "('A66779', 'T') 6\n",
      "('B07666', 'R') 6\n",
      "('A05326', 'S') 6\n",
      "('7848', '3') 6\n",
      "('C29993', '9') 6\n",
      "('G14821', 'K') 6\n",
      "('B36371', '6') 6\n",
      "('H35996', 'I') 6\n",
      "('G75455', 'J') 6\n",
      "('C49603', '4') 6\n",
      "('A90409', 'U') 6\n",
      "('H78446', 'B') 6\n",
      "('A14686', 'B') 6\n",
      "('C52913', 'O') 6\n",
      "('A46701', 'R') 6\n",
      "('B36536', '8') 6\n",
      "('E15902', '8') 6\n",
      "('I48135', 'E') 6\n",
      "('I03285', 'D') 6\n",
      "('22', 'Q') 6\n",
      "('I02339', 'D') 6\n",
      "('H90288', 'D') 6\n",
      "('B93530', 'O') 6\n",
      "('B72345', '8') 6\n",
      "('A70765', 'P') 6\n",
      "('A12959', 'B') 6\n",
      "('H98480', 'D') 6\n",
      "('C58979', '9') 6\n",
      "('042016', 'X') 6\n",
      "('B30728', 'R') 6\n",
      "('I00636', 'D') 6\n",
      "('B05109', 'R') 6\n",
      "('E72405', 'B') 6\n",
      "('I02337', 'D') 6\n",
      "('H43643', 'I') 6\n",
      "('014922', 'G') 6\n",
      "('J99132', '6') 6\n",
      "('E47182', 'A') 6\n",
      "('G96618', 'D') 6\n",
      "('J71949', 'F') 6\n",
      "('36456', '2') 6\n",
      "('B67726', 'S') 6\n",
      "('B05553', 'R') 6\n",
      "('4174', 'M') 6\n",
      "('E72040', 'B') 6\n",
      "('I03606', 'D') 6\n",
      "('F58986', 'Y') 6\n",
      "('J72782', '6') 6\n",
      "('B66514', 'M') 6\n",
      "('111095', '4') 6\n",
      "('G54079', 'J') 6\n",
      "('A13682', '6') 6\n",
      "('E03196', '8') 6\n",
      "('I02288', 'D') 6\n",
      "('F89651', 'I') 6\n",
      "('I08562', '3') 6\n",
      "('I70354', 'B') 6\n",
      "('A35303', '6') 6\n",
      "('I02295', 'D') 6\n",
      "('J67609', 'X') 6\n",
      "('J66854', 'F') 6\n",
      "('H37033', 'B') 6\n",
      "('C12652', 'O') 6\n",
      "('55547', 'B') 6\n",
      "('E84291', '9') 6\n",
      "('F11531', 'B') 6\n",
      "('F11556', 'Y') 6\n",
      "('J58931', '6') 6\n",
      "('D03504', '6') 6\n",
      "('E23593', 'B') 6\n",
      "('B18548', 'M') 6\n",
      "('I08608', '3') 6\n",
      "('I03571', 'D') 6\n",
      "('A74717', 'U') 6\n",
      "('I00322', 'Y') 6\n",
      "('I03573', 'D') 6\n",
      "('E03367', 'L') 6\n",
      "('G41999', 'B') 6\n",
      "('J01446', 'B') 6\n",
      "('J34851', 'B') 6\n",
      "('H75037', 'J') 6\n",
      "('H33163', 'I') 6\n",
      "('22349', '2') 6\n",
      "('I02495', 'G') 6\n",
      "('J97907', 'B') 6\n",
      "('9950', 'J') 6\n",
      "('122194', '4') 6\n",
      "('I00873', 'D') 6\n",
      "('A19437', 'B') 6\n",
      "('D96115', '6') 6\n",
      "('H44082', 'I') 6\n",
      "('12358', 'G') 6\n",
      "('B48224', 'M') 6\n",
      "('G76810', '3') 6\n",
      "('D82548', 'L') 6\n",
      "('D81163', 'L') 6\n",
      "('I00938', 'D') 6\n",
      "('E10549', '6') 6\n",
      "('I02530', 'G') 6\n",
      "('I03299', 'D') 6\n",
      "('H99856', 'J') 6\n",
      "('C13668', '6') 6\n",
      "('I03293', 'D') 6\n",
      "('E25832', 'B') 6\n",
      "('46866', 'B') 6\n",
      "('D48020', '9') 6\n",
      "('E81920', 'E') 6\n",
      "('I00827', 'D') 6\n",
      "('30698', '2') 6\n",
      "('F72062', 'B') 6\n",
      "('E89229', 'E') 6\n",
      "('F97495', 'E') 6\n"
     ]
    },
    {
     "name": "stdout",
     "output_type": "stream",
     "text": [
      "('G85015', 'Y') 6\n",
      "('G41850', 'E') 6\n",
      "('H36573', 'I') 6\n",
      "('111711', '4') 6\n",
      "('E88267', 'A') 6\n",
      "('E04898', '8') 6\n",
      "('E05286', '6') 6\n",
      "('037305', '2') 6\n",
      "('G84249', 'I') 6\n",
      "('H00525', 'K') 6\n",
      "('E71966', 'I') 6\n",
      "('F87338', 'X') 6\n",
      "('I00101', 'D') 6\n",
      "('H92420', 'D') 6\n",
      "('F43107', '1') 6\n",
      "('I52325', 'F') 6\n",
      "('E01891', '4') 6\n",
      "('D01970', '9') 6\n",
      "('I25733', '3') 6\n",
      "('I00815', 'D') 6\n",
      "('H33125', 'Y') 6\n",
      "('D93901', 'A') 6\n",
      "('123016', '4') 6\n",
      "('H20516', 'D') 6\n",
      "('11963', '3') 6\n",
      "('D93488', '4') 6\n",
      "('I03752', 'D') 6\n",
      "('H91996', 'D') 6\n",
      "('B09648', 'O') 6\n",
      "('E06745', '8') 6\n",
      "('E77556', 'E') 6\n",
      "('I03148', 'D') 6\n",
      "('C09732', '9') 6\n",
      "('H50758', 'E') 6\n",
      "('A48370', 'R') 6\n",
      "('E27787', 'B') 6\n",
      "('X32494', 'B') 6\n",
      "('G16475', 'J') 6\n",
      "('G16476', '1') 6\n",
      "('A23347', 'B') 6\n",
      "('E85509', 'E') 6\n",
      "('3811', 'M') 6\n",
      "('A31244', 'U') 6\n",
      "('B74696', 'S') 6\n",
      "('H96157', 'B') 6\n",
      "('I22480', 'B') 6\n",
      "('I59008', 'Y') 6\n",
      "('J90296', 'B') 6\n",
      "('H38774', 'E') 6\n",
      "('F13954', '9') 6\n",
      "('F91290', 'I') 6\n",
      "('X33072', 'B') 6\n",
      "('F92867', 'X') 6\n",
      "('C69300', '9') 6\n",
      "('A60944', '6') 6\n",
      "('C04430', '8') 6\n",
      "('A71867', 'U') 6\n",
      "('C06370', '6') 6\n",
      "('I01251', 'D') 6\n",
      "('A27036', '6') 6\n",
      "('I01265', 'D') 6\n",
      "('J66004', 'X') 6\n",
      "('E05639', '8') 6\n",
      "('G97517', 'B') 6\n",
      "('A33221', '6') 6\n",
      "('B23795', '8') 6\n",
      "('H81242', 'B') 6\n",
      "('1296', 'S') 6\n",
      "('A80417', 'S') 6\n",
      "('A45681', 'U') 6\n",
      "('H98836', 'D') 6\n",
      "('H93906', 'D') 6\n",
      "('J62399', 'F') 6\n",
      "('G48066', 'K') 6\n",
      "('B17850', 'S') 6\n",
      "('G38305', 'J') 6\n",
      "('E83294', 'A') 6\n",
      "('I03809', 'D') 6\n",
      "('D95376', '6') 6\n",
      "('A12150', 'B') 6\n",
      "('H93365', 'D') 6\n",
      "('H98776', 'D') 6\n",
      "('I72405', 'X') 6\n",
      "('H95089', 'Y') 6\n",
      "('B17168', '6') 6\n",
      "('E19989', 'B') 6\n",
      "('E16789', '4') 6\n",
      "('B20783', '8') 6\n",
      "('H99280', 'D') 6\n",
      "('D74937', '8') 6\n",
      "('H48688', 'B') 6\n",
      "('E31941', 'B') 6\n",
      "('I22328', 'F') 6\n",
      "('C68491', '6') 6\n",
      "('G03856', 'K') 6\n",
      "('G58071', 'J') 6\n",
      "('A94197', 'R') 6\n",
      "('E32912', 'B') 6\n",
      "('F88203', 'B') 6\n",
      "('A05132', 'B') 6\n",
      "('I03969', 'D') 6\n",
      "('F01304', 'E') 6\n",
      "('E44648', 'A') 6\n",
      "('H93355', 'D') 6\n",
      "('15600', '3') 6\n",
      "('121091', '4') 6\n",
      "('H71112', '3') 6\n",
      "('I01357', 'D') 6\n",
      "('F65553', '3') 6\n",
      "('D69387', '6') 6\n",
      "('E31852', '9') 6\n",
      "('G25957', 'K') 6\n",
      "('D15174', '6') 6\n",
      "('E16742', '6') 6\n",
      "('001691', 'U') 6\n",
      "('020322', '7') 6\n",
      "('I01748', 'D') 6\n",
      "('G85940', 'B') 6\n",
      "('A07486', 'S') 6\n",
      "('D95349', '6') 6\n",
      "('H59301', 'J') 6\n",
      "('H99369', 'D') 6\n",
      "('C06650', '6') 6\n",
      "('C48908', '6') 6\n",
      "('E59489', '6') 6\n",
      "('31614', '6') 6\n",
      "('F07745', 'B') 6\n",
      "('A28462', 'U') 6\n",
      "('C89176', 'A') 6\n",
      "('I02804', 'D') 6\n",
      "('H99545', 'D') 6\n",
      "('F38087', 'B') 6\n",
      "('21398', '8') 6\n",
      "('I03868', 'D') 6\n",
      "('A69920', 'R') 6\n",
      "('G54556', 'J') 6\n",
      "('A23192', 'S') 6\n",
      "('B72010', 'M') 6\n",
      "('15728', '9') 6\n",
      "('E56068', '9') 6\n",
      "('A98989', '8') 6\n",
      "('E10875', '6') 6\n",
      "('D99180', '6') 6\n",
      "('I01176', 'D') 6\n",
      "('J49835', 'B') 6\n",
      "('E10918', '8') 6\n",
      "('B47961', 'O') 6\n",
      "('F63973', '3') 6\n",
      "('C82728', '8') 6\n",
      "('H88867', 'D') 6\n",
      "('A09867', 'S') 6\n",
      "('E90133', 'A') 6\n",
      "('A22277', 'U') 6\n",
      "('I03725', 'D') 6\n",
      "('B64055', 'M') 6\n",
      "('I01942', 'E') 6\n",
      "('J48824', 'B') 6\n",
      "('C21845', 'L') 6\n",
      "('G29108', 'B') 6\n",
      "('E79407', 'E') 6\n",
      "('E83145', 'E') 6\n",
      "('H10764', 'G') 6\n",
      "('H95884', 'D') 6\n",
      "('B06269', 'U') 6\n",
      "('F75130', '1') 6\n",
      "('I13987', '3') 6\n",
      "('H35027', 'I') 6\n",
      "('J40295', 'B') 6\n",
      "('I02773', 'D') 6\n",
      "('D17302', 'L') 6\n",
      "('H98828', 'D') 6\n",
      "('H95772', 'D') 6\n",
      "('A05598', 'S') 6\n",
      "('H95446', 'Y') 6\n",
      "('E32610', 'B') 6\n",
      "('036985', '2') 6\n",
      "('F65451', 'X') 6\n",
      "('I96985', 'B') 6\n",
      "('F80147', 'E') 6\n",
      "('B06195', 'R') 6\n",
      "('E74507', 'I') 6\n",
      "('B58447', 'S') 6\n",
      "636\n"
     ]
    }
   ],
   "source": [
    "count = 0 \n",
    "res = []\n",
    "for i, val in groups_df.iteritems():\n",
    "    if val>5.0:\n",
    "        print(i,val)\n",
    "        res.append(p[p[\"Receipt Number\"] == i[0]][p[\"Store #\"] == i[1]][p[\"dimension\"] >0 ][[\"Line #\", \"Log Dimension\"]].astype(\"float64\"))\n",
    "        count += 1\n",
    "print(count)"
   ]
  },
  {
   "cell_type": "code",
   "execution_count": 139,
   "id": "01110d51",
   "metadata": {},
   "outputs": [
    {
     "data": {
      "text/plain": [
       "0.0800880608620885"
      ]
     },
     "execution_count": 139,
     "metadata": {},
     "output_type": "execute_result"
    }
   ],
   "source": [
    "res[0].corr()[\"Log Dimension\"][\"Line #\"]"
   ]
  },
  {
   "cell_type": "code",
   "execution_count": 149,
   "id": "6b78d98a",
   "metadata": {},
   "outputs": [
    {
     "name": "stdout",
     "output_type": "stream",
     "text": [
      "360\n",
      "256\n"
     ]
    }
   ],
   "source": [
    "d = pd.DataFrame(columns = [\"Line #\", \"Log Dimension\"])\n",
    "strong = 0\n",
    "weak = 0 \n",
    "s = []\n",
    "w = []\n",
    "for r in res:\n",
    "    if r.corr()[\"Log Dimension\"][\"Line #\"] >= 0.3 or r.corr()[\"Log Dimension\"][\"Line #\"] <= -0.3:\n",
    "        strong += 1\n",
    "        d.append(r.corr(), ignore_index = True)\n",
    "    elif -.3 < r.corr()[\"Log Dimension\"][\"Line #\"]< 0.3:\n",
    "        weak += 1\n",
    "        w.append(r)\n",
    "    #else:\n",
    "        #print(r.corr())\n",
    "print(strong)\n",
    "print(weak)\n",
    "    #d = d.append(r, ignore_index = True)\n"
   ]
  },
  {
   "cell_type": "code",
   "execution_count": 150,
   "id": "e0f06a45",
   "metadata": {},
   "outputs": [
    {
     "data": {
      "text/html": [
       "<div>\n",
       "<style scoped>\n",
       "    .dataframe tbody tr th:only-of-type {\n",
       "        vertical-align: middle;\n",
       "    }\n",
       "\n",
       "    .dataframe tbody tr th {\n",
       "        vertical-align: top;\n",
       "    }\n",
       "\n",
       "    .dataframe thead th {\n",
       "        text-align: right;\n",
       "    }\n",
       "</style>\n",
       "<table border=\"1\" class=\"dataframe\">\n",
       "  <thead>\n",
       "    <tr style=\"text-align: right;\">\n",
       "      <th></th>\n",
       "      <th>Line #</th>\n",
       "      <th>Log Dimension</th>\n",
       "    </tr>\n",
       "  </thead>\n",
       "  <tbody>\n",
       "  </tbody>\n",
       "</table>\n",
       "</div>"
      ],
      "text/plain": [
       "Empty DataFrame\n",
       "Columns: [Line #, Log Dimension]\n",
       "Index: []"
      ]
     },
     "execution_count": 150,
     "metadata": {},
     "output_type": "execute_result"
    }
   ],
   "source": [
    "d"
   ]
  },
  {
   "cell_type": "code",
   "execution_count": 134,
   "id": "9e5d216a",
   "metadata": {},
   "outputs": [
    {
     "data": {
      "text/plain": [
       "Index(['Date', 'Transaction Time', 'Customer Number', 'Receipt Number',\n",
       "       'Store #', 'Scanned UPC', 'Item Number', 'Item Description',\n",
       "       'Net Sales Units', 'Item was Scanned', 'Item Type', 'Line #',\n",
       "       'dimension', 'Log Dimension'],\n",
       "      dtype='object')"
      ]
     },
     "execution_count": 134,
     "metadata": {},
     "output_type": "execute_result"
    }
   ],
   "source": [
    "p.columns"
   ]
  },
  {
   "cell_type": "code",
   "execution_count": 91,
   "id": "95913e48",
   "metadata": {},
   "outputs": [],
   "source": [
    "groups_df_1 = p[p[\"dimension\"] >0 ].groupby(by = [\"Receipt Number\", \"Store #\"], dropna = False).size().sort_values(ascending = False).reset_index()"
   ]
  },
  {
   "cell_type": "code",
   "execution_count": 94,
   "id": "ea3fe74a",
   "metadata": {},
   "outputs": [
    {
     "data": {
      "text/html": [
       "<div>\n",
       "<style scoped>\n",
       "    .dataframe tbody tr th:only-of-type {\n",
       "        vertical-align: middle;\n",
       "    }\n",
       "\n",
       "    .dataframe tbody tr th {\n",
       "        vertical-align: top;\n",
       "    }\n",
       "\n",
       "    .dataframe thead th {\n",
       "        text-align: right;\n",
       "    }\n",
       "</style>\n",
       "<table border=\"1\" class=\"dataframe\">\n",
       "  <thead>\n",
       "    <tr style=\"text-align: right;\">\n",
       "      <th></th>\n",
       "      <th>Receipt Number</th>\n",
       "      <th>Store #</th>\n",
       "      <th>0</th>\n",
       "    </tr>\n",
       "  </thead>\n",
       "  <tbody>\n",
       "    <tr>\n",
       "      <th>0</th>\n",
       "      <td>H99393</td>\n",
       "      <td>D</td>\n",
       "      <td>21</td>\n",
       "    </tr>\n",
       "    <tr>\n",
       "      <th>1</th>\n",
       "      <td>I03919</td>\n",
       "      <td>D</td>\n",
       "      <td>21</td>\n",
       "    </tr>\n",
       "    <tr>\n",
       "      <th>2</th>\n",
       "      <td>F83674</td>\n",
       "      <td>3</td>\n",
       "      <td>19</td>\n",
       "    </tr>\n",
       "    <tr>\n",
       "      <th>3</th>\n",
       "      <td>H89212</td>\n",
       "      <td>D</td>\n",
       "      <td>19</td>\n",
       "    </tr>\n",
       "    <tr>\n",
       "      <th>4</th>\n",
       "      <td>H97621</td>\n",
       "      <td>G</td>\n",
       "      <td>18</td>\n",
       "    </tr>\n",
       "    <tr>\n",
       "      <th>...</th>\n",
       "      <td>...</td>\n",
       "      <td>...</td>\n",
       "      <td>...</td>\n",
       "    </tr>\n",
       "    <tr>\n",
       "      <th>805484</th>\n",
       "      <td>D41133</td>\n",
       "      <td>8</td>\n",
       "      <td>1</td>\n",
       "    </tr>\n",
       "    <tr>\n",
       "      <th>805485</th>\n",
       "      <td>D41135</td>\n",
       "      <td>6</td>\n",
       "      <td>1</td>\n",
       "    </tr>\n",
       "    <tr>\n",
       "      <th>805486</th>\n",
       "      <td>D41136</td>\n",
       "      <td>8</td>\n",
       "      <td>1</td>\n",
       "    </tr>\n",
       "    <tr>\n",
       "      <th>805487</th>\n",
       "      <td>D41137</td>\n",
       "      <td>6</td>\n",
       "      <td>1</td>\n",
       "    </tr>\n",
       "    <tr>\n",
       "      <th>805488</th>\n",
       "      <td>Y92805</td>\n",
       "      <td>6</td>\n",
       "      <td>1</td>\n",
       "    </tr>\n",
       "  </tbody>\n",
       "</table>\n",
       "<p>805489 rows × 3 columns</p>\n",
       "</div>"
      ],
      "text/plain": [
       "       Receipt Number Store #   0\n",
       "0              H99393       D  21\n",
       "1              I03919       D  21\n",
       "2              F83674       3  19\n",
       "3              H89212       D  19\n",
       "4              H97621       G  18\n",
       "...               ...     ...  ..\n",
       "805484         D41133       8   1\n",
       "805485         D41135       6   1\n",
       "805486         D41136       8   1\n",
       "805487         D41137       6   1\n",
       "805488         Y92805       6   1\n",
       "\n",
       "[805489 rows x 3 columns]"
      ]
     },
     "execution_count": 94,
     "metadata": {},
     "output_type": "execute_result"
    }
   ],
   "source": [
    "groups_df_1"
   ]
  },
  {
   "cell_type": "code",
   "execution_count": 96,
   "id": "73da04a6",
   "metadata": {},
   "outputs": [
    {
     "name": "stderr",
     "output_type": "stream",
     "text": [
      "/Users/manalshah/opt/anaconda3/envs/tf/lib/python3.7/site-packages/ipykernel_launcher.py:4: UserWarning: Boolean Series key will be reindexed to match DataFrame index.\n",
      "  after removing the cwd from sys.path.\n"
     ]
    },
    {
     "ename": "KeyboardInterrupt",
     "evalue": "",
     "output_type": "error",
     "traceback": [
      "\u001b[0;31m---------------------------------------------------------------------------\u001b[0m",
      "\u001b[0;31mKeyboardInterrupt\u001b[0m                         Traceback (most recent call last)",
      "\u001b[0;32m/var/folders/pr/vbbckh1132s7_94b6yhys1rr0000gn/T/ipykernel_90004/2256801289.py\u001b[0m in \u001b[0;36m<module>\u001b[0;34m\u001b[0m\n\u001b[1;32m      2\u001b[0m \u001b[0mres\u001b[0m \u001b[0;34m=\u001b[0m \u001b[0;34m[\u001b[0m\u001b[0;34m]\u001b[0m\u001b[0;34m\u001b[0m\u001b[0;34m\u001b[0m\u001b[0m\n\u001b[1;32m      3\u001b[0m \u001b[0;32mfor\u001b[0m \u001b[0mr\u001b[0m\u001b[0;34m,\u001b[0m \u001b[0ms\u001b[0m \u001b[0;32min\u001b[0m \u001b[0mrs\u001b[0m\u001b[0;34m:\u001b[0m\u001b[0;34m\u001b[0m\u001b[0;34m\u001b[0m\u001b[0m\n\u001b[0;32m----> 4\u001b[0;31m     \u001b[0mres\u001b[0m\u001b[0;34m.\u001b[0m\u001b[0mappend\u001b[0m\u001b[0;34m(\u001b[0m\u001b[0mp\u001b[0m\u001b[0;34m[\u001b[0m\u001b[0mp\u001b[0m\u001b[0;34m[\u001b[0m\u001b[0;34m\"Receipt Number\"\u001b[0m\u001b[0;34m]\u001b[0m \u001b[0;34m==\u001b[0m \u001b[0mr\u001b[0m\u001b[0;34m]\u001b[0m\u001b[0;34m[\u001b[0m\u001b[0mp\u001b[0m\u001b[0;34m[\u001b[0m\u001b[0;34m\"Store #\"\u001b[0m\u001b[0;34m]\u001b[0m \u001b[0;34m==\u001b[0m \u001b[0ms\u001b[0m\u001b[0;34m]\u001b[0m\u001b[0;34m[\u001b[0m\u001b[0mp\u001b[0m\u001b[0;34m[\u001b[0m\u001b[0;34m\"dimension\"\u001b[0m\u001b[0;34m]\u001b[0m \u001b[0;34m>\u001b[0m\u001b[0;36m0\u001b[0m \u001b[0;34m]\u001b[0m\u001b[0;34m[\u001b[0m\u001b[0;34m[\u001b[0m\u001b[0;34m\"Line #\"\u001b[0m\u001b[0;34m,\u001b[0m \u001b[0;34m\"dimension\"\u001b[0m\u001b[0;34m]\u001b[0m\u001b[0;34m]\u001b[0m\u001b[0;34m.\u001b[0m\u001b[0mastype\u001b[0m\u001b[0;34m(\u001b[0m\u001b[0;34m\"float64\"\u001b[0m\u001b[0;34m)\u001b[0m\u001b[0;34m)\u001b[0m\u001b[0;34m\u001b[0m\u001b[0;34m\u001b[0m\u001b[0m\n\u001b[0m\u001b[1;32m      5\u001b[0m \u001b[0;34m\u001b[0m\u001b[0m\n\u001b[1;32m      6\u001b[0m \u001b[0mpd\u001b[0m\u001b[0;34m.\u001b[0m\u001b[0mDataFrame\u001b[0m\u001b[0;34m(\u001b[0m\u001b[0mdata\u001b[0m \u001b[0;34m=\u001b[0m \u001b[0mres\u001b[0m\u001b[0;34m)\u001b[0m\u001b[0;34m\u001b[0m\u001b[0;34m\u001b[0m\u001b[0m\n",
      "\u001b[0;32m~/opt/anaconda3/envs/tf/lib/python3.7/site-packages/pandas/core/ops/common.py\u001b[0m in \u001b[0;36mnew_method\u001b[0;34m(self, other)\u001b[0m\n\u001b[1;32m     67\u001b[0m         \u001b[0mother\u001b[0m \u001b[0;34m=\u001b[0m \u001b[0mitem_from_zerodim\u001b[0m\u001b[0;34m(\u001b[0m\u001b[0mother\u001b[0m\u001b[0;34m)\u001b[0m\u001b[0;34m\u001b[0m\u001b[0;34m\u001b[0m\u001b[0m\n\u001b[1;32m     68\u001b[0m \u001b[0;34m\u001b[0m\u001b[0m\n\u001b[0;32m---> 69\u001b[0;31m         \u001b[0;32mreturn\u001b[0m \u001b[0mmethod\u001b[0m\u001b[0;34m(\u001b[0m\u001b[0mself\u001b[0m\u001b[0;34m,\u001b[0m \u001b[0mother\u001b[0m\u001b[0;34m)\u001b[0m\u001b[0;34m\u001b[0m\u001b[0;34m\u001b[0m\u001b[0m\n\u001b[0m\u001b[1;32m     70\u001b[0m \u001b[0;34m\u001b[0m\u001b[0m\n\u001b[1;32m     71\u001b[0m     \u001b[0;32mreturn\u001b[0m \u001b[0mnew_method\u001b[0m\u001b[0;34m\u001b[0m\u001b[0;34m\u001b[0m\u001b[0m\n",
      "\u001b[0;32m~/opt/anaconda3/envs/tf/lib/python3.7/site-packages/pandas/core/arraylike.py\u001b[0m in \u001b[0;36m__eq__\u001b[0;34m(self, other)\u001b[0m\n\u001b[1;32m     30\u001b[0m     \u001b[0;34m@\u001b[0m\u001b[0munpack_zerodim_and_defer\u001b[0m\u001b[0;34m(\u001b[0m\u001b[0;34m\"__eq__\"\u001b[0m\u001b[0;34m)\u001b[0m\u001b[0;34m\u001b[0m\u001b[0;34m\u001b[0m\u001b[0m\n\u001b[1;32m     31\u001b[0m     \u001b[0;32mdef\u001b[0m \u001b[0m__eq__\u001b[0m\u001b[0;34m(\u001b[0m\u001b[0mself\u001b[0m\u001b[0;34m,\u001b[0m \u001b[0mother\u001b[0m\u001b[0;34m)\u001b[0m\u001b[0;34m:\u001b[0m\u001b[0;34m\u001b[0m\u001b[0;34m\u001b[0m\u001b[0m\n\u001b[0;32m---> 32\u001b[0;31m         \u001b[0;32mreturn\u001b[0m \u001b[0mself\u001b[0m\u001b[0;34m.\u001b[0m\u001b[0m_cmp_method\u001b[0m\u001b[0;34m(\u001b[0m\u001b[0mother\u001b[0m\u001b[0;34m,\u001b[0m \u001b[0moperator\u001b[0m\u001b[0;34m.\u001b[0m\u001b[0meq\u001b[0m\u001b[0;34m)\u001b[0m\u001b[0;34m\u001b[0m\u001b[0;34m\u001b[0m\u001b[0m\n\u001b[0m\u001b[1;32m     33\u001b[0m \u001b[0;34m\u001b[0m\u001b[0m\n\u001b[1;32m     34\u001b[0m     \u001b[0;34m@\u001b[0m\u001b[0munpack_zerodim_and_defer\u001b[0m\u001b[0;34m(\u001b[0m\u001b[0;34m\"__ne__\"\u001b[0m\u001b[0;34m)\u001b[0m\u001b[0;34m\u001b[0m\u001b[0;34m\u001b[0m\u001b[0m\n",
      "\u001b[0;32m~/opt/anaconda3/envs/tf/lib/python3.7/site-packages/pandas/core/series.py\u001b[0m in \u001b[0;36m_cmp_method\u001b[0;34m(self, other, op)\u001b[0m\n\u001b[1;32m   5500\u001b[0m \u001b[0;34m\u001b[0m\u001b[0m\n\u001b[1;32m   5501\u001b[0m         \u001b[0;32mwith\u001b[0m \u001b[0mnp\u001b[0m\u001b[0;34m.\u001b[0m\u001b[0merrstate\u001b[0m\u001b[0;34m(\u001b[0m\u001b[0mall\u001b[0m\u001b[0;34m=\u001b[0m\u001b[0;34m\"ignore\"\u001b[0m\u001b[0;34m)\u001b[0m\u001b[0;34m:\u001b[0m\u001b[0;34m\u001b[0m\u001b[0;34m\u001b[0m\u001b[0m\n\u001b[0;32m-> 5502\u001b[0;31m             \u001b[0mres_values\u001b[0m \u001b[0;34m=\u001b[0m \u001b[0mops\u001b[0m\u001b[0;34m.\u001b[0m\u001b[0mcomparison_op\u001b[0m\u001b[0;34m(\u001b[0m\u001b[0mlvalues\u001b[0m\u001b[0;34m,\u001b[0m \u001b[0mrvalues\u001b[0m\u001b[0;34m,\u001b[0m \u001b[0mop\u001b[0m\u001b[0;34m)\u001b[0m\u001b[0;34m\u001b[0m\u001b[0;34m\u001b[0m\u001b[0m\n\u001b[0m\u001b[1;32m   5503\u001b[0m \u001b[0;34m\u001b[0m\u001b[0m\n\u001b[1;32m   5504\u001b[0m         \u001b[0;32mreturn\u001b[0m \u001b[0mself\u001b[0m\u001b[0;34m.\u001b[0m\u001b[0m_construct_result\u001b[0m\u001b[0;34m(\u001b[0m\u001b[0mres_values\u001b[0m\u001b[0;34m,\u001b[0m \u001b[0mname\u001b[0m\u001b[0;34m=\u001b[0m\u001b[0mres_name\u001b[0m\u001b[0;34m)\u001b[0m\u001b[0;34m\u001b[0m\u001b[0;34m\u001b[0m\u001b[0m\n",
      "\u001b[0;32m~/opt/anaconda3/envs/tf/lib/python3.7/site-packages/pandas/core/ops/array_ops.py\u001b[0m in \u001b[0;36mcomparison_op\u001b[0;34m(left, right, op)\u001b[0m\n\u001b[1;32m    282\u001b[0m \u001b[0;34m\u001b[0m\u001b[0m\n\u001b[1;32m    283\u001b[0m     \u001b[0;32melif\u001b[0m \u001b[0mis_object_dtype\u001b[0m\u001b[0;34m(\u001b[0m\u001b[0mlvalues\u001b[0m\u001b[0;34m.\u001b[0m\u001b[0mdtype\u001b[0m\u001b[0;34m)\u001b[0m \u001b[0;32mor\u001b[0m \u001b[0misinstance\u001b[0m\u001b[0;34m(\u001b[0m\u001b[0mrvalues\u001b[0m\u001b[0;34m,\u001b[0m \u001b[0mstr\u001b[0m\u001b[0;34m)\u001b[0m\u001b[0;34m:\u001b[0m\u001b[0;34m\u001b[0m\u001b[0;34m\u001b[0m\u001b[0m\n\u001b[0;32m--> 284\u001b[0;31m         \u001b[0mres_values\u001b[0m \u001b[0;34m=\u001b[0m \u001b[0mcomp_method_OBJECT_ARRAY\u001b[0m\u001b[0;34m(\u001b[0m\u001b[0mop\u001b[0m\u001b[0;34m,\u001b[0m \u001b[0mlvalues\u001b[0m\u001b[0;34m,\u001b[0m \u001b[0mrvalues\u001b[0m\u001b[0;34m)\u001b[0m\u001b[0;34m\u001b[0m\u001b[0;34m\u001b[0m\u001b[0m\n\u001b[0m\u001b[1;32m    285\u001b[0m \u001b[0;34m\u001b[0m\u001b[0m\n\u001b[1;32m    286\u001b[0m     \u001b[0;32melse\u001b[0m\u001b[0;34m:\u001b[0m\u001b[0;34m\u001b[0m\u001b[0;34m\u001b[0m\u001b[0m\n",
      "\u001b[0;32m~/opt/anaconda3/envs/tf/lib/python3.7/site-packages/pandas/core/ops/array_ops.py\u001b[0m in \u001b[0;36mcomp_method_OBJECT_ARRAY\u001b[0;34m(op, x, y)\u001b[0m\n\u001b[1;32m     71\u001b[0m         \u001b[0mresult\u001b[0m \u001b[0;34m=\u001b[0m \u001b[0mlibops\u001b[0m\u001b[0;34m.\u001b[0m\u001b[0mvec_compare\u001b[0m\u001b[0;34m(\u001b[0m\u001b[0mx\u001b[0m\u001b[0;34m.\u001b[0m\u001b[0mravel\u001b[0m\u001b[0;34m(\u001b[0m\u001b[0;34m)\u001b[0m\u001b[0;34m,\u001b[0m \u001b[0my\u001b[0m\u001b[0;34m.\u001b[0m\u001b[0mravel\u001b[0m\u001b[0;34m(\u001b[0m\u001b[0;34m)\u001b[0m\u001b[0;34m,\u001b[0m \u001b[0mop\u001b[0m\u001b[0;34m)\u001b[0m\u001b[0;34m\u001b[0m\u001b[0;34m\u001b[0m\u001b[0m\n\u001b[1;32m     72\u001b[0m     \u001b[0;32melse\u001b[0m\u001b[0;34m:\u001b[0m\u001b[0;34m\u001b[0m\u001b[0;34m\u001b[0m\u001b[0m\n\u001b[0;32m---> 73\u001b[0;31m         \u001b[0mresult\u001b[0m \u001b[0;34m=\u001b[0m \u001b[0mlibops\u001b[0m\u001b[0;34m.\u001b[0m\u001b[0mscalar_compare\u001b[0m\u001b[0;34m(\u001b[0m\u001b[0mx\u001b[0m\u001b[0;34m.\u001b[0m\u001b[0mravel\u001b[0m\u001b[0;34m(\u001b[0m\u001b[0;34m)\u001b[0m\u001b[0;34m,\u001b[0m \u001b[0my\u001b[0m\u001b[0;34m,\u001b[0m \u001b[0mop\u001b[0m\u001b[0;34m)\u001b[0m\u001b[0;34m\u001b[0m\u001b[0;34m\u001b[0m\u001b[0m\n\u001b[0m\u001b[1;32m     74\u001b[0m     \u001b[0;32mreturn\u001b[0m \u001b[0mresult\u001b[0m\u001b[0;34m.\u001b[0m\u001b[0mreshape\u001b[0m\u001b[0;34m(\u001b[0m\u001b[0mx\u001b[0m\u001b[0;34m.\u001b[0m\u001b[0mshape\u001b[0m\u001b[0;34m)\u001b[0m\u001b[0;34m\u001b[0m\u001b[0;34m\u001b[0m\u001b[0m\n\u001b[1;32m     75\u001b[0m \u001b[0;34m\u001b[0m\u001b[0m\n",
      "\u001b[0;31mKeyboardInterrupt\u001b[0m: "
     ]
    }
   ],
   "source": [
    "rs = list(groups_df.index)#[[\"Line #\", \"dimension\"]].astype(\"float64\").corr()\n",
    "res = []\n",
    "for r, s in rs:\n",
    "    res.append(p[p[\"Receipt Number\"] == r][p[\"Store #\"] == s][p[\"dimension\"] >0 ][[\"Line #\", \"dimension\"]].astype(\"float64\"))\n",
    "\n",
    "pd.DataFrame(data = res)"
   ]
  },
  {
   "cell_type": "code",
   "execution_count": 135,
   "id": "01c6addb",
   "metadata": {},
   "outputs": [
    {
     "name": "stderr",
     "output_type": "stream",
     "text": [
      "/Users/manalshah/opt/anaconda3/envs/tf/lib/python3.7/site-packages/ipykernel_launcher.py:1: UserWarning: Boolean Series key will be reindexed to match DataFrame index.\n",
      "  \"\"\"Entry point for launching an IPython kernel.\n"
     ]
    },
    {
     "data": {
      "text/html": [
       "<div>\n",
       "<style scoped>\n",
       "    .dataframe tbody tr th:only-of-type {\n",
       "        vertical-align: middle;\n",
       "    }\n",
       "\n",
       "    .dataframe tbody tr th {\n",
       "        vertical-align: top;\n",
       "    }\n",
       "\n",
       "    .dataframe thead th {\n",
       "        text-align: right;\n",
       "    }\n",
       "</style>\n",
       "<table border=\"1\" class=\"dataframe\">\n",
       "  <thead>\n",
       "    <tr style=\"text-align: right;\">\n",
       "      <th></th>\n",
       "      <th>Line #</th>\n",
       "      <th>Log Dimension</th>\n",
       "    </tr>\n",
       "  </thead>\n",
       "  <tbody>\n",
       "    <tr>\n",
       "      <th>Line #</th>\n",
       "      <td>1.000000</td>\n",
       "      <td>0.154186</td>\n",
       "    </tr>\n",
       "    <tr>\n",
       "      <th>Log Dimension</th>\n",
       "      <td>0.154186</td>\n",
       "      <td>1.000000</td>\n",
       "    </tr>\n",
       "  </tbody>\n",
       "</table>\n",
       "</div>"
      ],
      "text/plain": [
       "                 Line #  Log Dimension\n",
       "Line #         1.000000       0.154186\n",
       "Log Dimension  0.154186       1.000000"
      ]
     },
     "execution_count": 135,
     "metadata": {},
     "output_type": "execute_result"
    }
   ],
   "source": [
    "p[p[\"Receipt Number\"] == \"I03919\"][p[\"Store #\"] == \"D\"][p[\"dimension\"] >0 ][[\"Line #\", \"Log Dimension\"]].astype(\"float64\").corr()"
   ]
  },
  {
   "cell_type": "code",
   "execution_count": 136,
   "id": "ffc70328",
   "metadata": {},
   "outputs": [
    {
     "data": {
      "text/html": [
       "<div>\n",
       "<style scoped>\n",
       "    .dataframe tbody tr th:only-of-type {\n",
       "        vertical-align: middle;\n",
       "    }\n",
       "\n",
       "    .dataframe tbody tr th {\n",
       "        vertical-align: top;\n",
       "    }\n",
       "\n",
       "    .dataframe thead th {\n",
       "        text-align: right;\n",
       "    }\n",
       "</style>\n",
       "<table border=\"1\" class=\"dataframe\">\n",
       "  <thead>\n",
       "    <tr style=\"text-align: right;\">\n",
       "      <th></th>\n",
       "      <th>Line #</th>\n",
       "      <th>Log Dimension</th>\n",
       "    </tr>\n",
       "  </thead>\n",
       "  <tbody>\n",
       "    <tr>\n",
       "      <th>Line #</th>\n",
       "      <td>1.000000</td>\n",
       "      <td>-0.022053</td>\n",
       "    </tr>\n",
       "    <tr>\n",
       "      <th>Log Dimension</th>\n",
       "      <td>-0.022053</td>\n",
       "      <td>1.000000</td>\n",
       "    </tr>\n",
       "  </tbody>\n",
       "</table>\n",
       "</div>"
      ],
      "text/plain": [
       "                 Line #  Log Dimension\n",
       "Line #         1.000000      -0.022053\n",
       "Log Dimension -0.022053       1.000000"
      ]
     },
     "execution_count": 136,
     "metadata": {},
     "output_type": "execute_result"
    }
   ],
   "source": [
    "p[ p[\"dimension\"] >0 ][[\"Line #\", \"Log Dimension\"]].astype(\"float64\").corr()"
   ]
  },
  {
   "cell_type": "code",
   "execution_count": 14,
   "id": "0af8c4c9",
   "metadata": {},
   "outputs": [],
   "source": [
    "processed_df.to_csv(\"processed_upcs_1.csv\", index = False)"
   ]
  },
  {
   "cell_type": "code",
   "execution_count": 54,
   "id": "3198ac77",
   "metadata": {},
   "outputs": [],
   "source": [
    "td = processed_df[[\"upc\", \"dimension\"]]\n",
    "td = td.rename(columns = {\"upc\": \"Scanned UPC\"})"
   ]
  },
  {
   "cell_type": "code",
   "execution_count": 37,
   "id": "0c853ce6",
   "metadata": {},
   "outputs": [],
   "source": [
    "sdf = tdf[['Date', 'Transaction Time', 'Customer Number', 'Receipt Number', 'Store #', 'Scanned UPC', 'Item Number',\n",
    "       'Item Description', 'Net Sales Units', 'Item was Scanned','Item Type','Line #']]"
   ]
  },
  {
   "cell_type": "code",
   "execution_count": 128,
   "id": "570420be",
   "metadata": {},
   "outputs": [],
   "source": [
    "import numpy as np\n",
    "td[\"Log Dimension\"] = np.log(td[\"dimension\"].astype('float64'))"
   ]
  },
  {
   "cell_type": "code",
   "execution_count": 129,
   "id": "61b1af29",
   "metadata": {},
   "outputs": [
    {
     "data": {
      "text/html": [
       "<div>\n",
       "<style scoped>\n",
       "    .dataframe tbody tr th:only-of-type {\n",
       "        vertical-align: middle;\n",
       "    }\n",
       "\n",
       "    .dataframe tbody tr th {\n",
       "        vertical-align: top;\n",
       "    }\n",
       "\n",
       "    .dataframe thead th {\n",
       "        text-align: right;\n",
       "    }\n",
       "</style>\n",
       "<table border=\"1\" class=\"dataframe\">\n",
       "  <thead>\n",
       "    <tr style=\"text-align: right;\">\n",
       "      <th></th>\n",
       "      <th>Scanned UPC</th>\n",
       "      <th>dimension</th>\n",
       "      <th>Log Dimension</th>\n",
       "    </tr>\n",
       "  </thead>\n",
       "  <tbody>\n",
       "    <tr>\n",
       "      <th>0</th>\n",
       "      <td>41388000053</td>\n",
       "      <td>26.488</td>\n",
       "      <td>3.276692</td>\n",
       "    </tr>\n",
       "    <tr>\n",
       "      <th>1</th>\n",
       "      <td>32076881085</td>\n",
       "      <td>151.8</td>\n",
       "      <td>5.022564</td>\n",
       "    </tr>\n",
       "    <tr>\n",
       "      <th>4</th>\n",
       "      <td>37604164531</td>\n",
       "      <td>3.948</td>\n",
       "      <td>1.373209</td>\n",
       "    </tr>\n",
       "    <tr>\n",
       "      <th>5</th>\n",
       "      <td>29054121110</td>\n",
       "      <td>210.0</td>\n",
       "      <td>5.347108</td>\n",
       "    </tr>\n",
       "    <tr>\n",
       "      <th>7</th>\n",
       "      <td>45923037290</td>\n",
       "      <td>16.4</td>\n",
       "      <td>2.797281</td>\n",
       "    </tr>\n",
       "  </tbody>\n",
       "</table>\n",
       "</div>"
      ],
      "text/plain": [
       "   Scanned UPC dimension  Log Dimension\n",
       "0  41388000053    26.488       3.276692\n",
       "1  32076881085     151.8       5.022564\n",
       "4  37604164531     3.948       1.373209\n",
       "5  29054121110     210.0       5.347108\n",
       "7  45923037290      16.4       2.797281"
      ]
     },
     "execution_count": 129,
     "metadata": {},
     "output_type": "execute_result"
    }
   ],
   "source": [
    "td.head()"
   ]
  },
  {
   "cell_type": "code",
   "execution_count": 130,
   "id": "2bbe7a67",
   "metadata": {},
   "outputs": [],
   "source": [
    "p = sdf.merge(td, on = \"Scanned UPC\", how = \"left\")\n",
    "#p = tdf.merge(td, on = \"Scanned UPC\", how = \"left\")"
   ]
  },
  {
   "cell_type": "code",
   "execution_count": 39,
   "id": "93cb407a",
   "metadata": {},
   "outputs": [
    {
     "data": {
      "text/plain": [
       "14703463"
      ]
     },
     "execution_count": 39,
     "metadata": {},
     "output_type": "execute_result"
    }
   ],
   "source": [
    "p[\"Log Dimension\"].isna().sum()"
   ]
  },
  {
   "cell_type": "code",
   "execution_count": 42,
   "id": "7ff10a76",
   "metadata": {},
   "outputs": [
    {
     "data": {
      "text/plain": [
       "15630766"
      ]
     },
     "execution_count": 42,
     "metadata": {},
     "output_type": "execute_result"
    }
   ],
   "source": [
    "len(p[\"Scanned UPC\"])"
   ]
  },
  {
   "cell_type": "code",
   "execution_count": 25,
   "id": "7a95691d",
   "metadata": {},
   "outputs": [
    {
     "data": {
      "text/plain": [
       "403.142     10264\n",
       "490.100      8268\n",
       "1.000        8121\n",
       "10.179       7494\n",
       "96.000       6867\n",
       "            ...  \n",
       "2234.325        1\n",
       "159.375         1\n",
       "99.000          1\n",
       "184.800         1\n",
       "184.000         1\n",
       "Name: dimension, Length: 8234, dtype: int64"
      ]
     },
     "execution_count": 25,
     "metadata": {},
     "output_type": "execute_result"
    }
   ],
   "source": [
    "p[\"dimension\"].value_counts()"
   ]
  },
  {
   "cell_type": "code",
   "execution_count": 49,
   "id": "65362151",
   "metadata": {},
   "outputs": [
    {
     "data": {
      "text/plain": [
       "17801141542       3847\n",
       "71121657046       3805\n",
       "71611936194       2985\n",
       "78693597855       2171\n",
       "41333424019       2126\n",
       "                  ... \n",
       "18578002647          1\n",
       "  054067505404       1\n",
       "  028893217091       1\n",
       "  008236132908       1\n",
       "  720343425000       1\n",
       "Name: Scanned UPC, Length: 16657, dtype: int64"
      ]
     },
     "execution_count": 49,
     "metadata": {},
     "output_type": "execute_result"
    }
   ],
   "source": [
    "p[\"Scanned UPC\"].value_counts()"
   ]
  },
  {
   "cell_type": "code",
   "execution_count": 131,
   "id": "2e450944",
   "metadata": {},
   "outputs": [],
   "source": [
    "p.drop(p[p[\"Line #\"] == \"Line #\"].index.to_list(), inplace = True)\n",
    "p[\"Line #\"] = p[\"Line #\"].astype(\"float64\")\n",
    "#p[['Line #', 'dimension']].corr()"
   ]
  },
  {
   "cell_type": "code",
   "execution_count": 44,
   "id": "635c0e73",
   "metadata": {},
   "outputs": [],
   "source": [
    "p.dropna(subset = [\"dimension\"], inplace = True)"
   ]
  },
  {
   "cell_type": "code",
   "execution_count": 45,
   "id": "b11b1364",
   "metadata": {},
   "outputs": [
    {
     "data": {
      "text/plain": [
       "927326"
      ]
     },
     "execution_count": 45,
     "metadata": {},
     "output_type": "execute_result"
    }
   ],
   "source": [
    "len(p[\"Scanned UPC\"])"
   ]
  },
  {
   "cell_type": "code",
   "execution_count": 33,
   "id": "ab0f63d5",
   "metadata": {},
   "outputs": [],
   "source": [
    "p[\"Line #\"] = p[\"Line #\"].astype(\"string\")\n",
    "p[\"dimension\"] = p[\"dimension\"].astype(\"string\")\n",
    "#k = p.groupby(\"Receipt Number\")[\"dimension\"]#.apply(\",\".join).reset_index()\n",
    "#p[\"Item Description\"] = p[\"Item Description\"].str.split(\",\")\n",
    "k = p.groupby(\"Receipt Number\").agg({'dimension': lambda x: ' '.join(x), 'Line #': lambda x: ' '.join(x)})"
   ]
  },
  {
   "cell_type": "code",
   "execution_count": 36,
   "id": "f1682498",
   "metadata": {},
   "outputs": [
    {
     "data": {
      "text/plain": [
       "{'000001': [2051598, 2051599, 2051600, 2051601, 2051602, 2051603, 2051604, 2051605], '000098': [5249539], '000099': [5263349], '000100': [5291167, 5291168, 5291169], '000101': [5292518], '000102': [5306289, 5306292], '000103': [5314559, 5314560], '000104': [5320557], '000106': [5332839], '000107': [5353291, 5353292], '000108': [5354001, 5354002], '000109': [5354407], '000110': [5358313], '000111': [5359572, 5359573], '000112': [5372341], '000113': [5387663], '000114': [5422314, 5422315], '000115': [5425032], '000116': [5429026], '000117': [5429159], '000118': [5431548, 5431549], '000119': [5435889, 5435891], '000120': [5436858], '000121': [5438813, 5438814, 5438815], '000122': [5456116, 5456117], '000123': [5462888, 5462889], '000124': [5470863], '000125': [5473699], '000126': [5483691, 5483692, 5483693], '000127': [5512556], '000132': [5523575], '000134': [5544068, 5544069], '000135': [5555417], '000136': [5561137, 5561138], '000137': [5585810], '000138': [5642308, 5642309, 5642310, 5642311, 5642312], '000139': [5645692, 5645693], '000140': [5660077, 5660078], '000986': [1519788], '000987': [1521695, 1521696, 1521697, 1521698, 1521699], '000988': [1521725], '000989': [1523852, 1523853], '000990': [1530932, 1530933], '000991': [1538148, 1538149, 1538150, 1538151, 1538152, 1538153, 1538154, 1538155, 1538156, 1538157], '000992': [1541727, 1541728, 1541729, 1541730, 1541731, 1541732, 1541733], '000993': [1543755, 1543756], '000995': [1547124, 1547125], '000996': [1547168, 1547170, 1547171, 1547172], '000997': [1550011, 1550012, 1550013, 1550014, 1550015], '000998': [1557031, 1557032, 1557033], '000999': [1571230, 1571231], '001000': [1573909, 1573910], '001001': [1578697, 1578698], '001002': [1580730], '001003': [1581350, 1581351, 1581352, 1581353, 1581354, 1581355, 1581356, 1581357, 1581358, 1581359, 1581360, 1581361, 1581362, 1581363, 1581364, 1581365, 1581366], '001005': [1590841], '001006': [1592831, 1592832], '001008': [1606190], '001009': [1606387, 1606388, 1606389, 1606390, 1606391, 1606392, 1606393], '001010': [1612002, 1612003], '001011': [1626936, 1626937], '001012': [1629319, 1629320, 1629321], '001013': [1653574, 1653575], '001014': [1660666, 1660667, 1660668, 1660669], '001015': [1662857, 1662859], '001016': [1676828, 1676830], '001017': [1689028], '001019': [1702380, 1702381], '001020': [1712050, 1712051, 1712052, 1712053, 1712054], '001021': [1714420], '001022': [1729034], '001023': [1731507, 1731508, 1731509], '001024': [1734051], '001025': [1745101, 1745102, 1745103, 1745104], '001027': [1757081, 1757084, 1757086, 1757087, 1757088, 1757089, 1757090, 1757091, 1757092], '001030': [1771215, 1771217], '001031': [1772456, 1772457], '001032': [1781521, 1781522], '001033': [1792238, 1792239], '001034': [1824060, 1824061], '001035': [1836214, 1836215], '001036': [1837154, 1837155, 1837156, 1837157, 1837158, 1837159, 1837160, 1837161], '001038': [1838808, 1838810, 1838812, 1838813], '001039': [1842318, 1842319], '001040': [1849606], '001042': [1852926, 1852927], '001043': [1856499, 1856500], '001044': [1857845, 1857846, 1857847], '001045': [1857912, 1857913], '001046': [1858985, 1858986, 1858987, 1858988], '001047': [1861651], '001048': [1863876, 1863881], '001049': [1864291], '001051': [1865623, 1865624], '001053': [1878635, 1878636, 1878637, 1878638, 1878639, 1878640, 1878641], '001054': [1880990, 1880991], '001055': [1887360, 1887362], '001056': [1888814, 1888815], '001057': [1896177, 1896178, 1896179, 1896180], '001058': [1899076, 1899077, 1899078, 1899079, 1899080], ...}"
      ]
     },
     "execution_count": 36,
     "metadata": {},
     "output_type": "execute_result"
    }
   ],
   "source": [
    "k.groups"
   ]
  },
  {
   "cell_type": "code",
   "execution_count": 46,
   "id": "6b18b3fe",
   "metadata": {},
   "outputs": [
    {
     "data": {
      "text/plain": [
       "0"
      ]
     },
     "execution_count": 46,
     "metadata": {},
     "output_type": "execute_result"
    }
   ],
   "source": [
    "p[\"dimension\"].isna().sum()"
   ]
  },
  {
   "cell_type": "code",
   "execution_count": 126,
   "id": "e3ebb377",
   "metadata": {},
   "outputs": [
    {
     "ename": "TypeError",
     "evalue": "loop of ufunc does not support argument 0 of type float which has no callable log method",
     "output_type": "error",
     "traceback": [
      "\u001b[0;31m---------------------------------------------------------------------------\u001b[0m",
      "\u001b[0;31mAttributeError\u001b[0m                            Traceback (most recent call last)",
      "\u001b[0;31mAttributeError\u001b[0m: 'float' object has no attribute 'log'",
      "\nThe above exception was the direct cause of the following exception:\n",
      "\u001b[0;31mTypeError\u001b[0m                                 Traceback (most recent call last)",
      "\u001b[0;32m/var/folders/pr/vbbckh1132s7_94b6yhys1rr0000gn/T/ipykernel_90004/2292912386.py\u001b[0m in \u001b[0;36m<module>\u001b[0;34m\u001b[0m\n\u001b[0;32m----> 1\u001b[0;31m \u001b[0mp\u001b[0m\u001b[0;34m[\u001b[0m\u001b[0;34m\"Log Dimension\"\u001b[0m\u001b[0;34m]\u001b[0m \u001b[0;34m=\u001b[0m \u001b[0mnp\u001b[0m\u001b[0;34m.\u001b[0m\u001b[0mlog\u001b[0m\u001b[0;34m(\u001b[0m\u001b[0mp\u001b[0m\u001b[0;34m[\u001b[0m\u001b[0;34m\"dimension\"\u001b[0m\u001b[0;34m]\u001b[0m\u001b[0;34m)\u001b[0m\u001b[0;34m\u001b[0m\u001b[0;34m\u001b[0m\u001b[0m\n\u001b[0m",
      "\u001b[0;32m~/opt/anaconda3/envs/tf/lib/python3.7/site-packages/pandas/core/generic.py\u001b[0m in \u001b[0;36m__array_ufunc__\u001b[0;34m(self, ufunc, method, *inputs, **kwargs)\u001b[0m\n\u001b[1;32m   2030\u001b[0m         \u001b[0mself\u001b[0m\u001b[0;34m,\u001b[0m \u001b[0mufunc\u001b[0m\u001b[0;34m:\u001b[0m \u001b[0mnp\u001b[0m\u001b[0;34m.\u001b[0m\u001b[0mufunc\u001b[0m\u001b[0;34m,\u001b[0m \u001b[0mmethod\u001b[0m\u001b[0;34m:\u001b[0m \u001b[0mstr\u001b[0m\u001b[0;34m,\u001b[0m \u001b[0;34m*\u001b[0m\u001b[0minputs\u001b[0m\u001b[0;34m:\u001b[0m \u001b[0mAny\u001b[0m\u001b[0;34m,\u001b[0m \u001b[0;34m**\u001b[0m\u001b[0mkwargs\u001b[0m\u001b[0;34m:\u001b[0m \u001b[0mAny\u001b[0m\u001b[0;34m\u001b[0m\u001b[0;34m\u001b[0m\u001b[0m\n\u001b[1;32m   2031\u001b[0m     ):\n\u001b[0;32m-> 2032\u001b[0;31m         \u001b[0;32mreturn\u001b[0m \u001b[0marraylike\u001b[0m\u001b[0;34m.\u001b[0m\u001b[0marray_ufunc\u001b[0m\u001b[0;34m(\u001b[0m\u001b[0mself\u001b[0m\u001b[0;34m,\u001b[0m \u001b[0mufunc\u001b[0m\u001b[0;34m,\u001b[0m \u001b[0mmethod\u001b[0m\u001b[0;34m,\u001b[0m \u001b[0;34m*\u001b[0m\u001b[0minputs\u001b[0m\u001b[0;34m,\u001b[0m \u001b[0;34m**\u001b[0m\u001b[0mkwargs\u001b[0m\u001b[0;34m)\u001b[0m\u001b[0;34m\u001b[0m\u001b[0;34m\u001b[0m\u001b[0m\n\u001b[0m\u001b[1;32m   2033\u001b[0m \u001b[0;34m\u001b[0m\u001b[0m\n\u001b[1;32m   2034\u001b[0m     \u001b[0;31m# ideally we would define this to avoid the getattr checks, but\u001b[0m\u001b[0;34m\u001b[0m\u001b[0;34m\u001b[0m\u001b[0;34m\u001b[0m\u001b[0m\n",
      "\u001b[0;32m~/opt/anaconda3/envs/tf/lib/python3.7/site-packages/pandas/core/arraylike.py\u001b[0m in \u001b[0;36marray_ufunc\u001b[0;34m(self, ufunc, method, *inputs, **kwargs)\u001b[0m\n\u001b[1;32m    362\u001b[0m         \u001b[0;31m# ufunc(series, ...)\u001b[0m\u001b[0;34m\u001b[0m\u001b[0;34m\u001b[0m\u001b[0;34m\u001b[0m\u001b[0m\n\u001b[1;32m    363\u001b[0m         \u001b[0minputs\u001b[0m \u001b[0;34m=\u001b[0m \u001b[0mtuple\u001b[0m\u001b[0;34m(\u001b[0m\u001b[0mextract_array\u001b[0m\u001b[0;34m(\u001b[0m\u001b[0mx\u001b[0m\u001b[0;34m,\u001b[0m \u001b[0mextract_numpy\u001b[0m\u001b[0;34m=\u001b[0m\u001b[0;32mTrue\u001b[0m\u001b[0;34m)\u001b[0m \u001b[0;32mfor\u001b[0m \u001b[0mx\u001b[0m \u001b[0;32min\u001b[0m \u001b[0minputs\u001b[0m\u001b[0;34m)\u001b[0m\u001b[0;34m\u001b[0m\u001b[0;34m\u001b[0m\u001b[0m\n\u001b[0;32m--> 364\u001b[0;31m         \u001b[0mresult\u001b[0m \u001b[0;34m=\u001b[0m \u001b[0mgetattr\u001b[0m\u001b[0;34m(\u001b[0m\u001b[0mufunc\u001b[0m\u001b[0;34m,\u001b[0m \u001b[0mmethod\u001b[0m\u001b[0;34m)\u001b[0m\u001b[0;34m(\u001b[0m\u001b[0;34m*\u001b[0m\u001b[0minputs\u001b[0m\u001b[0;34m,\u001b[0m \u001b[0;34m**\u001b[0m\u001b[0mkwargs\u001b[0m\u001b[0;34m)\u001b[0m\u001b[0;34m\u001b[0m\u001b[0;34m\u001b[0m\u001b[0m\n\u001b[0m\u001b[1;32m    365\u001b[0m     \u001b[0;32melse\u001b[0m\u001b[0;34m:\u001b[0m\u001b[0;34m\u001b[0m\u001b[0;34m\u001b[0m\u001b[0m\n\u001b[1;32m    366\u001b[0m         \u001b[0;31m# ufunc(dataframe)\u001b[0m\u001b[0;34m\u001b[0m\u001b[0;34m\u001b[0m\u001b[0;34m\u001b[0m\u001b[0m\n",
      "\u001b[0;31mTypeError\u001b[0m: loop of ufunc does not support argument 0 of type float which has no callable log method"
     ]
    }
   ],
   "source": [
    "p[\"Log Dimension\"] = np.log(p[\"dimension\"])"
   ]
  },
  {
   "cell_type": "code",
   "execution_count": 48,
   "id": "e126d1aa",
   "metadata": {},
   "outputs": [
    {
     "data": {
      "text/html": [
       "<div>\n",
       "<style scoped>\n",
       "    .dataframe tbody tr th:only-of-type {\n",
       "        vertical-align: middle;\n",
       "    }\n",
       "\n",
       "    .dataframe tbody tr th {\n",
       "        vertical-align: top;\n",
       "    }\n",
       "\n",
       "    .dataframe thead th {\n",
       "        text-align: right;\n",
       "    }\n",
       "</style>\n",
       "<table border=\"1\" class=\"dataframe\">\n",
       "  <thead>\n",
       "    <tr style=\"text-align: right;\">\n",
       "      <th></th>\n",
       "      <th>Line #</th>\n",
       "      <th>Log Dimension</th>\n",
       "    </tr>\n",
       "  </thead>\n",
       "  <tbody>\n",
       "    <tr>\n",
       "      <th>Line #</th>\n",
       "      <td>1.000000</td>\n",
       "      <td>-0.022053</td>\n",
       "    </tr>\n",
       "    <tr>\n",
       "      <th>Log Dimension</th>\n",
       "      <td>-0.022053</td>\n",
       "      <td>1.000000</td>\n",
       "    </tr>\n",
       "  </tbody>\n",
       "</table>\n",
       "</div>"
      ],
      "text/plain": [
       "                 Line #  Log Dimension\n",
       "Line #         1.000000      -0.022053\n",
       "Log Dimension -0.022053       1.000000"
      ]
     },
     "execution_count": 48,
     "metadata": {},
     "output_type": "execute_result"
    }
   ],
   "source": [
    "p[['Line #', \"Log Dimension\"]].corr()"
   ]
  },
  {
   "cell_type": "code",
   "execution_count": 111,
   "id": "33a5d8c8",
   "metadata": {},
   "outputs": [
    {
     "data": {
      "text/html": [
       "<div>\n",
       "<style scoped>\n",
       "    .dataframe tbody tr th:only-of-type {\n",
       "        vertical-align: middle;\n",
       "    }\n",
       "\n",
       "    .dataframe tbody tr th {\n",
       "        vertical-align: top;\n",
       "    }\n",
       "\n",
       "    .dataframe thead th {\n",
       "        text-align: right;\n",
       "    }\n",
       "</style>\n",
       "<table border=\"1\" class=\"dataframe\">\n",
       "  <thead>\n",
       "    <tr style=\"text-align: right;\">\n",
       "      <th></th>\n",
       "      <th>upc</th>\n",
       "      <th>color</th>\n",
       "      <th>dimension</th>\n",
       "      <th>weight</th>\n",
       "    </tr>\n",
       "  </thead>\n",
       "  <tbody>\n",
       "    <tr>\n",
       "      <th>25</th>\n",
       "      <td>77914040668</td>\n",
       "      <td>NaN</td>\n",
       "      <td>Item Type: Headless PinsBrand: BOSTITCHManufac...</td>\n",
       "      <td>BOSTITCH PT-2319-3M Headless Pin,23 ga,3/4 In,...</td>\n",
       "    </tr>\n",
       "    <tr>\n",
       "      <th>37</th>\n",
       "      <td>98262021505</td>\n",
       "      <td>Gold</td>\n",
       "      <td>2 Pounds</td>\n",
       "      <td>ENCORE Plastics EcoSmart 02150 Paint Tray Line...</td>\n",
       "    </tr>\n",
       "    <tr>\n",
       "      <th>79</th>\n",
       "      <td>45923028533</td>\n",
       "      <td>Black</td>\n",
       "      <td>3.8 X 3.8 X 5.3 inches5 X 6.5 i</td>\n",
       "      <td>2.07 pounds</td>\n",
       "    </tr>\n",
       "    <tr>\n",
       "      <th>81</th>\n",
       "      <td>71497632593</td>\n",
       "      <td>Dark Khaki</td>\n",
       "      <td>Item Type: Paint Roller CoverBrand: WOOSTERMan...</td>\n",
       "      <td>WOOSTER R241-9 Paint Roller Cover,9 In,Nap 3/4 In</td>\n",
       "    </tr>\n",
       "    <tr>\n",
       "      <th>165</th>\n",
       "      <td>71497644619</td>\n",
       "      <td>Misty Rose</td>\n",
       "      <td>Wooster Paint Tray Liner, Deluxe, Series: R406...</td>\n",
       "      <td>Wooster R406-11 Deluxe Paint Tray Liner, For U...</td>\n",
       "    </tr>\n",
       "    <tr>\n",
       "      <th>...</th>\n",
       "      <td>...</td>\n",
       "      <td>...</td>\n",
       "      <td>...</td>\n",
       "      <td>...</td>\n",
       "    </tr>\n",
       "    <tr>\n",
       "      <th>35706</th>\n",
       "      <td>29274005504</td>\n",
       "      <td>Gold</td>\n",
       "      <td>0.9 Pounds</td>\n",
       "      <td>YQE1161FeaturesBracketMaterial: SteelScrews no...</td>\n",
       "    </tr>\n",
       "    <tr>\n",
       "      <th>35724</th>\n",
       "      <td>38728311085</td>\n",
       "      <td>Light Gray</td>\n",
       "      <td>0.4 Pounds</td>\n",
       "      <td>General Tools 87 Pocket Automatic Center Punch...</td>\n",
       "    </tr>\n",
       "    <tr>\n",
       "      <th>35751</th>\n",
       "      <td>45923600166</td>\n",
       "      <td>Copper Bronze</td>\n",
       "      <td>8.8 X 17.8 X 11 inches17.8 X 11</td>\n",
       "      <td>5 Pounds</td>\n",
       "    </tr>\n",
       "    <tr>\n",
       "      <th>35786</th>\n",
       "      <td>87404772450</td>\n",
       "      <td>Brown</td>\n",
       "      <td>This planter is great for any porch or patio l...</td>\n",
       "      <td>Bloem Deck 24 Balcony Rail Planter\"</td>\n",
       "    </tr>\n",
       "    <tr>\n",
       "      <th>35790</th>\n",
       "      <td>48307177742</td>\n",
       "      <td>Clear</td>\n",
       "      <td>Gardener's Blue Ribbon 14 Vinyl Saucer:14\" vin...</td>\n",
       "      <td>clay and plastic planters/pots100 percent rec...</td>\n",
       "    </tr>\n",
       "  </tbody>\n",
       "</table>\n",
       "<p>1199 rows × 4 columns</p>\n",
       "</div>"
      ],
      "text/plain": [
       "               upc          color  \\\n",
       "25     77914040668            NaN   \n",
       "37     98262021505           Gold   \n",
       "79     45923028533          Black   \n",
       "81     71497632593     Dark Khaki   \n",
       "165    71497644619     Misty Rose   \n",
       "...            ...            ...   \n",
       "35706  29274005504           Gold   \n",
       "35724  38728311085     Light Gray   \n",
       "35751  45923600166  Copper Bronze   \n",
       "35786  87404772450          Brown   \n",
       "35790  48307177742          Clear   \n",
       "\n",
       "                                               dimension  \\\n",
       "25     Item Type: Headless PinsBrand: BOSTITCHManufac...   \n",
       "37                                              2 Pounds   \n",
       "79                       3.8 X 3.8 X 5.3 inches5 X 6.5 i   \n",
       "81     Item Type: Paint Roller CoverBrand: WOOSTERMan...   \n",
       "165    Wooster Paint Tray Liner, Deluxe, Series: R406...   \n",
       "...                                                  ...   \n",
       "35706                                         0.9 Pounds   \n",
       "35724                                         0.4 Pounds   \n",
       "35751                    8.8 X 17.8 X 11 inches17.8 X 11   \n",
       "35786  This planter is great for any porch or patio l...   \n",
       "35790  Gardener's Blue Ribbon 14 Vinyl Saucer:14\" vin...   \n",
       "\n",
       "                                                  weight  \n",
       "25     BOSTITCH PT-2319-3M Headless Pin,23 ga,3/4 In,...  \n",
       "37     ENCORE Plastics EcoSmart 02150 Paint Tray Line...  \n",
       "79                                           2.07 pounds  \n",
       "81     WOOSTER R241-9 Paint Roller Cover,9 In,Nap 3/4 In  \n",
       "165    Wooster R406-11 Deluxe Paint Tray Liner, For U...  \n",
       "...                                                  ...  \n",
       "35706  YQE1161FeaturesBracketMaterial: SteelScrews no...  \n",
       "35724  General Tools 87 Pocket Automatic Center Punch...  \n",
       "35751                                           5 Pounds  \n",
       "35786                Bloem Deck 24 Balcony Rail Planter\"  \n",
       "35790   clay and plastic planters/pots100 percent rec...  \n",
       "\n",
       "[1199 rows x 4 columns]"
      ]
     },
     "execution_count": 111,
     "metadata": {},
     "output_type": "execute_result"
    }
   ],
   "source": [
    "final_df[~final_df[\"dimension\"].str.match(r\".*(inches|Inches)$\")]"
   ]
  },
  {
   "cell_type": "code",
   "execution_count": null,
   "id": "3f6471f0",
   "metadata": {},
   "outputs": [],
   "source": []
  },
  {
   "cell_type": "code",
   "execution_count": 107,
   "id": "b697c63c",
   "metadata": {},
   "outputs": [
    {
     "data": {
      "text/html": [
       "<div>\n",
       "<style scoped>\n",
       "    .dataframe tbody tr th:only-of-type {\n",
       "        vertical-align: middle;\n",
       "    }\n",
       "\n",
       "    .dataframe tbody tr th {\n",
       "        vertical-align: top;\n",
       "    }\n",
       "\n",
       "    .dataframe thead th {\n",
       "        text-align: right;\n",
       "    }\n",
       "</style>\n",
       "<table border=\"1\" class=\"dataframe\">\n",
       "  <thead>\n",
       "    <tr style=\"text-align: right;\">\n",
       "      <th></th>\n",
       "      <th>upc</th>\n",
       "      <th>color</th>\n",
       "      <th>dimension</th>\n",
       "      <th>weight</th>\n",
       "    </tr>\n",
       "  </thead>\n",
       "  <tbody>\n",
       "    <tr>\n",
       "      <th>25</th>\n",
       "      <td>77914040668</td>\n",
       "      <td>NaN</td>\n",
       "      <td>Item Type: Headless PinsBrand: BOSTITCHManufac...</td>\n",
       "      <td>BOSTITCH PT-2319-3M Headless Pin,23 ga,3/4 In,...</td>\n",
       "    </tr>\n",
       "    <tr>\n",
       "      <th>37</th>\n",
       "      <td>98262021505</td>\n",
       "      <td>Gold</td>\n",
       "      <td>2 Pounds</td>\n",
       "      <td>ENCORE Plastics EcoSmart 02150 Paint Tray Line...</td>\n",
       "    </tr>\n",
       "    <tr>\n",
       "      <th>81</th>\n",
       "      <td>71497632593</td>\n",
       "      <td>Dark Khaki</td>\n",
       "      <td>Item Type: Paint Roller CoverBrand: WOOSTERMan...</td>\n",
       "      <td>WOOSTER R241-9 Paint Roller Cover,9 In,Nap 3/4 In</td>\n",
       "    </tr>\n",
       "    <tr>\n",
       "      <th>165</th>\n",
       "      <td>71497644619</td>\n",
       "      <td>Misty Rose</td>\n",
       "      <td>Wooster Paint Tray Liner, Deluxe, Series: R406...</td>\n",
       "      <td>Wooster R406-11 Deluxe Paint Tray Liner, For U...</td>\n",
       "    </tr>\n",
       "    <tr>\n",
       "      <th>203</th>\n",
       "      <td>8236032253</td>\n",
       "      <td>Gold</td>\n",
       "      <td>0.2 Pounds</td>\n",
       "      <td>Use in wallboard, plaster, and concrete block....</td>\n",
       "    </tr>\n",
       "    <tr>\n",
       "      <th>...</th>\n",
       "      <td>...</td>\n",
       "      <td>...</td>\n",
       "      <td>...</td>\n",
       "      <td>...</td>\n",
       "    </tr>\n",
       "    <tr>\n",
       "      <th>35702</th>\n",
       "      <td>32888110786</td>\n",
       "      <td>Peru</td>\n",
       "      <td>1.3 Pounds</td>\n",
       "      <td>Gate valveFor water, oil or air200 PSI maximum...</td>\n",
       "    </tr>\n",
       "    <tr>\n",
       "      <th>35706</th>\n",
       "      <td>29274005504</td>\n",
       "      <td>Gold</td>\n",
       "      <td>0.9 Pounds</td>\n",
       "      <td>YQE1161FeaturesBracketMaterial: SteelScrews no...</td>\n",
       "    </tr>\n",
       "    <tr>\n",
       "      <th>35724</th>\n",
       "      <td>38728311085</td>\n",
       "      <td>Light Gray</td>\n",
       "      <td>0.4 Pounds</td>\n",
       "      <td>General Tools 87 Pocket Automatic Center Punch...</td>\n",
       "    </tr>\n",
       "    <tr>\n",
       "      <th>35786</th>\n",
       "      <td>87404772450</td>\n",
       "      <td>Brown</td>\n",
       "      <td>This planter is great for any porch or patio l...</td>\n",
       "      <td>Bloem Deck 24 Balcony Rail Planter\"</td>\n",
       "    </tr>\n",
       "    <tr>\n",
       "      <th>35790</th>\n",
       "      <td>48307177742</td>\n",
       "      <td>Clear</td>\n",
       "      <td>Gardener's Blue Ribbon 14 Vinyl Saucer:14\" vin...</td>\n",
       "      <td>clay and plastic planters/pots100 percent rec...</td>\n",
       "    </tr>\n",
       "  </tbody>\n",
       "</table>\n",
       "<p>1026 rows × 4 columns</p>\n",
       "</div>"
      ],
      "text/plain": [
       "               upc       color  \\\n",
       "25     77914040668         NaN   \n",
       "37     98262021505        Gold   \n",
       "81     71497632593  Dark Khaki   \n",
       "165    71497644619  Misty Rose   \n",
       "203     8236032253        Gold   \n",
       "...            ...         ...   \n",
       "35702  32888110786        Peru   \n",
       "35706  29274005504        Gold   \n",
       "35724  38728311085  Light Gray   \n",
       "35786  87404772450       Brown   \n",
       "35790  48307177742       Clear   \n",
       "\n",
       "                                               dimension  \\\n",
       "25     Item Type: Headless PinsBrand: BOSTITCHManufac...   \n",
       "37                                              2 Pounds   \n",
       "81     Item Type: Paint Roller CoverBrand: WOOSTERMan...   \n",
       "165    Wooster Paint Tray Liner, Deluxe, Series: R406...   \n",
       "203                                           0.2 Pounds   \n",
       "...                                                  ...   \n",
       "35702                                         1.3 Pounds   \n",
       "35706                                         0.9 Pounds   \n",
       "35724                                         0.4 Pounds   \n",
       "35786  This planter is great for any porch or patio l...   \n",
       "35790  Gardener's Blue Ribbon 14 Vinyl Saucer:14\" vin...   \n",
       "\n",
       "                                                  weight  \n",
       "25     BOSTITCH PT-2319-3M Headless Pin,23 ga,3/4 In,...  \n",
       "37     ENCORE Plastics EcoSmart 02150 Paint Tray Line...  \n",
       "81     WOOSTER R241-9 Paint Roller Cover,9 In,Nap 3/4 In  \n",
       "165    Wooster R406-11 Deluxe Paint Tray Liner, For U...  \n",
       "203    Use in wallboard, plaster, and concrete block....  \n",
       "...                                                  ...  \n",
       "35702  Gate valveFor water, oil or air200 PSI maximum...  \n",
       "35706  YQE1161FeaturesBracketMaterial: SteelScrews no...  \n",
       "35724  General Tools 87 Pocket Automatic Center Punch...  \n",
       "35786                Bloem Deck 24 Balcony Rail Planter\"  \n",
       "35790   clay and plastic planters/pots100 percent rec...  \n",
       "\n",
       "[1026 rows x 4 columns]"
      ]
     },
     "execution_count": 107,
     "metadata": {},
     "output_type": "execute_result"
    }
   ],
   "source": [
    "final_df[~final_df[\"weight\"].str.match(r\".*(pounds|Pounds|lbs|Lbs|kgs|lb|kg|ounces|Kilograms|grams)$\")]"
   ]
  },
  {
   "cell_type": "code",
   "execution_count": 38,
   "id": "8bdcd93b",
   "metadata": {},
   "outputs": [
    {
     "data": {
      "text/plain": [
       "430"
      ]
     },
     "execution_count": 38,
     "metadata": {},
     "output_type": "execute_result"
    }
   ],
   "source": [
    "len(set(d['82901090779']) - set(e['41388000053']))"
   ]
  },
  {
   "cell_type": "code",
   "execution_count": 24,
   "id": "3dfa4baf",
   "metadata": {},
   "outputs": [
    {
     "data": {
      "text/plain": [
       "'/Users/manalshah/Desktop/DSF Project'"
      ]
     },
     "execution_count": 24,
     "metadata": {},
     "output_type": "execute_result"
    }
   ],
   "source": [
    "%pwd"
   ]
  },
  {
   "cell_type": "code",
   "execution_count": 11,
   "id": "266269d4",
   "metadata": {},
   "outputs": [
    {
     "data": {
      "text/html": [
       "<div>\n",
       "<style scoped>\n",
       "    .dataframe tbody tr th:only-of-type {\n",
       "        vertical-align: middle;\n",
       "    }\n",
       "\n",
       "    .dataframe tbody tr th {\n",
       "        vertical-align: top;\n",
       "    }\n",
       "\n",
       "    .dataframe thead th {\n",
       "        text-align: right;\n",
       "    }\n",
       "</style>\n",
       "<table border=\"1\" class=\"dataframe\">\n",
       "  <thead>\n",
       "    <tr style=\"text-align: right;\">\n",
       "      <th></th>\n",
       "      <th>Date</th>\n",
       "      <th>Transaction Time</th>\n",
       "      <th>Customer Number</th>\n",
       "      <th>Receipt Number</th>\n",
       "      <th>Store #</th>\n",
       "      <th>Store Name</th>\n",
       "      <th>Scanned UPC</th>\n",
       "      <th>Item Number</th>\n",
       "      <th>Item Description</th>\n",
       "      <th>Net Sales Units</th>\n",
       "      <th>...</th>\n",
       "      <th>$ Off Retail</th>\n",
       "      <th>Zip Code</th>\n",
       "      <th>Zip Plus-4</th>\n",
       "      <th>Loyalty ID</th>\n",
       "      <th>Clerk</th>\n",
       "      <th>Item Type</th>\n",
       "      <th>Line #</th>\n",
       "      <th>Line Item Transaction Type</th>\n",
       "      <th>Pricing Source</th>\n",
       "      <th>Return Code</th>\n",
       "    </tr>\n",
       "  </thead>\n",
       "  <tbody>\n",
       "    <tr>\n",
       "      <th>0</th>\n",
       "      <td>4/1/2015</td>\n",
       "      <td>7:16:46</td>\n",
       "      <td>88806</td>\n",
       "      <td>4297</td>\n",
       "      <td>P</td>\n",
       "      <td>15784 EI PAINT</td>\n",
       "      <td>OTHER</td>\n",
       "      <td>B05481X</td>\n",
       "      <td>REG SEL INT MATTE BS1 GL</td>\n",
       "      <td>3.0</td>\n",
       "      <td>...</td>\n",
       "      <td>10.0</td>\n",
       "      <td>11703.0</td>\n",
       "      <td>NaN</td>\n",
       "      <td>1982029025.0</td>\n",
       "      <td>MELISSA MOORMAN</td>\n",
       "      <td>Sale</td>\n",
       "      <td>1</td>\n",
       "      <td>Sale</td>\n",
       "      <td>Category Price Plan</td>\n",
       "      <td>NaN</td>\n",
       "    </tr>\n",
       "    <tr>\n",
       "      <th>1</th>\n",
       "      <td>4/1/2015</td>\n",
       "      <td>7:16:46</td>\n",
       "      <td>88806</td>\n",
       "      <td>4297</td>\n",
       "      <td>P</td>\n",
       "      <td>15784 EI PAINT</td>\n",
       "      <td>OTHER</td>\n",
       "      <td>B05482X</td>\n",
       "      <td>REG SEL INT MATTE BS2 GL</td>\n",
       "      <td>2.0</td>\n",
       "      <td>...</td>\n",
       "      <td>10.0</td>\n",
       "      <td>11703.0</td>\n",
       "      <td>NaN</td>\n",
       "      <td>1982029025.0</td>\n",
       "      <td>MELISSA MOORMAN</td>\n",
       "      <td>Sale</td>\n",
       "      <td>3</td>\n",
       "      <td>Sale</td>\n",
       "      <td>Category Price Plan</td>\n",
       "      <td>NaN</td>\n",
       "    </tr>\n",
       "    <tr>\n",
       "      <th>2</th>\n",
       "      <td>4/1/2015</td>\n",
       "      <td>7:30:16</td>\n",
       "      <td>*5</td>\n",
       "      <td>A03697</td>\n",
       "      <td>7</td>\n",
       "      <td>12168 WEST ISLIP</td>\n",
       "      <td>82901090779</td>\n",
       "      <td>2106912</td>\n",
       "      <td>BLADE CUTOFF 4.5X1/16MTL</td>\n",
       "      <td>4.0</td>\n",
       "      <td>...</td>\n",
       "      <td>0.0</td>\n",
       "      <td>NaN</td>\n",
       "      <td>NaN</td>\n",
       "      <td>NaN</td>\n",
       "      <td>CHARLES GRAHAM</td>\n",
       "      <td>Sale</td>\n",
       "      <td>1</td>\n",
       "      <td>Sale</td>\n",
       "      <td>Retail</td>\n",
       "      <td>NaN</td>\n",
       "    </tr>\n",
       "    <tr>\n",
       "      <th>3</th>\n",
       "      <td>4/1/2015</td>\n",
       "      <td>7:30:16</td>\n",
       "      <td>*5</td>\n",
       "      <td>A03697</td>\n",
       "      <td>7</td>\n",
       "      <td>12168 WEST ISLIP</td>\n",
       "      <td>8.85911E+11</td>\n",
       "      <td>2361640</td>\n",
       "      <td>CUT WHL4-1/2X.045 MTL</td>\n",
       "      <td>8.0</td>\n",
       "      <td>...</td>\n",
       "      <td>0.0</td>\n",
       "      <td>NaN</td>\n",
       "      <td>NaN</td>\n",
       "      <td>NaN</td>\n",
       "      <td>CHARLES GRAHAM</td>\n",
       "      <td>Sale</td>\n",
       "      <td>2</td>\n",
       "      <td>Sale</td>\n",
       "      <td>Retail</td>\n",
       "      <td>NaN</td>\n",
       "    </tr>\n",
       "    <tr>\n",
       "      <th>4</th>\n",
       "      <td>4/1/2015</td>\n",
       "      <td>7:30:16</td>\n",
       "      <td>*5</td>\n",
       "      <td>A03697</td>\n",
       "      <td>7</td>\n",
       "      <td>12168 WEST ISLIP</td>\n",
       "      <td>82901265313</td>\n",
       "      <td>7315054</td>\n",
       "      <td>GLOVE LTHR PALM WRK 3PK</td>\n",
       "      <td>1.0</td>\n",
       "      <td>...</td>\n",
       "      <td>0.0</td>\n",
       "      <td>NaN</td>\n",
       "      <td>NaN</td>\n",
       "      <td>NaN</td>\n",
       "      <td>CHARLES GRAHAM</td>\n",
       "      <td>Sale</td>\n",
       "      <td>3</td>\n",
       "      <td>Sale</td>\n",
       "      <td>Retail</td>\n",
       "      <td>NaN</td>\n",
       "    </tr>\n",
       "    <tr>\n",
       "      <th>5</th>\n",
       "      <td>4/1/2015</td>\n",
       "      <td>7:30:16</td>\n",
       "      <td>*5</td>\n",
       "      <td>A03697</td>\n",
       "      <td>7</td>\n",
       "      <td>12168 WEST ISLIP</td>\n",
       "      <td>82901720836</td>\n",
       "      <td>72083</td>\n",
       "      <td>GLOVE LTHR PALM LG</td>\n",
       "      <td>1.0</td>\n",
       "      <td>...</td>\n",
       "      <td>0.0</td>\n",
       "      <td>NaN</td>\n",
       "      <td>NaN</td>\n",
       "      <td>NaN</td>\n",
       "      <td>CHARLES GRAHAM</td>\n",
       "      <td>Sale</td>\n",
       "      <td>4</td>\n",
       "      <td>Sale</td>\n",
       "      <td>Retail</td>\n",
       "      <td>NaN</td>\n",
       "    </tr>\n",
       "    <tr>\n",
       "      <th>6</th>\n",
       "      <td>4/1/2015</td>\n",
       "      <td>7:31:55</td>\n",
       "      <td>*5</td>\n",
       "      <td>E89651</td>\n",
       "      <td>B</td>\n",
       "      <td>14252 ISLAND PARK</td>\n",
       "      <td>82901069294</td>\n",
       "      <td>1099332</td>\n",
       "      <td>SANDSPONG MED WEDG ACE</td>\n",
       "      <td>1.0</td>\n",
       "      <td>...</td>\n",
       "      <td>0.0</td>\n",
       "      <td>NaN</td>\n",
       "      <td>NaN</td>\n",
       "      <td>NaN</td>\n",
       "      <td>GABRIELA PARATORE</td>\n",
       "      <td>Sale</td>\n",
       "      <td>1</td>\n",
       "      <td>Sale</td>\n",
       "      <td>Retail</td>\n",
       "      <td>NaN</td>\n",
       "    </tr>\n",
       "    <tr>\n",
       "      <th>7</th>\n",
       "      <td>4/1/2015</td>\n",
       "      <td>7:33:16</td>\n",
       "      <td>659780</td>\n",
       "      <td>A35827</td>\n",
       "      <td>P</td>\n",
       "      <td>15784 EI PAINT</td>\n",
       "      <td>OTHER</td>\n",
       "      <td>BN53601F</td>\n",
       "      <td>ULTRA SPEC 500 FLAT-WHITE -- 5 G</td>\n",
       "      <td>1.0</td>\n",
       "      <td>...</td>\n",
       "      <td>22.0</td>\n",
       "      <td>11751.0</td>\n",
       "      <td>NaN</td>\n",
       "      <td>1982089593.0</td>\n",
       "      <td>MELISSA MOORMAN</td>\n",
       "      <td>Sale</td>\n",
       "      <td>1</td>\n",
       "      <td>Sale</td>\n",
       "      <td>Category Price Plan</td>\n",
       "      <td>NaN</td>\n",
       "    </tr>\n",
       "    <tr>\n",
       "      <th>8</th>\n",
       "      <td>4/1/2015</td>\n",
       "      <td>7:33:16</td>\n",
       "      <td>659780</td>\n",
       "      <td>A35827</td>\n",
       "      <td>P</td>\n",
       "      <td>15784 EI PAINT</td>\n",
       "      <td>OTHER</td>\n",
       "      <td>B055104</td>\n",
       "      <td>REGAL SELECT SEMI-GL DECO WH</td>\n",
       "      <td>1.0</td>\n",
       "      <td>...</td>\n",
       "      <td>10.0</td>\n",
       "      <td>11751.0</td>\n",
       "      <td>NaN</td>\n",
       "      <td>1982089593.0</td>\n",
       "      <td>MELISSA MOORMAN</td>\n",
       "      <td>Sale</td>\n",
       "      <td>3</td>\n",
       "      <td>Sale</td>\n",
       "      <td>Category Price Plan</td>\n",
       "      <td>NaN</td>\n",
       "    </tr>\n",
       "    <tr>\n",
       "      <th>9</th>\n",
       "      <td>4/1/2015</td>\n",
       "      <td>7:33:16</td>\n",
       "      <td>659780</td>\n",
       "      <td>A35827</td>\n",
       "      <td>P</td>\n",
       "      <td>15784 EI PAINT</td>\n",
       "      <td>OTHER</td>\n",
       "      <td>B05481X</td>\n",
       "      <td>REG SEL INT MATTE BS1 GL</td>\n",
       "      <td>1.0</td>\n",
       "      <td>...</td>\n",
       "      <td>10.0</td>\n",
       "      <td>11751.0</td>\n",
       "      <td>NaN</td>\n",
       "      <td>1982089593.0</td>\n",
       "      <td>MELISSA MOORMAN</td>\n",
       "      <td>Sale</td>\n",
       "      <td>4</td>\n",
       "      <td>Sale</td>\n",
       "      <td>Category Price Plan</td>\n",
       "      <td>NaN</td>\n",
       "    </tr>\n",
       "    <tr>\n",
       "      <th>10</th>\n",
       "      <td>4/1/2015</td>\n",
       "      <td>7:33:16</td>\n",
       "      <td>659780</td>\n",
       "      <td>A35827</td>\n",
       "      <td>P</td>\n",
       "      <td>15784 EI PAINT</td>\n",
       "      <td>OTHER</td>\n",
       "      <td>B05481X</td>\n",
       "      <td>REG SEL INT MATTE BS1 GL</td>\n",
       "      <td>2.0</td>\n",
       "      <td>...</td>\n",
       "      <td>10.0</td>\n",
       "      <td>11751.0</td>\n",
       "      <td>NaN</td>\n",
       "      <td>1982089593.0</td>\n",
       "      <td>MELISSA MOORMAN</td>\n",
       "      <td>Sale</td>\n",
       "      <td>6</td>\n",
       "      <td>Sale</td>\n",
       "      <td>Category Price Plan</td>\n",
       "      <td>NaN</td>\n",
       "    </tr>\n",
       "    <tr>\n",
       "      <th>11</th>\n",
       "      <td>4/1/2015</td>\n",
       "      <td>7:33:16</td>\n",
       "      <td>659780</td>\n",
       "      <td>A35827</td>\n",
       "      <td>P</td>\n",
       "      <td>15784 EI PAINT</td>\n",
       "      <td>OTHER</td>\n",
       "      <td>BN5391X</td>\n",
       "      <td>ULTRA SPEC 500 SEMI-BASE 1 -- GA</td>\n",
       "      <td>1.0</td>\n",
       "      <td>...</td>\n",
       "      <td>6.2</td>\n",
       "      <td>11751.0</td>\n",
       "      <td>NaN</td>\n",
       "      <td>1982089593.0</td>\n",
       "      <td>MELISSA MOORMAN</td>\n",
       "      <td>Sale</td>\n",
       "      <td>8</td>\n",
       "      <td>Sale</td>\n",
       "      <td>Category Price Plan</td>\n",
       "      <td>NaN</td>\n",
       "    </tr>\n",
       "    <tr>\n",
       "      <th>12</th>\n",
       "      <td>4/1/2015</td>\n",
       "      <td>7:33:16</td>\n",
       "      <td>659780</td>\n",
       "      <td>A35827</td>\n",
       "      <td>P</td>\n",
       "      <td>15784 EI PAINT</td>\n",
       "      <td>7.16341E+11</td>\n",
       "      <td>1239912</td>\n",
       "      <td>BRUSH CLEANING COMB</td>\n",
       "      <td>1.0</td>\n",
       "      <td>...</td>\n",
       "      <td>5.0</td>\n",
       "      <td>11751.0</td>\n",
       "      <td>NaN</td>\n",
       "      <td>1982089593.0</td>\n",
       "      <td>MELISSA MOORMAN</td>\n",
       "      <td>Sale</td>\n",
       "      <td>10</td>\n",
       "      <td>Sale</td>\n",
       "      <td>Manual Override</td>\n",
       "      <td>NaN</td>\n",
       "    </tr>\n",
       "    <tr>\n",
       "      <th>13</th>\n",
       "      <td>4/1/2015</td>\n",
       "      <td>7:34:23</td>\n",
       "      <td>303081</td>\n",
       "      <td>C40057</td>\n",
       "      <td>L</td>\n",
       "      <td>15348 ROCKY POINT</td>\n",
       "      <td>82901445012</td>\n",
       "      <td>44501</td>\n",
       "      <td>ACE NIPPLE EXTRACTOR1/2\"</td>\n",
       "      <td>1.0</td>\n",
       "      <td>...</td>\n",
       "      <td>0.0</td>\n",
       "      <td>11789.0</td>\n",
       "      <td>2455.0</td>\n",
       "      <td>1923491934.0</td>\n",
       "      <td>MICHAEL BENTIVEGNA</td>\n",
       "      <td>Sale</td>\n",
       "      <td>1</td>\n",
       "      <td>Sale</td>\n",
       "      <td>Retail</td>\n",
       "      <td>NaN</td>\n",
       "    </tr>\n",
       "    <tr>\n",
       "      <th>14</th>\n",
       "      <td>4/1/2015</td>\n",
       "      <td>7:36:44</td>\n",
       "      <td>*5</td>\n",
       "      <td>C48513</td>\n",
       "      <td>4</td>\n",
       "      <td>6910 FARMINGDALE</td>\n",
       "      <td>51131626638</td>\n",
       "      <td>3MCT3010</td>\n",
       "      <td>1.38\"X40'OUT CARPET TAPE</td>\n",
       "      <td>1.0</td>\n",
       "      <td>...</td>\n",
       "      <td>0.0</td>\n",
       "      <td>NaN</td>\n",
       "      <td>NaN</td>\n",
       "      <td>NaN</td>\n",
       "      <td>MICHAEL NOONAN</td>\n",
       "      <td>Sale</td>\n",
       "      <td>1</td>\n",
       "      <td>Sale</td>\n",
       "      <td>Retail</td>\n",
       "      <td>NaN</td>\n",
       "    </tr>\n",
       "    <tr>\n",
       "      <th>15</th>\n",
       "      <td>4/1/2015</td>\n",
       "      <td>7:36:58</td>\n",
       "      <td>*5</td>\n",
       "      <td>C42409</td>\n",
       "      <td>9</td>\n",
       "      <td>11730 BETHPAGE</td>\n",
       "      <td>82901184539</td>\n",
       "      <td>7072168</td>\n",
       "      <td>JRSY GLOVE W/DOTS XL</td>\n",
       "      <td>1.0</td>\n",
       "      <td>...</td>\n",
       "      <td>0.0</td>\n",
       "      <td>NaN</td>\n",
       "      <td>NaN</td>\n",
       "      <td>NaN</td>\n",
       "      <td>DAWN C</td>\n",
       "      <td>Sale</td>\n",
       "      <td>1</td>\n",
       "      <td>Sale</td>\n",
       "      <td>Retail</td>\n",
       "      <td>NaN</td>\n",
       "    </tr>\n",
       "    <tr>\n",
       "      <th>16</th>\n",
       "      <td>4/1/2015</td>\n",
       "      <td>7:37:37</td>\n",
       "      <td>10000</td>\n",
       "      <td>A35828</td>\n",
       "      <td>P</td>\n",
       "      <td>15784 EI PAINT</td>\n",
       "      <td>OTHER</td>\n",
       "      <td>BN53601</td>\n",
       "      <td>ULTRA SPEC 500 FLAT-WHITE -- GAL</td>\n",
       "      <td>1.0</td>\n",
       "      <td>...</td>\n",
       "      <td>5.2</td>\n",
       "      <td>NaN</td>\n",
       "      <td>NaN</td>\n",
       "      <td>1981485985.0</td>\n",
       "      <td>MELISSA MOORMAN</td>\n",
       "      <td>Sale</td>\n",
       "      <td>1</td>\n",
       "      <td>Sale</td>\n",
       "      <td>Category Price Plan</td>\n",
       "      <td>NaN</td>\n",
       "    </tr>\n",
       "    <tr>\n",
       "      <th>17</th>\n",
       "      <td>4/1/2015</td>\n",
       "      <td>7:38:08</td>\n",
       "      <td>10000</td>\n",
       "      <td>A35829</td>\n",
       "      <td>P</td>\n",
       "      <td>15784 EI PAINT</td>\n",
       "      <td>7.32088E+11</td>\n",
       "      <td>1379866</td>\n",
       "      <td>MICROFIBER MINI 2PK 4\"</td>\n",
       "      <td>1.0</td>\n",
       "      <td>...</td>\n",
       "      <td>0.7</td>\n",
       "      <td>NaN</td>\n",
       "      <td>NaN</td>\n",
       "      <td>1981485985.0</td>\n",
       "      <td>MELISSA MOORMAN</td>\n",
       "      <td>Sale</td>\n",
       "      <td>1</td>\n",
       "      <td>Sale</td>\n",
       "      <td>Category Price Plan</td>\n",
       "      <td>NaN</td>\n",
       "    </tr>\n",
       "    <tr>\n",
       "      <th>18</th>\n",
       "      <td>4/1/2015</td>\n",
       "      <td>7:38:35</td>\n",
       "      <td>521376</td>\n",
       "      <td>E89652</td>\n",
       "      <td>B</td>\n",
       "      <td>14252 ISLAND PARK</td>\n",
       "      <td>23906154950</td>\n",
       "      <td>B054702</td>\n",
       "      <td>REGAL SELECT FLAT SUPER WH</td>\n",
       "      <td>1.0</td>\n",
       "      <td>...</td>\n",
       "      <td>9.4</td>\n",
       "      <td>11561.0</td>\n",
       "      <td>NaN</td>\n",
       "      <td>1982088880.0</td>\n",
       "      <td>GABRIELA PARATORE</td>\n",
       "      <td>Sale</td>\n",
       "      <td>1</td>\n",
       "      <td>Sale</td>\n",
       "      <td>Category Price Plan</td>\n",
       "      <td>NaN</td>\n",
       "    </tr>\n",
       "    <tr>\n",
       "      <th>19</th>\n",
       "      <td>4/1/2015</td>\n",
       "      <td>7:38:35</td>\n",
       "      <td>521376</td>\n",
       "      <td>E89652</td>\n",
       "      <td>B</td>\n",
       "      <td>14252 ISLAND PARK</td>\n",
       "      <td>82901265412</td>\n",
       "      <td>1494731</td>\n",
       "      <td>ACE PREM FLAT BRUSH2.5\"</td>\n",
       "      <td>1.0</td>\n",
       "      <td>...</td>\n",
       "      <td>1.2</td>\n",
       "      <td>11561.0</td>\n",
       "      <td>NaN</td>\n",
       "      <td>1982088880.0</td>\n",
       "      <td>GABRIELA PARATORE</td>\n",
       "      <td>Sale</td>\n",
       "      <td>2</td>\n",
       "      <td>Sale</td>\n",
       "      <td>Category Price Plan</td>\n",
       "      <td>NaN</td>\n",
       "    </tr>\n",
       "  </tbody>\n",
       "</table>\n",
       "<p>20 rows × 39 columns</p>\n",
       "</div>"
      ],
      "text/plain": [
       "        Date Transaction Time Customer Number Receipt Number Store #  \\\n",
       "0   4/1/2015          7:16:46           88806           4297       P   \n",
       "1   4/1/2015          7:16:46           88806           4297       P   \n",
       "2   4/1/2015          7:30:16              *5         A03697       7   \n",
       "3   4/1/2015          7:30:16              *5         A03697       7   \n",
       "4   4/1/2015          7:30:16              *5         A03697       7   \n",
       "5   4/1/2015          7:30:16              *5         A03697       7   \n",
       "6   4/1/2015          7:31:55              *5         E89651       B   \n",
       "7   4/1/2015          7:33:16          659780         A35827       P   \n",
       "8   4/1/2015          7:33:16          659780         A35827       P   \n",
       "9   4/1/2015          7:33:16          659780         A35827       P   \n",
       "10  4/1/2015          7:33:16          659780         A35827       P   \n",
       "11  4/1/2015          7:33:16          659780         A35827       P   \n",
       "12  4/1/2015          7:33:16          659780         A35827       P   \n",
       "13  4/1/2015          7:34:23          303081         C40057       L   \n",
       "14  4/1/2015          7:36:44              *5         C48513       4   \n",
       "15  4/1/2015          7:36:58              *5         C42409       9   \n",
       "16  4/1/2015          7:37:37           10000         A35828       P   \n",
       "17  4/1/2015          7:38:08           10000         A35829       P   \n",
       "18  4/1/2015          7:38:35          521376         E89652       B   \n",
       "19  4/1/2015          7:38:35          521376         E89652       B   \n",
       "\n",
       "           Store Name  Scanned UPC Item Number  \\\n",
       "0      15784 EI PAINT        OTHER     B05481X   \n",
       "1      15784 EI PAINT        OTHER     B05482X   \n",
       "2    12168 WEST ISLIP  82901090779     2106912   \n",
       "3    12168 WEST ISLIP  8.85911E+11     2361640   \n",
       "4    12168 WEST ISLIP  82901265313     7315054   \n",
       "5    12168 WEST ISLIP  82901720836       72083   \n",
       "6   14252 ISLAND PARK  82901069294     1099332   \n",
       "7      15784 EI PAINT        OTHER    BN53601F   \n",
       "8      15784 EI PAINT        OTHER     B055104   \n",
       "9      15784 EI PAINT        OTHER     B05481X   \n",
       "10     15784 EI PAINT        OTHER     B05481X   \n",
       "11     15784 EI PAINT        OTHER     BN5391X   \n",
       "12     15784 EI PAINT  7.16341E+11     1239912   \n",
       "13  15348 ROCKY POINT  82901445012       44501   \n",
       "14   6910 FARMINGDALE  51131626638    3MCT3010   \n",
       "15     11730 BETHPAGE  82901184539     7072168   \n",
       "16     15784 EI PAINT        OTHER     BN53601   \n",
       "17     15784 EI PAINT  7.32088E+11     1379866   \n",
       "18  14252 ISLAND PARK  23906154950     B054702   \n",
       "19  14252 ISLAND PARK  82901265412     1494731   \n",
       "\n",
       "                    Item Description Net Sales Units  ... $ Off Retail  \\\n",
       "0           REG SEL INT MATTE BS1 GL             3.0  ...         10.0   \n",
       "1           REG SEL INT MATTE BS2 GL             2.0  ...         10.0   \n",
       "2           BLADE CUTOFF 4.5X1/16MTL             4.0  ...          0.0   \n",
       "3              CUT WHL4-1/2X.045 MTL             8.0  ...          0.0   \n",
       "4            GLOVE LTHR PALM WRK 3PK             1.0  ...          0.0   \n",
       "5                 GLOVE LTHR PALM LG             1.0  ...          0.0   \n",
       "6             SANDSPONG MED WEDG ACE             1.0  ...          0.0   \n",
       "7   ULTRA SPEC 500 FLAT-WHITE -- 5 G             1.0  ...         22.0   \n",
       "8       REGAL SELECT SEMI-GL DECO WH             1.0  ...         10.0   \n",
       "9           REG SEL INT MATTE BS1 GL             1.0  ...         10.0   \n",
       "10          REG SEL INT MATTE BS1 GL             2.0  ...         10.0   \n",
       "11  ULTRA SPEC 500 SEMI-BASE 1 -- GA             1.0  ...          6.2   \n",
       "12               BRUSH CLEANING COMB             1.0  ...          5.0   \n",
       "13          ACE NIPPLE EXTRACTOR1/2\"             1.0  ...          0.0   \n",
       "14          1.38\"X40'OUT CARPET TAPE             1.0  ...          0.0   \n",
       "15              JRSY GLOVE W/DOTS XL             1.0  ...          0.0   \n",
       "16  ULTRA SPEC 500 FLAT-WHITE -- GAL             1.0  ...          5.2   \n",
       "17            MICROFIBER MINI 2PK 4\"             1.0  ...          0.7   \n",
       "18        REGAL SELECT FLAT SUPER WH             1.0  ...          9.4   \n",
       "19           ACE PREM FLAT BRUSH2.5\"             1.0  ...          1.2   \n",
       "\n",
       "   Zip Code Zip Plus-4    Loyalty ID               Clerk Item Type Line #  \\\n",
       "0   11703.0        NaN  1982029025.0     MELISSA MOORMAN      Sale      1   \n",
       "1   11703.0        NaN  1982029025.0     MELISSA MOORMAN      Sale      3   \n",
       "2       NaN        NaN           NaN      CHARLES GRAHAM      Sale      1   \n",
       "3       NaN        NaN           NaN      CHARLES GRAHAM      Sale      2   \n",
       "4       NaN        NaN           NaN      CHARLES GRAHAM      Sale      3   \n",
       "5       NaN        NaN           NaN      CHARLES GRAHAM      Sale      4   \n",
       "6       NaN        NaN           NaN   GABRIELA PARATORE      Sale      1   \n",
       "7   11751.0        NaN  1982089593.0     MELISSA MOORMAN      Sale      1   \n",
       "8   11751.0        NaN  1982089593.0     MELISSA MOORMAN      Sale      3   \n",
       "9   11751.0        NaN  1982089593.0     MELISSA MOORMAN      Sale      4   \n",
       "10  11751.0        NaN  1982089593.0     MELISSA MOORMAN      Sale      6   \n",
       "11  11751.0        NaN  1982089593.0     MELISSA MOORMAN      Sale      8   \n",
       "12  11751.0        NaN  1982089593.0     MELISSA MOORMAN      Sale     10   \n",
       "13  11789.0     2455.0  1923491934.0  MICHAEL BENTIVEGNA      Sale      1   \n",
       "14      NaN        NaN           NaN      MICHAEL NOONAN      Sale      1   \n",
       "15      NaN        NaN           NaN              DAWN C      Sale      1   \n",
       "16      NaN        NaN  1981485985.0     MELISSA MOORMAN      Sale      1   \n",
       "17      NaN        NaN  1981485985.0     MELISSA MOORMAN      Sale      1   \n",
       "18  11561.0        NaN  1982088880.0   GABRIELA PARATORE      Sale      1   \n",
       "19  11561.0        NaN  1982088880.0   GABRIELA PARATORE      Sale      2   \n",
       "\n",
       "   Line Item Transaction Type       Pricing Source Return Code  \n",
       "0                        Sale  Category Price Plan         NaN  \n",
       "1                        Sale  Category Price Plan         NaN  \n",
       "2                        Sale               Retail         NaN  \n",
       "3                        Sale               Retail         NaN  \n",
       "4                        Sale               Retail         NaN  \n",
       "5                        Sale               Retail         NaN  \n",
       "6                        Sale               Retail         NaN  \n",
       "7                        Sale  Category Price Plan         NaN  \n",
       "8                        Sale  Category Price Plan         NaN  \n",
       "9                        Sale  Category Price Plan         NaN  \n",
       "10                       Sale  Category Price Plan         NaN  \n",
       "11                       Sale  Category Price Plan         NaN  \n",
       "12                       Sale      Manual Override         NaN  \n",
       "13                       Sale               Retail         NaN  \n",
       "14                       Sale               Retail         NaN  \n",
       "15                       Sale               Retail         NaN  \n",
       "16                       Sale  Category Price Plan         NaN  \n",
       "17                       Sale  Category Price Plan         NaN  \n",
       "18                       Sale  Category Price Plan         NaN  \n",
       "19                       Sale  Category Price Plan         NaN  \n",
       "\n",
       "[20 rows x 39 columns]"
      ]
     },
     "execution_count": 11,
     "metadata": {},
     "output_type": "execute_result"
    }
   ],
   "source": [
    "df.head(20)"
   ]
  },
  {
   "cell_type": "code",
   "execution_count": 7,
   "id": "d13a8a73",
   "metadata": {},
   "outputs": [
    {
     "data": {
      "text/plain": [
       "Index(['Date', 'Transaction Time', 'Customer Number', 'Receipt Number',\n",
       "       'Store #', 'Store Name', 'Scanned UPC', 'Item Number',\n",
       "       'Item Description', 'Net Sales Units', 'Net Sales', 'Cost',\n",
       "       'Gross Margin', 'Gross Margin %', 'Department Code', 'Department Name',\n",
       "       'Class Code', 'Class Name', 'Fineline Code', 'Fineline Name',\n",
       "       'Item was Scanned', 'MIP Promo ID', 'Promo/Discount',\n",
       "       'Dynamic Promo ID', 'Actual Price', 'Retail Price', 'Actual-Retail',\n",
       "       'Taxable', 'Tender Type', '$ Off Retail', 'Zip Code', 'Zip Plus-4',\n",
       "       'Loyalty ID', 'Clerk', 'Item Type', 'Line #',\n",
       "       'Line Item Transaction Type', 'Pricing Source', 'Return Code'],\n",
       "      dtype='object')"
      ]
     },
     "execution_count": 7,
     "metadata": {},
     "output_type": "execute_result"
    }
   ],
   "source": [
    "df.columns"
   ]
  },
  {
   "cell_type": "code",
   "execution_count": 66,
   "id": "00283aa1",
   "metadata": {},
   "outputs": [
    {
     "data": {
      "text/plain": [
       "PAINT & PAINT SUPPLIES              2021894\n",
       "LAWN, GARDEN & FARM SUPPLIES        1682858\n",
       "HARDWARE                            1260874\n",
       "FASTENERS                           1212102\n",
       "PLUMBING SUPPLIES & FIXTURES        1107198\n",
       "FLASHLIGHTS, LIGHTING & SUPPLIES     991836\n",
       "HOUSEWARES & GIFTS                   873628\n",
       "NOTIONS & MISCELLANEOUS              792584\n",
       "CLEANING SUPPLIES                    757713\n",
       "ELECTRICAL SUPPLIES                  754825\n",
       "HAND TOOLS & TOOL ACCESSORIES        695888\n",
       "ACE REWARDS INSTANT SAVINGS          493175\n",
       "SPORTING GOODS                       378463\n",
       "IN STORE COUPONS                     341506\n",
       "AUTOMOTIVE                           337016\n",
       "OUTDOOR LIVING & FURNITURE           273739\n",
       "HEATING & COOLING SUPPLIES           247929\n",
       "OUTDOOR EQUIPMENT & POWER TOOLS      240126\n",
       "DONTATIONS                           182252\n",
       "LIVE NURSERY GOODS                    92448\n",
       "STATIONARY & STORE SUPPLIES           85480\n",
       "SODA/ETC                              74839\n",
       "APPLIANCES & HOME ENTERTAINMENT       69867\n",
       "BUILDING MATERIALS & PRODUCTS         69258\n",
       "UNKNOWN DEPT 82                       56829\n",
       "UNKNOWN DEPT 97                       50205\n",
       "UNKNOWN DEPT 72                       43890\n",
       "POWER TOOLS & ACCESSORIES             43829\n",
       "Millwork                              42318\n",
       "DELIVERY & UPS                        34878\n",
       "UNKNOWN DEPT 73                       31169\n",
       "UNKNOWN DEPT 87                       26536\n",
       "UNKNOWN DEPT 51                       26380\n",
       "LIPA INSTANT REBATE                   25729\n",
       "WATER TREATMENT CHEMICALS             25321\n",
       "COSTELLOS GIFT CARD                   20124\n",
       "PROPANE FILLS                         18569\n",
       "UNKNOWN DEPT 85                       17987\n",
       "UNKNOWN DEPT 74                       17499\n",
       "UNKNOWN DEPT 95                       16235\n",
       "REPAIRS                               15834\n",
       "PELLETS/WOOD FUEL                     15250\n",
       "UNKNOWN DEPT 31                       12081\n",
       "SHARPENING                            10127\n",
       "HELPFUL HARDWARE                       8128\n",
       "UNKNOWN DEPT 96                        7828\n",
       "UNKNOWN DEPT 89                        7190\n",
       "NON-ACE INSTANT SAVINGS                4910\n",
       "CREDIT CARD REFUND                     1480\n",
       "GIFT CARD OFFSET (SPECL PROMO)         1312\n",
       "Name: Department Name, dtype: int64"
      ]
     },
     "execution_count": 66,
     "metadata": {},
     "output_type": "execute_result"
    }
   ],
   "source": [
    "df[\"Department Name\"].value_counts()[:50]"
   ]
  },
  {
   "cell_type": "code",
   "execution_count": 6,
   "id": "22b9e4a4",
   "metadata": {},
   "outputs": [
    {
     "data": {
      "text/plain": [
       "FASTENERS/SCREWS/NAILS/BOLTS ETC    996474\n",
       "CMN Donations                       159804\n",
       "KEY KWIKSET KW1-ACE250PK             69540\n",
       "BIRDSEED WILDBIRD 20#ACE             66847\n",
       "KEY SCHLAGE SC1-ACE250PK             60908\n",
       "Name: Item Description, dtype: int64"
      ]
     },
     "execution_count": 6,
     "metadata": {},
     "output_type": "execute_result"
    }
   ],
   "source": [
    "df[\"Item Description\"].value_counts().head()"
   ]
  },
  {
   "cell_type": "code",
   "execution_count": 81,
   "id": "cbf8c97b",
   "metadata": {},
   "outputs": [
    {
     "data": {
      "text/plain": [
       "703055      0.12\n",
       "703061      0.08\n",
       "703178      0.21\n",
       "703319      0.11\n",
       "703424       0.2\n",
       "            ... \n",
       "15627401       3\n",
       "15627403       1\n",
       "15627435       1\n",
       "15627469       1\n",
       "15627478       1\n",
       "Name: Cost, Length: 159804, dtype: object"
      ]
     },
     "execution_count": 81,
     "metadata": {},
     "output_type": "execute_result"
    }
   ],
   "source": [
    "df[df[\"Item Description\"] == \"CMN Donations\"][\"Cost\"]"
   ]
  },
  {
   "cell_type": "code",
   "execution_count": 11,
   "id": "045f41f7",
   "metadata": {},
   "outputs": [
    {
     "data": {
      "text/plain": [
       "0             4297\n",
       "1             4297\n",
       "2           A03697\n",
       "3           A03697\n",
       "4           A03697\n",
       "             ...  \n",
       "15627494    I38056\n",
       "15627495    I38056\n",
       "15627496    I38056\n",
       "15627497    B84423\n",
       "15627498       NaN\n",
       "Name: Receipt Number, Length: 15627499, dtype: category\n",
       "Categories (1128021, object): ['10077', '10078', '10079', '10080', ..., '55826', 'J17289', 'K14516', 'X18925']"
      ]
     },
     "execution_count": 11,
     "metadata": {},
     "output_type": "execute_result"
    }
   ],
   "source": [
    "df[\"Receipt Number\"]"
   ]
  },
  {
   "cell_type": "code",
   "execution_count": 6,
   "id": "4832c418",
   "metadata": {},
   "outputs": [],
   "source": [
    "sale_df = tdf.loc[(tdf['Line Item Transaction Type'] == 'Sale')] "
   ]
  },
  {
   "cell_type": "code",
   "execution_count": 160,
   "id": "7f4a036e",
   "metadata": {},
   "outputs": [
    {
     "data": {
      "text/plain": [
       "Sale                          14339178\n",
       "Return                         1229316\n",
       "Defective                        58798\n",
       "Exchange                           179\n",
       "Line Item Transaction Type          23\n",
       "Name: Line Item Transaction Type, dtype: int64"
      ]
     },
     "execution_count": 160,
     "metadata": {},
     "output_type": "execute_result"
    }
   ],
   "source": [
    "tdf['Line Item Transaction Type'].value_counts()"
   ]
  },
  {
   "cell_type": "code",
   "execution_count": 53,
   "id": "3673a2c2",
   "metadata": {},
   "outputs": [],
   "source": [
    "transact_df = tdf[[\"Item Description\",\"Receipt Number\"]].dropna()"
   ]
  },
  {
   "cell_type": "code",
   "execution_count": 54,
   "id": "ccc02d63",
   "metadata": {},
   "outputs": [],
   "source": [
    "transact_df[\"Item Description\"] = transact_df[\"Item Description\"].str.replace(\" \",\"_\")\n",
    "transact_df = transact_df.groupby(by = [\"Receipt Number\"])[\"Item Description\"].apply(\",\".join).reset_index()\n",
    "transact_df[\"Item Description\"] = transact_df[\"Item Description\"].str.split(\",\")"
   ]
  },
  {
   "cell_type": "code",
   "execution_count": 7,
   "id": "c7f71005",
   "metadata": {},
   "outputs": [],
   "source": [
    "transact_df = sale_df[[\"Item Description\",\"Receipt Number\", \"Store #\"]].dropna()"
   ]
  },
  {
   "cell_type": "code",
   "execution_count": 158,
   "id": "a8414816",
   "metadata": {},
   "outputs": [
    {
     "data": {
      "text/plain": [
       "Index(['Item Description', 'Receipt Number', 'Store #'], dtype='object')"
      ]
     },
     "execution_count": 158,
     "metadata": {},
     "output_type": "execute_result"
    }
   ],
   "source": [
    "transact_df.columns"
   ]
  },
  {
   "cell_type": "code",
   "execution_count": 8,
   "id": "cf35dcca",
   "metadata": {},
   "outputs": [],
   "source": [
    "transact_df[\"Item Description\"] = transact_df[\"Item Description\"].str.replace(\" \",\"_\")\n",
    "transact_df = transact_df.groupby(by = [\"Receipt Number\",\"Store #\"])[\"Item Description\"].apply(\",\".join).reset_index()\n",
    "transact_df[\"Item Description\"] = transact_df[\"Item Description\"].str.split(\",\")"
   ]
  },
  {
   "cell_type": "code",
   "execution_count": 9,
   "id": "1ff325eb",
   "metadata": {},
   "outputs": [
    {
     "data": {
      "text/plain": [
       "0          [CAN_LINER_CLR_45-50_BX80, RAGS_INABX_10X12_BX...\n",
       "1                                 [BATTRY_ALKLN_RAYO_D_PK12]\n",
       "2                                 [ACE_SNIPS_STRT_CUT_AVIAT]\n",
       "3          [50LB_CALCIUM_CHLORIDE_FLAKES, LRG_PLASTIC_GAR...\n",
       "4                                  [DROPCLOTH_9'_X_12'_1MIL]\n",
       "                                 ...                        \n",
       "6355039                   [FASTENERS/SCREWS/NAILS/BOLTS_ETC]\n",
       "6355040    [CONN_BUTT_INS22-16G_PK10, HORZ_GFCI_COVER_GRA...\n",
       "6355041                           [COOLER_PM_GRIPPER22_TECH]\n",
       "6355042    [ANTI-SKID_PAD_RND_2\"_CD4, MEMO_BOOK_W/PEN, LI...\n",
       "6355043    [SHEAR_HDG_SERRATED_23\", LOPPER_ANVILHVYDUTY_32\"]\n",
       "Name: Item Description, Length: 6355044, dtype: object"
      ]
     },
     "execution_count": 9,
     "metadata": {},
     "output_type": "execute_result"
    }
   ],
   "source": [
    "transact_df[\"Item Description\"]"
   ]
  },
  {
   "cell_type": "code",
   "execution_count": 165,
   "id": "39e4718d",
   "metadata": {},
   "outputs": [],
   "source": [
    "transact_df[\"Item per Receipt\"] = transact_df[\"Item Description\"].apply(lambda x: len(x))"
   ]
  },
  {
   "cell_type": "code",
   "execution_count": 167,
   "id": "a36eed8e",
   "metadata": {},
   "outputs": [
    {
     "data": {
      "text/plain": [
       "1      2898290\n",
       "2      1586873\n",
       "3       830987\n",
       "4       442569\n",
       "5       240365\n",
       "        ...   \n",
       "207          1\n",
       "67           1\n",
       "76           1\n",
       "81           1\n",
       "79           1\n",
       "Name: Item per Receipt, Length: 99, dtype: int64"
      ]
     },
     "execution_count": 167,
     "metadata": {},
     "output_type": "execute_result"
    }
   ],
   "source": [
    "transact_df[\"Item per Receipt\"].value_counts() "
   ]
  },
  {
   "cell_type": "code",
   "execution_count": 12,
   "id": "fffea530",
   "metadata": {},
   "outputs": [
    {
     "name": "stdout",
     "output_type": "stream",
     "text": [
      "Date 732\n",
      "Transaction Time 60184\n",
      "Customer Number 312946\n",
      "Receipt Number 1128022\n",
      "Store # 31\n",
      "Store Name 31\n",
      "Scanned UPC 133074\n",
      "Item Number 104689\n",
      "Item Description 103297\n",
      "Net Sales Units 1786\n",
      "Net Sales 30570\n",
      "Cost 50783\n",
      "Gross Margin 34328\n",
      "Gross Margin % 29170\n",
      "Department Code 79\n",
      "Department Name 79\n",
      "Class Code 670\n",
      "Class Name 672\n",
      "Fineline Code 5655\n",
      "Fineline Name 2858\n",
      "Item was Scanned 12\n",
      "MIP Promo ID 2759\n",
      "Promo/Discount 7\n",
      "Dynamic Promo ID 5254\n",
      "Actual Price 10127\n",
      "Retail Price 2764\n",
      "Actual-Retail 12219\n",
      "Taxable 4\n",
      "Tender Type 10\n",
      "$ Off Retail 13256\n",
      "Zip Code 11264\n",
      "Zip Plus-4 16903\n",
      "Loyalty ID 377600\n",
      "Clerk 963\n",
      "Item Type 6\n",
      "Line # 442\n",
      "Line Item Transaction Type 6\n",
      "Pricing Source 16\n",
      "Return Code 12\n"
     ]
    }
   ],
   "source": [
    "for c in df.columns:\n",
    "    print(c, len(df[c].unique()))"
   ]
  },
  {
   "cell_type": "code",
   "execution_count": 55,
   "id": "92d69f18",
   "metadata": {},
   "outputs": [
    {
     "data": {
      "text/plain": [
       "0          [CAN_LINER_CLR_45-50_BX80, RAGS_INABX_10X12_BX...\n",
       "1                                 [BATTRY_ALKLN_RAYO_D_PK12]\n",
       "2                                 [ACE_SNIPS_STRT_CUT_AVIAT]\n",
       "3          [50LB_CALCIUM_CHLORIDE_FLAKES, LRG_PLASTIC_GAR...\n",
       "4                                  [DROPCLOTH_9'_X_12'_1MIL]\n",
       "                                 ...                        \n",
       "1128016                   [FASTENERS/SCREWS/NAILS/BOLTS_ETC]\n",
       "1128017    [CONN_BUTT_INS22-16G_PK10, HORZ_GFCI_COVER_GRA...\n",
       "1128018    [PLAYMATE_GRIPPER_9_TECH, COOLER_PM_GRIPPER22_...\n",
       "1128019    [ANTI-SKID_PAD_RND_2\"_CD4, MEMO_BOOK_W/PEN, LI...\n",
       "1128020    [SHEAR_HDG_SERRATED_23\", LOPPER_ANVILHVYDUTY_32\"]\n",
       "Name: Item Description, Length: 1128021, dtype: object"
      ]
     },
     "execution_count": 55,
     "metadata": {},
     "output_type": "execute_result"
    }
   ],
   "source": [
    "transact_df[\"Item Description\"]"
   ]
  },
  {
   "cell_type": "code",
   "execution_count": null,
   "id": "978091c1",
   "metadata": {},
   "outputs": [],
   "source": []
  },
  {
   "cell_type": "code",
   "execution_count": 10,
   "id": "1ffe81a2",
   "metadata": {},
   "outputs": [],
   "source": [
    "import gensim"
   ]
  },
  {
   "cell_type": "code",
   "execution_count": 56,
   "id": "bc6281c8",
   "metadata": {},
   "outputs": [],
   "source": [
    "model = gensim.models.Word2Vec(window=10, min_count=5, workers=8)"
   ]
  },
  {
   "cell_type": "code",
   "execution_count": 11,
   "id": "27cb16d2",
   "metadata": {},
   "outputs": [],
   "source": [
    "model1 = gensim.models.Word2Vec(window=5, min_count=2, workers=8)"
   ]
  },
  {
   "cell_type": "code",
   "execution_count": 57,
   "id": "2aca7cf9",
   "metadata": {},
   "outputs": [],
   "source": [
    "model.build_vocab(transact_df[\"Item Description\"], progress_per=1000)"
   ]
  },
  {
   "cell_type": "code",
   "execution_count": 12,
   "id": "e640a357",
   "metadata": {},
   "outputs": [],
   "source": [
    "model1.build_vocab(transact_df[\"Item Description\"], progress_per=1000)"
   ]
  },
  {
   "cell_type": "code",
   "execution_count": 58,
   "id": "b82882ea",
   "metadata": {},
   "outputs": [
    {
     "data": {
      "text/plain": [
       "(73051085, 78414525)"
      ]
     },
     "execution_count": 58,
     "metadata": {},
     "output_type": "execute_result"
    }
   ],
   "source": [
    "model.train(transact_df[\"Item Description\"], total_examples = model.corpus_count, epochs=model.epochs)"
   ]
  },
  {
   "cell_type": "code",
   "execution_count": 13,
   "id": "f2ab5441",
   "metadata": {},
   "outputs": [
    {
     "data": {
      "text/plain": [
       "(66888751, 71967300)"
      ]
     },
     "execution_count": 13,
     "metadata": {},
     "output_type": "execute_result"
    }
   ],
   "source": [
    "model1.train(transact_df[\"Item Description\"], total_examples = model1.corpus_count, epochs=model1.epochs)"
   ]
  },
  {
   "cell_type": "code",
   "execution_count": 64,
   "id": "827d2bd1",
   "metadata": {},
   "outputs": [
    {
     "data": {
      "text/plain": [
       "[('HEX_MS_NUTS_Z__6-32', 0.5637235641479492),\n",
       " ('LED_ICICLE_DRIPPING_48CT', 0.5624490976333618),\n",
       " ('STOCKING_HOLDER_PRESENT-AST', 0.5546398162841797),\n",
       " ('12\"PRO-CHEF_SPATULA-NAT', 0.5457274913787842),\n",
       " ('TREE_STAND_B+DSMART_STAND', 0.5447747707366943),\n",
       " ('BATTERY_CORDLSS_CBBT1008', 0.5378296375274658),\n",
       " ('SPACEMAKER_CAN_OPENER', 0.5345514416694641),\n",
       " ('NITE_LIGHT_CANDLE_LED_AB', 0.5329492688179016),\n",
       " ('PLASTIC_GLD_REINDEER_ORN-2_ASST', 0.5275413990020752),\n",
       " ('TEXTILENE_PLACEMAT-PORT', 0.5253397226333618)]"
      ]
     },
     "execution_count": 64,
     "metadata": {},
     "output_type": "execute_result"
    }
   ],
   "source": [
    "model.wv.most_similar(\"TWINKLE_FLAMETIP_SET_CLR\")"
   ]
  },
  {
   "cell_type": "code",
   "execution_count": 65,
   "id": "18d02076",
   "metadata": {},
   "outputs": [
    {
     "data": {
      "text/plain": [
       "[('DOL_LT_UP/MUSIC_SANTA_TREE', 0.9714522957801819),\n",
       " ('LED_C5_REPLACEMENT_4PK_B', 0.9679093956947327),\n",
       " ('DOL_SANTA_TRAIN_MUSIC/LED', 0.96734219789505),\n",
       " (\"CORD_REEL_INDOOR_8'\", 0.9673222899436951),\n",
       " ('\"24\"\"ELECTRIC_ANIMATED_ELF\"', 0.9664461612701416),\n",
       " ('4\"NY_YANKEES_BABY_RATTLE_ORN', 0.9659976959228516),\n",
       " ('11.5\"ICED_OWL', 0.9658681154251099),\n",
       " ('NUTCRACKER_TRAD_81N', 0.9652155041694641),\n",
       " ('Penguin:_Angel', 0.965091347694397),\n",
       " ('Penguin:_Abigail', 0.9650747776031494)]"
      ]
     },
     "execution_count": 65,
     "metadata": {},
     "output_type": "execute_result"
    }
   ],
   "source": [
    "model1.wv.most_similar(\"TWINKLE_FLAMETIP_SET_CLR\")"
   ]
  },
  {
   "cell_type": "code",
   "execution_count": 14,
   "id": "f69b06f2",
   "metadata": {},
   "outputs": [
    {
     "data": {
      "text/plain": [
       "[('KEY_YALE_Y11-ACE', 0.8046398162841797),\n",
       " ('KEY_ARROW_AR1-ACE', 0.792739987373352),\n",
       " ('KEY_YALE_Y1-ACE', 0.7824079394340515),\n",
       " ('KEY_SEGAL_SE1-ACE', 0.7774224281311035),\n",
       " ('KEY_MASTER_M1-ACE250PK', 0.7755621671676636),\n",
       " ('KEY_KWIKSET_KW1-ACE250PK', 0.7701432704925537),\n",
       " ('KEY_BALDWIN_5PIN_BW5', 0.7637624740600586),\n",
       " ('KEY_KWIKSET_KW10-ACE', 0.7425149083137512),\n",
       " ('KEY_SCHLAGE_SC4-ACE', 0.7425113916397095),\n",
       " ('KEY_NATIONAL_NA14-ACE', 0.7382917404174805)]"
      ]
     },
     "execution_count": 14,
     "metadata": {},
     "output_type": "execute_result"
    }
   ],
   "source": [
    "model1.wv.most_similar(\"KEY_SCHLAGE_SC1-ACE250PK\")"
   ]
  },
  {
   "cell_type": "code",
   "execution_count": 17,
   "id": "eee18014",
   "metadata": {},
   "outputs": [
    {
     "data": {
      "text/plain": [
       "[('KEY_ARROW_AR1-ACE', 0.8109481334686279),\n",
       " ('TAGS_KEY_ASST_200', 0.7968012690544128),\n",
       " ('KEY_TAG_ID_W/RING_ASST75', 0.7941020727157593),\n",
       " ('CAP_KEY_ASST_275/PKG', 0.7935987710952759),\n",
       " ('KEY_SEGAL_SE1-ACE', 0.7897117137908936),\n",
       " ('KEY_YALE_Y11-ACE', 0.786243200302124),\n",
       " ('KEY_NATIONAL_NA14-ACE', 0.7796844840049744),\n",
       " ('KEY_DEXTERDE6-ACE_250PK', 0.7765289545059204),\n",
       " ('KEY_YALE_Y1-ACE', 0.7684882283210754),\n",
       " ('TAGS_ID_KEY_W/RING_2PKCS', 0.7644720673561096)]"
      ]
     },
     "execution_count": 17,
     "metadata": {},
     "output_type": "execute_result"
    }
   ],
   "source": [
    "model.wv.most_similar(\"KEY_SCHLAGE_SC1-ACE250PK\")"
   ]
  },
  {
   "cell_type": "code",
   "execution_count": 172,
   "id": "b4803a37",
   "metadata": {},
   "outputs": [
    {
     "data": {
      "text/plain": [
       "[('OIL_SUNFLOWER_BSEED_20LB', 0.8015830516815186),\n",
       " ('SUET_NUTTY_BUTTR_BIRDWATCHR_BEST', 0.7462109327316284),\n",
       " ('FEEDR_BIRDSCAPE_SQRL_PRF', 0.7070229053497314),\n",
       " ('BLACK_OIL_SUNFLOWER_5#', 0.7049170136451721),\n",
       " ('SUET_CAKE_HI_ENERGY_8PK', 0.7047995328903198),\n",
       " ('LYRIC_FRUIT_&_NUT_5#', 0.6918777823448181),\n",
       " ('FRUIT_&_NUT_BIRD_FOOD20#', 0.6891300082206726),\n",
       " ('OIL_SUNFLOWER_BSEED_2LB', 0.6863377690315247),\n",
       " ('SAFFLOWER_ACE_5LB', 0.6785207986831665),\n",
       " ('FEEDER_TRIPLE_TUBE_2-N-1', 0.6742327213287354)]"
      ]
     },
     "execution_count": 172,
     "metadata": {},
     "output_type": "execute_result"
    }
   ],
   "source": [
    "model1.wv.most_similar(\"BIRDSEED_WILDBIRD_20#ACE\")"
   ]
  },
  {
   "cell_type": "code",
   "execution_count": 18,
   "id": "eafb8519",
   "metadata": {},
   "outputs": [
    {
     "data": {
      "text/plain": [
       "[('OIL_SUNFLOWER_BSEED_20LB', 0.846392035484314),\n",
       " ('SUET_NUTTY_BUTTR_BIRDWATCHR_BEST', 0.8180795907974243),\n",
       " ('BIRD_SEED_BUCKET_W/LID', 0.7445982694625854),\n",
       " ('FRUIT_&_NUT_BIRD_FOOD20#', 0.7276178598403931),\n",
       " ('SUET_CAKE_HI_ENERGY_8PK', 0.7225545048713684),\n",
       " ('CRACKED_CORN_4LB', 0.7059508562088013),\n",
       " ('LYRIC_SUPREME_20#.', 0.7039620876312256),\n",
       " ('RED_PANORAMA_FEEDER', 0.7013241052627563),\n",
       " ('BLACK_OIL_SUNFLOWER_5#', 0.6896542310714722),\n",
       " ('LYRIC_DELITE_5#_BAG', 0.6882128715515137)]"
      ]
     },
     "execution_count": 18,
     "metadata": {},
     "output_type": "execute_result"
    }
   ],
   "source": [
    "model.wv.most_similar(\"BIRDSEED_WILDBIRD_20#ACE\")"
   ]
  },
  {
   "cell_type": "code",
   "execution_count": 75,
   "id": "b5e2dbb3",
   "metadata": {},
   "outputs": [
    {
     "data": {
      "text/plain": [
       "[('ROD_THREAD5/16X36STL_RED', 0.7005201578140259),\n",
       " ('ROD_THREAD_5/16X12STL_RE', 0.6896839141845703),\n",
       " ('ROD_THREAD_1/4X12_STL_BL', 0.6887768507003784),\n",
       " ('ROD_THREAD1/4X36STL_BLUE', 0.6791869401931763),\n",
       " ('ROD_THREADED_SS_3/8X36\"', 0.6790360808372498),\n",
       " ('STEEL_FLAT_SLOT1-3/8X36\"', 0.6766172051429749),\n",
       " ('ROD_THREAD_3/8X12STL_YEL', 0.676546573638916),\n",
       " ('ROD_THREAD3/8X36STL_YELO', 0.6654981374740601),\n",
       " ('ROD_THREADED_SS_5/16X36\"', 0.6624372601509094),\n",
       " ('ROD_THREAD1/2X36STL_BLUE', 0.6581319570541382)]"
      ]
     },
     "execution_count": 75,
     "metadata": {},
     "output_type": "execute_result"
    }
   ],
   "source": [
    "model1.wv.most_similar(\"FASTENERS/SCREWS/NAILS/BOLTS_ETC\")"
   ]
  },
  {
   "cell_type": "code",
   "execution_count": 111,
   "id": "613132a3",
   "metadata": {},
   "outputs": [
    {
     "data": {
      "text/plain": [
       "[('LAWN_WEED_KILLER_5M', 0.9518661499023438),\n",
       " ('LAWN_FOOD_STEP1_5M', 0.9472804665565491),\n",
       " ('7206436_$7_INST_SAVINGS', 0.9463576078414917),\n",
       " (\"MOTHER'S_DAY_25%_OFF\", 0.9458390474319458),\n",
       " ('ROCKET_WEEDER', 0.945458173751831),\n",
       " ('DIAMOND_3WAY_RYE_BLEND_3LBS', 0.9449029564857483),\n",
       " ('STARTER_FERT_5M_W/GR_SMRT/MESA', 0.9440099596977234),\n",
       " ('WEED_&_FEED_15M_PALLET', 0.9433084726333618),\n",
       " ('GREAT_GARDNS_1.1CF_LAWN_SOIL', 0.9418485164642334),\n",
       " ('PEAT_MOSS_1.0_CU._FT', 0.939312756061554)]"
      ]
     },
     "execution_count": 111,
     "metadata": {},
     "output_type": "execute_result"
    }
   ],
   "source": [
    "model1.wv.most_similar(\"COSTELLO'S_FALL_GRASS_SEED_10LB\")"
   ]
  },
  {
   "cell_type": "code",
   "execution_count": 113,
   "id": "55b89681",
   "metadata": {},
   "outputs": [
    {
     "data": {
      "text/plain": [
       "[('PEAT_MOSS_1.0_CU._FT', 0.8510395288467407),\n",
       " ('ACE_FERTL_STARTER_5M', 0.8097259998321533),\n",
       " ('AFRICAN_VIOLET_4\"', 0.8080494403839111),\n",
       " ('WEED-B-GON_MAX_RTU_GAL', 0.8034069538116455),\n",
       " ('ROUND_TRIO_JADE_13\"', 0.8030992746353149),\n",
       " ('REPL_HNDL_7127129/713576', 0.8014741539955139),\n",
       " ('WEED&GRASS_KLR_32OZ', 0.8010252714157104),\n",
       " ('WRAP_TREE_3\"X50\\'', 0.798005998134613),\n",
       " ('BIRD_FEEDER_RINGPULL_23\"', 0.7908530235290527),\n",
       " ('SPRAYER_HOSE_END_32OZ', 0.7903712391853333)]"
      ]
     },
     "execution_count": 113,
     "metadata": {},
     "output_type": "execute_result"
    }
   ],
   "source": [
    "model.wv.most_similar(\"COSTELLO'S_FALL_GRASS_SEED_10LB\", topn = 10)"
   ]
  },
  {
   "cell_type": "code",
   "execution_count": 74,
   "id": "77431135",
   "metadata": {},
   "outputs": [
    {
     "data": {
      "text/plain": [
       "[('ROD_THREADED_SS_5/16X36\"', 0.5615594983100891),\n",
       " ('ROD_THREAD5/16X36STL_RED', 0.5576003789901733),\n",
       " ('ROD_THREAD3/8X36STL_YELO', 0.5490500926971436),\n",
       " ('ROD_THREAD7/16X36STL_GRN', 0.5485273599624634),\n",
       " ('THREADLOCKER_BLUE_2.5ML', 0.5444945096969604),\n",
       " ('ROD_THREAD_1/4X12_STL_BL', 0.5415079593658447),\n",
       " ('ROD_THREADED_SS_3/8X36\"', 0.5340322256088257),\n",
       " ('ROD_THREAD_3/8X12STL_YEL', 0.524300754070282),\n",
       " ('TAP_PLUG_5/16\"-18NC_C', 0.5092625617980957),\n",
       " ('STEEL_ANGL_SLOT1-1/2X36\"', 0.49755531549453735)]"
      ]
     },
     "execution_count": 74,
     "metadata": {},
     "output_type": "execute_result"
    }
   ],
   "source": [
    "model.wv.most_similar(\"FASTENERS/SCREWS/NAILS/BOLTS_ETC\")"
   ]
  },
  {
   "cell_type": "code",
   "execution_count": 175,
   "id": "10ef9926",
   "metadata": {},
   "outputs": [
    {
     "name": "stdout",
     "output_type": "stream",
     "text": [
      "/Users/manalshah/Desktop/DSF Project\n"
     ]
    }
   ],
   "source": [
    "%cd .."
   ]
  },
  {
   "cell_type": "code",
   "execution_count": 19,
   "id": "b8b4e2fa",
   "metadata": {},
   "outputs": [],
   "source": [
    "model.save(\"./word2vec_2.model\")"
   ]
  },
  {
   "cell_type": "code",
   "execution_count": 174,
   "id": "6c40fc27",
   "metadata": {},
   "outputs": [],
   "source": [
    "model1.save(\"./word2vec_10.model\")"
   ]
  },
  {
   "cell_type": "code",
   "execution_count": 20,
   "id": "1ba13835",
   "metadata": {},
   "outputs": [],
   "source": [
    "model.save('doc_tensor_2.kv')"
   ]
  },
  {
   "cell_type": "code",
   "execution_count": null,
   "id": "6aa3e880",
   "metadata": {},
   "outputs": [],
   "source": [
    "model1.save('doc_tensor_10.kv')"
   ]
  },
  {
   "cell_type": "code",
   "execution_count": 21,
   "id": "3d541fcf",
   "metadata": {},
   "outputs": [
    {
     "data": {
      "text/plain": [
       "100"
      ]
     },
     "execution_count": 21,
     "metadata": {},
     "output_type": "execute_result"
    }
   ],
   "source": [
    "model.wv[\"BIRDSEED_WILDBIRD_20#ACE\"].shape[0]"
   ]
  },
  {
   "cell_type": "code",
   "execution_count": 23,
   "id": "58249baa",
   "metadata": {},
   "outputs": [
    {
     "data": {
      "text/plain": [
       "74036"
      ]
     },
     "execution_count": 23,
     "metadata": {},
     "output_type": "execute_result"
    }
   ],
   "source": [
    "len(model.wv.vocab)"
   ]
  },
  {
   "cell_type": "code",
   "execution_count": 176,
   "id": "6bffd0b4",
   "metadata": {},
   "outputs": [
    {
     "data": {
      "text/plain": [
       "90814"
      ]
     },
     "execution_count": 176,
     "metadata": {},
     "output_type": "execute_result"
    }
   ],
   "source": [
    "len(model1.wv.vocab)"
   ]
  },
  {
   "cell_type": "code",
   "execution_count": 202,
   "id": "a69d73f3",
   "metadata": {},
   "outputs": [
    {
     "data": {
      "text/plain": [
       "100"
      ]
     },
     "execution_count": 202,
     "metadata": {},
     "output_type": "execute_result"
    }
   ],
   "source": [
    "EMBEDDING_DIM"
   ]
  },
  {
   "cell_type": "code",
   "execution_count": 85,
   "id": "a9cae430",
   "metadata": {},
   "outputs": [],
   "source": [
    "VOCAB_SIZE = len(model.wv.vocab)\n",
    "EMBEDDING_DIM = model.wv[\"BIRDSEED_WILDBIRD_20#ACE\"].shape[0]\n",
    "\n",
    "#w2v = np.zeros((VOCAB_SIZE, EMBEDDING_DIM))\n",
    "w2v_ = np.zeros((VOCAB_SIZE, EMBEDDING_DIM))"
   ]
  },
  {
   "cell_type": "code",
   "execution_count": 209,
   "id": "e960a08f",
   "metadata": {},
   "outputs": [],
   "source": [
    "VOCAB_SIZE = len(model1.wv.vocab)\n",
    "EMBEDDING_DIM = model1.wv[\"BIRDSEED_WILDBIRD_20#ACE\"].shape[0]\n",
    "\n",
    "#w2v = np.zeros((VOCAB_SIZE, EMBEDDING_DIM))\n",
    "w2v_ = np.zeros((VOCAB_SIZE, EMBEDDING_DIM))"
   ]
  },
  {
   "cell_type": "code",
   "execution_count": 86,
   "id": "5f414c76",
   "metadata": {},
   "outputs": [],
   "source": [
    "#tsv_file_path = \"./tensorboard/metadata.tsv\"\n",
    "#with open(tsv_file_path,'w+', encoding='utf-8') as file_metadata:\n",
    "for i,word in enumerate(model.wv.index2word[:VOCAB_SIZE]):\n",
    "    w2v_[i] = model.wv[word]\n",
    "        #file_metadata.write(word+'n')"
   ]
  },
  {
   "cell_type": "code",
   "execution_count": 210,
   "id": "a2bf7a9b",
   "metadata": {},
   "outputs": [],
   "source": [
    "#tsv_file_path = \"./tensorboard/metadata.tsv\"\n",
    "#with open(tsv_file_path,'w+', encoding='utf-8') as file_metadata:\n",
    "for i,word in enumerate(model1.wv.index2word[:VOCAB_SIZE]):\n",
    "    w2v_[i] = model1.wv[word]\n",
    "        #file_metadata.write(word+'n')"
   ]
  },
  {
   "cell_type": "code",
   "execution_count": 179,
   "id": "35f0f4fd",
   "metadata": {},
   "outputs": [
    {
     "name": "stdout",
     "output_type": "stream",
     "text": [
      "WARNING:tensorflow:From /Users/manalshah/opt/anaconda3/envs/tf/lib/python3.7/site-packages/tensorflow_core/python/compat/v2_compat.py:65: disable_resource_variables (from tensorflow.python.ops.variable_scope) is deprecated and will be removed in a future version.\n",
      "Instructions for updating:\n",
      "non-resource variables are not supported in the long term\n"
     ]
    }
   ],
   "source": [
    "import tensorflow.compat.v1 as tf\n",
    "tf.disable_v2_behavior() \n",
    "#import tensorflow as tf\n",
    "#from tensorboard import projector\n",
    "from tensorboard.plugins import projector\n",
    "TENSORBOARD_FILES_PATH = \"./tensorboard\""
   ]
  },
  {
   "cell_type": "code",
   "execution_count": 181,
   "id": "5598d09e",
   "metadata": {},
   "outputs": [
    {
     "ename": "InvalidArgumentError",
     "evalue": "You must feed a value for placeholder tensor 'embedding' with dtype float and shape [90814,100]\n\t [[node embedding (defined at Users/manalshah/opt/anaconda3/envs/tf/lib/python3.7/site-packages/tensorflow_core/python/framework/ops.py:1751) ]]\n\nOriginal stack trace for 'embedding':\n  File \"Users/manalshah/opt/anaconda3/envs/tf/lib/python3.7/runpy.py\", line 193, in _run_module_as_main\n    \"__main__\", mod_spec)\n  File \"Users/manalshah/opt/anaconda3/envs/tf/lib/python3.7/runpy.py\", line 85, in _run_code\n    exec(code, run_globals)\n  File \"Users/manalshah/opt/anaconda3/envs/tf/lib/python3.7/site-packages/ipykernel_launcher.py\", line 16, in <module>\n    app.launch_new_instance()\n  File \"Users/manalshah/opt/anaconda3/envs/tf/lib/python3.7/site-packages/traitlets/config/application.py\", line 846, in launch_instance\n    app.start()\n  File \"Users/manalshah/opt/anaconda3/envs/tf/lib/python3.7/site-packages/ipykernel/kernelapp.py\", line 677, in start\n    self.io_loop.start()\n  File \"Users/manalshah/opt/anaconda3/envs/tf/lib/python3.7/site-packages/tornado/platform/asyncio.py\", line 199, in start\n    self.asyncio_loop.run_forever()\n  File \"Users/manalshah/opt/anaconda3/envs/tf/lib/python3.7/asyncio/base_events.py\", line 541, in run_forever\n    self._run_once()\n  File \"Users/manalshah/opt/anaconda3/envs/tf/lib/python3.7/asyncio/base_events.py\", line 1786, in _run_once\n    handle._run()\n  File \"Users/manalshah/opt/anaconda3/envs/tf/lib/python3.7/asyncio/events.py\", line 88, in _run\n    self._context.run(self._callback, *self._args)\n  File \"Users/manalshah/opt/anaconda3/envs/tf/lib/python3.7/site-packages/ipykernel/kernelbase.py\", line 457, in dispatch_queue\n    await self.process_one()\n  File \"Users/manalshah/opt/anaconda3/envs/tf/lib/python3.7/site-packages/ipykernel/kernelbase.py\", line 446, in process_one\n    await dispatch(*args)\n  File \"Users/manalshah/opt/anaconda3/envs/tf/lib/python3.7/site-packages/ipykernel/kernelbase.py\", line 353, in dispatch_shell\n    await result\n  File \"Users/manalshah/opt/anaconda3/envs/tf/lib/python3.7/site-packages/ipykernel/kernelbase.py\", line 648, in execute_request\n    reply_content = await reply_content\n  File \"Users/manalshah/opt/anaconda3/envs/tf/lib/python3.7/site-packages/ipykernel/ipkernel.py\", line 353, in do_execute\n    res = shell.run_cell(code, store_history=store_history, silent=silent)\n  File \"Users/manalshah/opt/anaconda3/envs/tf/lib/python3.7/site-packages/ipykernel/zmqshell.py\", line 533, in run_cell\n    return super(ZMQInteractiveShell, self).run_cell(*args, **kwargs)\n  File \"Users/manalshah/opt/anaconda3/envs/tf/lib/python3.7/site-packages/IPython/core/interactiveshell.py\", line 2899, in run_cell\n    raw_cell, store_history, silent, shell_futures)\n  File \"Users/manalshah/opt/anaconda3/envs/tf/lib/python3.7/site-packages/IPython/core/interactiveshell.py\", line 2944, in _run_cell\n    return runner(coro)\n  File \"Users/manalshah/opt/anaconda3/envs/tf/lib/python3.7/site-packages/IPython/core/async_helpers.py\", line 68, in _pseudo_sync_runner\n    coro.send(None)\n  File \"Users/manalshah/opt/anaconda3/envs/tf/lib/python3.7/site-packages/IPython/core/interactiveshell.py\", line 3170, in run_cell_async\n    interactivity=interactivity, compiler=compiler, result=result)\n  File \"Users/manalshah/opt/anaconda3/envs/tf/lib/python3.7/site-packages/IPython/core/interactiveshell.py\", line 3361, in run_ast_nodes\n    if (await self.run_code(code, result,  async_=asy)):\n  File \"Users/manalshah/opt/anaconda3/envs/tf/lib/python3.7/site-packages/IPython/core/interactiveshell.py\", line 3441, in run_code\n    exec(code_obj, self.user_global_ns, self.user_ns)\n  File \"var/folders/pr/vbbckh1132s7_94b6yhys1rr0000gn/T/ipykernel_90004/2756863298.py\", line 2, in <module>\n    X_init = tf.placeholder(tf.float32, shape=(VOCAB_SIZE, EMBEDDING_DIM), name=\"embedding\")\n  File \"Users/manalshah/opt/anaconda3/envs/tf/lib/python3.7/site-packages/tensorflow_core/python/ops/array_ops.py\", line 2630, in placeholder\n    return gen_array_ops.placeholder(dtype=dtype, shape=shape, name=name)\n  File \"Users/manalshah/opt/anaconda3/envs/tf/lib/python3.7/site-packages/tensorflow_core/python/ops/gen_array_ops.py\", line 6671, in placeholder\n    \"Placeholder\", dtype=dtype, shape=shape, name=name)\n  File \"Users/manalshah/opt/anaconda3/envs/tf/lib/python3.7/site-packages/tensorflow_core/python/framework/op_def_library.py\", line 793, in _apply_op_helper\n    op_def=op_def)\n  File \"Users/manalshah/opt/anaconda3/envs/tf/lib/python3.7/site-packages/tensorflow_core/python/util/deprecation.py\", line 507, in new_func\n    return func(*args, **kwargs)\n  File \"Users/manalshah/opt/anaconda3/envs/tf/lib/python3.7/site-packages/tensorflow_core/python/framework/ops.py\", line 3360, in create_op\n    attrs, op_def, compute_device)\n  File \"Users/manalshah/opt/anaconda3/envs/tf/lib/python3.7/site-packages/tensorflow_core/python/framework/ops.py\", line 3429, in _create_op_internal\n    op_def=op_def)\n  File \"Users/manalshah/opt/anaconda3/envs/tf/lib/python3.7/site-packages/tensorflow_core/python/framework/ops.py\", line 1751, in __init__\n    self._traceback = tf_stack.extract_stack()\n",
     "output_type": "error",
     "traceback": [
      "\u001b[0;31m---------------------------------------------------------------------------\u001b[0m",
      "\u001b[0;31mInvalidArgumentError\u001b[0m                      Traceback (most recent call last)",
      "\u001b[0;32m~/opt/anaconda3/envs/tf/lib/python3.7/site-packages/tensorflow_core/python/client/session.py\u001b[0m in \u001b[0;36m_do_call\u001b[0;34m(self, fn, *args)\u001b[0m\n\u001b[1;32m   1364\u001b[0m     \u001b[0;32mtry\u001b[0m\u001b[0;34m:\u001b[0m\u001b[0;34m\u001b[0m\u001b[0;34m\u001b[0m\u001b[0m\n\u001b[0;32m-> 1365\u001b[0;31m       \u001b[0;32mreturn\u001b[0m \u001b[0mfn\u001b[0m\u001b[0;34m(\u001b[0m\u001b[0;34m*\u001b[0m\u001b[0margs\u001b[0m\u001b[0;34m)\u001b[0m\u001b[0;34m\u001b[0m\u001b[0;34m\u001b[0m\u001b[0m\n\u001b[0m\u001b[1;32m   1366\u001b[0m     \u001b[0;32mexcept\u001b[0m \u001b[0merrors\u001b[0m\u001b[0;34m.\u001b[0m\u001b[0mOpError\u001b[0m \u001b[0;32mas\u001b[0m \u001b[0me\u001b[0m\u001b[0;34m:\u001b[0m\u001b[0;34m\u001b[0m\u001b[0;34m\u001b[0m\u001b[0m\n",
      "\u001b[0;32m~/opt/anaconda3/envs/tf/lib/python3.7/site-packages/tensorflow_core/python/client/session.py\u001b[0m in \u001b[0;36m_run_fn\u001b[0;34m(feed_dict, fetch_list, target_list, options, run_metadata)\u001b[0m\n\u001b[1;32m   1349\u001b[0m       return self._call_tf_sessionrun(options, feed_dict, fetch_list,\n\u001b[0;32m-> 1350\u001b[0;31m                                       target_list, run_metadata)\n\u001b[0m\u001b[1;32m   1351\u001b[0m \u001b[0;34m\u001b[0m\u001b[0m\n",
      "\u001b[0;32m~/opt/anaconda3/envs/tf/lib/python3.7/site-packages/tensorflow_core/python/client/session.py\u001b[0m in \u001b[0;36m_call_tf_sessionrun\u001b[0;34m(self, options, feed_dict, fetch_list, target_list, run_metadata)\u001b[0m\n\u001b[1;32m   1442\u001b[0m                                             \u001b[0mfetch_list\u001b[0m\u001b[0;34m,\u001b[0m \u001b[0mtarget_list\u001b[0m\u001b[0;34m,\u001b[0m\u001b[0;34m\u001b[0m\u001b[0;34m\u001b[0m\u001b[0m\n\u001b[0;32m-> 1443\u001b[0;31m                                             run_metadata)\n\u001b[0m\u001b[1;32m   1444\u001b[0m \u001b[0;34m\u001b[0m\u001b[0m\n",
      "\u001b[0;31mInvalidArgumentError\u001b[0m: You must feed a value for placeholder tensor 'embedding' with dtype float and shape [90814,100]\n\t [[{{node embedding}}]]",
      "\nDuring handling of the above exception, another exception occurred:\n",
      "\u001b[0;31mInvalidArgumentError\u001b[0m                      Traceback (most recent call last)",
      "\u001b[0;32m/var/folders/pr/vbbckh1132s7_94b6yhys1rr0000gn/T/ipykernel_90004/63082895.py\u001b[0m in \u001b[0;36m<module>\u001b[0;34m\u001b[0m\n\u001b[1;32m      8\u001b[0m \u001b[0;31m#Start Tensorflow Session\u001b[0m\u001b[0;34m\u001b[0m\u001b[0;34m\u001b[0m\u001b[0;34m\u001b[0m\u001b[0m\n\u001b[1;32m      9\u001b[0m \u001b[0msess\u001b[0m \u001b[0;34m=\u001b[0m \u001b[0mtf\u001b[0m\u001b[0;34m.\u001b[0m\u001b[0mSession\u001b[0m\u001b[0;34m(\u001b[0m\u001b[0;34m)\u001b[0m\u001b[0;34m\u001b[0m\u001b[0;34m\u001b[0m\u001b[0m\n\u001b[0;32m---> 10\u001b[0;31m \u001b[0msess\u001b[0m\u001b[0;34m.\u001b[0m\u001b[0mrun\u001b[0m\u001b[0;34m(\u001b[0m\u001b[0minit\u001b[0m\u001b[0;34m,\u001b[0m \u001b[0mfeed_dict\u001b[0m\u001b[0;34m=\u001b[0m\u001b[0;34m{\u001b[0m\u001b[0mX_init\u001b[0m\u001b[0;34m:\u001b[0m \u001b[0mw2v_\u001b[0m\u001b[0;34m}\u001b[0m\u001b[0;34m)\u001b[0m\u001b[0;34m\u001b[0m\u001b[0;34m\u001b[0m\u001b[0m\n\u001b[0m\u001b[1;32m     11\u001b[0m \u001b[0;34m\u001b[0m\u001b[0m\n\u001b[1;32m     12\u001b[0m \u001b[0;31m#Instance of Saver, save the graph.\u001b[0m\u001b[0;34m\u001b[0m\u001b[0;34m\u001b[0m\u001b[0;34m\u001b[0m\u001b[0m\n",
      "\u001b[0;32m~/opt/anaconda3/envs/tf/lib/python3.7/site-packages/tensorflow_core/python/client/session.py\u001b[0m in \u001b[0;36mrun\u001b[0;34m(self, fetches, feed_dict, options, run_metadata)\u001b[0m\n\u001b[1;32m    954\u001b[0m     \u001b[0;32mtry\u001b[0m\u001b[0;34m:\u001b[0m\u001b[0;34m\u001b[0m\u001b[0;34m\u001b[0m\u001b[0m\n\u001b[1;32m    955\u001b[0m       result = self._run(None, fetches, feed_dict, options_ptr,\n\u001b[0;32m--> 956\u001b[0;31m                          run_metadata_ptr)\n\u001b[0m\u001b[1;32m    957\u001b[0m       \u001b[0;32mif\u001b[0m \u001b[0mrun_metadata\u001b[0m\u001b[0;34m:\u001b[0m\u001b[0;34m\u001b[0m\u001b[0;34m\u001b[0m\u001b[0m\n\u001b[1;32m    958\u001b[0m         \u001b[0mproto_data\u001b[0m \u001b[0;34m=\u001b[0m \u001b[0mtf_session\u001b[0m\u001b[0;34m.\u001b[0m\u001b[0mTF_GetBuffer\u001b[0m\u001b[0;34m(\u001b[0m\u001b[0mrun_metadata_ptr\u001b[0m\u001b[0;34m)\u001b[0m\u001b[0;34m\u001b[0m\u001b[0;34m\u001b[0m\u001b[0m\n",
      "\u001b[0;32m~/opt/anaconda3/envs/tf/lib/python3.7/site-packages/tensorflow_core/python/client/session.py\u001b[0m in \u001b[0;36m_run\u001b[0;34m(self, handle, fetches, feed_dict, options, run_metadata)\u001b[0m\n\u001b[1;32m   1178\u001b[0m     \u001b[0;32mif\u001b[0m \u001b[0mfinal_fetches\u001b[0m \u001b[0;32mor\u001b[0m \u001b[0mfinal_targets\u001b[0m \u001b[0;32mor\u001b[0m \u001b[0;34m(\u001b[0m\u001b[0mhandle\u001b[0m \u001b[0;32mand\u001b[0m \u001b[0mfeed_dict_tensor\u001b[0m\u001b[0;34m)\u001b[0m\u001b[0;34m:\u001b[0m\u001b[0;34m\u001b[0m\u001b[0;34m\u001b[0m\u001b[0m\n\u001b[1;32m   1179\u001b[0m       results = self._do_run(handle, final_targets, final_fetches,\n\u001b[0;32m-> 1180\u001b[0;31m                              feed_dict_tensor, options, run_metadata)\n\u001b[0m\u001b[1;32m   1181\u001b[0m     \u001b[0;32melse\u001b[0m\u001b[0;34m:\u001b[0m\u001b[0;34m\u001b[0m\u001b[0;34m\u001b[0m\u001b[0m\n\u001b[1;32m   1182\u001b[0m       \u001b[0mresults\u001b[0m \u001b[0;34m=\u001b[0m \u001b[0;34m[\u001b[0m\u001b[0;34m]\u001b[0m\u001b[0;34m\u001b[0m\u001b[0;34m\u001b[0m\u001b[0m\n",
      "\u001b[0;32m~/opt/anaconda3/envs/tf/lib/python3.7/site-packages/tensorflow_core/python/client/session.py\u001b[0m in \u001b[0;36m_do_run\u001b[0;34m(self, handle, target_list, fetch_list, feed_dict, options, run_metadata)\u001b[0m\n\u001b[1;32m   1357\u001b[0m     \u001b[0;32mif\u001b[0m \u001b[0mhandle\u001b[0m \u001b[0;32mis\u001b[0m \u001b[0;32mNone\u001b[0m\u001b[0;34m:\u001b[0m\u001b[0;34m\u001b[0m\u001b[0;34m\u001b[0m\u001b[0m\n\u001b[1;32m   1358\u001b[0m       return self._do_call(_run_fn, feeds, fetches, targets, options,\n\u001b[0;32m-> 1359\u001b[0;31m                            run_metadata)\n\u001b[0m\u001b[1;32m   1360\u001b[0m     \u001b[0;32melse\u001b[0m\u001b[0;34m:\u001b[0m\u001b[0;34m\u001b[0m\u001b[0;34m\u001b[0m\u001b[0m\n\u001b[1;32m   1361\u001b[0m       \u001b[0;32mreturn\u001b[0m \u001b[0mself\u001b[0m\u001b[0;34m.\u001b[0m\u001b[0m_do_call\u001b[0m\u001b[0;34m(\u001b[0m\u001b[0m_prun_fn\u001b[0m\u001b[0;34m,\u001b[0m \u001b[0mhandle\u001b[0m\u001b[0;34m,\u001b[0m \u001b[0mfeeds\u001b[0m\u001b[0;34m,\u001b[0m \u001b[0mfetches\u001b[0m\u001b[0;34m)\u001b[0m\u001b[0;34m\u001b[0m\u001b[0;34m\u001b[0m\u001b[0m\n",
      "\u001b[0;32m~/opt/anaconda3/envs/tf/lib/python3.7/site-packages/tensorflow_core/python/client/session.py\u001b[0m in \u001b[0;36m_do_call\u001b[0;34m(self, fn, *args)\u001b[0m\n\u001b[1;32m   1382\u001b[0m                     \u001b[0;34m'\\nsession_config.graph_options.rewrite_options.'\u001b[0m\u001b[0;34m\u001b[0m\u001b[0;34m\u001b[0m\u001b[0m\n\u001b[1;32m   1383\u001b[0m                     'disable_meta_optimizer = True')\n\u001b[0;32m-> 1384\u001b[0;31m       \u001b[0;32mraise\u001b[0m \u001b[0mtype\u001b[0m\u001b[0;34m(\u001b[0m\u001b[0me\u001b[0m\u001b[0;34m)\u001b[0m\u001b[0;34m(\u001b[0m\u001b[0mnode_def\u001b[0m\u001b[0;34m,\u001b[0m \u001b[0mop\u001b[0m\u001b[0;34m,\u001b[0m \u001b[0mmessage\u001b[0m\u001b[0;34m)\u001b[0m\u001b[0;34m\u001b[0m\u001b[0;34m\u001b[0m\u001b[0m\n\u001b[0m\u001b[1;32m   1385\u001b[0m \u001b[0;34m\u001b[0m\u001b[0m\n\u001b[1;32m   1386\u001b[0m   \u001b[0;32mdef\u001b[0m \u001b[0m_extend_graph\u001b[0m\u001b[0;34m(\u001b[0m\u001b[0mself\u001b[0m\u001b[0;34m)\u001b[0m\u001b[0;34m:\u001b[0m\u001b[0;34m\u001b[0m\u001b[0;34m\u001b[0m\u001b[0m\n",
      "\u001b[0;31mInvalidArgumentError\u001b[0m: You must feed a value for placeholder tensor 'embedding' with dtype float and shape [90814,100]\n\t [[node embedding (defined at Users/manalshah/opt/anaconda3/envs/tf/lib/python3.7/site-packages/tensorflow_core/python/framework/ops.py:1751) ]]\n\nOriginal stack trace for 'embedding':\n  File \"Users/manalshah/opt/anaconda3/envs/tf/lib/python3.7/runpy.py\", line 193, in _run_module_as_main\n    \"__main__\", mod_spec)\n  File \"Users/manalshah/opt/anaconda3/envs/tf/lib/python3.7/runpy.py\", line 85, in _run_code\n    exec(code, run_globals)\n  File \"Users/manalshah/opt/anaconda3/envs/tf/lib/python3.7/site-packages/ipykernel_launcher.py\", line 16, in <module>\n    app.launch_new_instance()\n  File \"Users/manalshah/opt/anaconda3/envs/tf/lib/python3.7/site-packages/traitlets/config/application.py\", line 846, in launch_instance\n    app.start()\n  File \"Users/manalshah/opt/anaconda3/envs/tf/lib/python3.7/site-packages/ipykernel/kernelapp.py\", line 677, in start\n    self.io_loop.start()\n  File \"Users/manalshah/opt/anaconda3/envs/tf/lib/python3.7/site-packages/tornado/platform/asyncio.py\", line 199, in start\n    self.asyncio_loop.run_forever()\n  File \"Users/manalshah/opt/anaconda3/envs/tf/lib/python3.7/asyncio/base_events.py\", line 541, in run_forever\n    self._run_once()\n  File \"Users/manalshah/opt/anaconda3/envs/tf/lib/python3.7/asyncio/base_events.py\", line 1786, in _run_once\n    handle._run()\n  File \"Users/manalshah/opt/anaconda3/envs/tf/lib/python3.7/asyncio/events.py\", line 88, in _run\n    self._context.run(self._callback, *self._args)\n  File \"Users/manalshah/opt/anaconda3/envs/tf/lib/python3.7/site-packages/ipykernel/kernelbase.py\", line 457, in dispatch_queue\n    await self.process_one()\n  File \"Users/manalshah/opt/anaconda3/envs/tf/lib/python3.7/site-packages/ipykernel/kernelbase.py\", line 446, in process_one\n    await dispatch(*args)\n  File \"Users/manalshah/opt/anaconda3/envs/tf/lib/python3.7/site-packages/ipykernel/kernelbase.py\", line 353, in dispatch_shell\n    await result\n  File \"Users/manalshah/opt/anaconda3/envs/tf/lib/python3.7/site-packages/ipykernel/kernelbase.py\", line 648, in execute_request\n    reply_content = await reply_content\n  File \"Users/manalshah/opt/anaconda3/envs/tf/lib/python3.7/site-packages/ipykernel/ipkernel.py\", line 353, in do_execute\n    res = shell.run_cell(code, store_history=store_history, silent=silent)\n  File \"Users/manalshah/opt/anaconda3/envs/tf/lib/python3.7/site-packages/ipykernel/zmqshell.py\", line 533, in run_cell\n    return super(ZMQInteractiveShell, self).run_cell(*args, **kwargs)\n  File \"Users/manalshah/opt/anaconda3/envs/tf/lib/python3.7/site-packages/IPython/core/interactiveshell.py\", line 2899, in run_cell\n    raw_cell, store_history, silent, shell_futures)\n  File \"Users/manalshah/opt/anaconda3/envs/tf/lib/python3.7/site-packages/IPython/core/interactiveshell.py\", line 2944, in _run_cell\n    return runner(coro)\n  File \"Users/manalshah/opt/anaconda3/envs/tf/lib/python3.7/site-packages/IPython/core/async_helpers.py\", line 68, in _pseudo_sync_runner\n    coro.send(None)\n  File \"Users/manalshah/opt/anaconda3/envs/tf/lib/python3.7/site-packages/IPython/core/interactiveshell.py\", line 3170, in run_cell_async\n    interactivity=interactivity, compiler=compiler, result=result)\n  File \"Users/manalshah/opt/anaconda3/envs/tf/lib/python3.7/site-packages/IPython/core/interactiveshell.py\", line 3361, in run_ast_nodes\n    if (await self.run_code(code, result,  async_=asy)):\n  File \"Users/manalshah/opt/anaconda3/envs/tf/lib/python3.7/site-packages/IPython/core/interactiveshell.py\", line 3441, in run_code\n    exec(code_obj, self.user_global_ns, self.user_ns)\n  File \"var/folders/pr/vbbckh1132s7_94b6yhys1rr0000gn/T/ipykernel_90004/2756863298.py\", line 2, in <module>\n    X_init = tf.placeholder(tf.float32, shape=(VOCAB_SIZE, EMBEDDING_DIM), name=\"embedding\")\n  File \"Users/manalshah/opt/anaconda3/envs/tf/lib/python3.7/site-packages/tensorflow_core/python/ops/array_ops.py\", line 2630, in placeholder\n    return gen_array_ops.placeholder(dtype=dtype, shape=shape, name=name)\n  File \"Users/manalshah/opt/anaconda3/envs/tf/lib/python3.7/site-packages/tensorflow_core/python/ops/gen_array_ops.py\", line 6671, in placeholder\n    \"Placeholder\", dtype=dtype, shape=shape, name=name)\n  File \"Users/manalshah/opt/anaconda3/envs/tf/lib/python3.7/site-packages/tensorflow_core/python/framework/op_def_library.py\", line 793, in _apply_op_helper\n    op_def=op_def)\n  File \"Users/manalshah/opt/anaconda3/envs/tf/lib/python3.7/site-packages/tensorflow_core/python/util/deprecation.py\", line 507, in new_func\n    return func(*args, **kwargs)\n  File \"Users/manalshah/opt/anaconda3/envs/tf/lib/python3.7/site-packages/tensorflow_core/python/framework/ops.py\", line 3360, in create_op\n    attrs, op_def, compute_device)\n  File \"Users/manalshah/opt/anaconda3/envs/tf/lib/python3.7/site-packages/tensorflow_core/python/framework/ops.py\", line 3429, in _create_op_internal\n    op_def=op_def)\n  File \"Users/manalshah/opt/anaconda3/envs/tf/lib/python3.7/site-packages/tensorflow_core/python/framework/ops.py\", line 1751, in __init__\n    self._traceback = tf_stack.extract_stack()\n"
     ]
    }
   ],
   "source": [
    "#Tensorflow Placeholders\n",
    "X_init = tf.placeholder(tf.float32, shape=(VOCAB_SIZE, EMBEDDING_DIM), name=\"embedding\")\n",
    "X = tf.Variable(X_init)\n",
    "\n",
    "#Initializer\n",
    "init = tf.global_variables_initializer()\n",
    "\n",
    "#Start Tensorflow Session\n",
    "sess = tf.Session()\n",
    "sess.run(init, feed_dict={X_init: w2v_})\n",
    "\n",
    "#Instance of Saver, save the graph.\n",
    "saver = tf.train.Saver()\n",
    "writer = tf.summary.FileWriter(TENSORBOARD_FILES_PATH, sess.graph)"
   ]
  },
  {
   "cell_type": "code",
   "execution_count": 39,
   "id": "7b72bdf3",
   "metadata": {},
   "outputs": [],
   "source": [
    "#Configure a Tensorflow Projector\n",
    "config = projector.ProjectorConfig()\n",
    "embed = config.embeddings.add()\n",
    "embed.metadata_path = tsv_file_path\n",
    "\n",
    "#Write a projector_config\n",
    "projector.visualize_embeddings(writer,config)\n",
    "\n",
    "#save a checkpoint\n",
    "saver.save(sess, TENSORBOARD_FILES_PATH+'/model.ckpt', global_step = VOCAB_SIZE)\n",
    "\n",
    "#close the session\n",
    "sess.close()"
   ]
  },
  {
   "cell_type": "code",
   "execution_count": 73,
   "id": "8c339af8",
   "metadata": {},
   "outputs": [
    {
     "data": {
      "text/plain": [
       "ERROR: Could not find `tensorboard`. Please ensure that your PATH\n",
       "contains an executable `tensorboard` program, or explicitly specify\n",
       "the path to a TensorBoard binary by setting the `TENSORBOARD_BINARY`\n",
       "environment variable."
      ]
     },
     "metadata": {},
     "output_type": "display_data"
    }
   ],
   "source": [
    "%reload_ext tensorboard\n",
    "%tensorboard --logdir=tensorboard"
   ]
  },
  {
   "cell_type": "code",
   "execution_count": 75,
   "id": "30fb8980",
   "metadata": {},
   "outputs": [
    {
     "name": "stdout",
     "output_type": "stream",
     "text": [
      "Costello ACE Hardware.ipynb         \u001b[34mms\u001b[m\u001b[m/\r\n",
      "costello_ace_2015-2016.csv          \u001b[34mtensorboard\u001b[m\u001b[m/\r\n",
      "doc_tensor.kv                       word2vec_1.model\r\n",
      "doc_tensor_2.kv                     word2vec_2.model\r\n",
      "https:arxiv.org:pdf:2102.12029.pdf  ~$c_tensor.kv\r\n"
     ]
    }
   ],
   "source": [
    "%ls"
   ]
  },
  {
   "cell_type": "code",
   "execution_count": 74,
   "id": "5a6ef9b3",
   "metadata": {},
   "outputs": [
    {
     "data": {
      "text/plain": [
       "<gensim.models.word2vec.Word2Vec at 0x7fc9700f4fd0>"
      ]
     },
     "execution_count": 74,
     "metadata": {},
     "output_type": "execute_result"
    }
   ],
   "source": [
    "model"
   ]
  },
  {
   "cell_type": "code",
   "execution_count": 227,
   "id": "5a9d9bc3",
   "metadata": {},
   "outputs": [
    {
     "name": "stdout",
     "output_type": "stream",
     "text": [
      "/Users/manalshah/Desktop/DSF Project\n"
     ]
    }
   ],
   "source": [
    "%cd \"DSF Project\""
   ]
  },
  {
   "cell_type": "code",
   "execution_count": 228,
   "id": "db8c703b",
   "metadata": {},
   "outputs": [],
   "source": [
    "w2v = model1.wv\n",
    "\n",
    "import io\n",
    "\n",
    "# Vector file, `\\t` seperated the vectors and `\\n` seperate the words\n",
    "\"\"\"\n",
    "0.1\\t0.2\\t0.5\\t0.9\n",
    "0.2\\t0.1\\t5.0\\t0.2\n",
    "0.4\\t0.1\\t7.0\\t0.8\n",
    "\"\"\"\n",
    "out_v = io.open('vecs_10.tsv', 'w', encoding='utf-8')\n",
    "\n",
    "# Meta data file, `\\n` seperated word\n",
    "\"\"\"\n",
    "token1\n",
    "token2\n",
    "token3\n",
    "\"\"\"\n",
    "out_m = io.open('meta_10.tsv', 'w', encoding='utf-8')\n",
    "\n",
    "# Write meta file and vector file\n",
    "for index in range(len(w2v.index2word)):\n",
    "    word = w2v.index2word[index]\n",
    "    vec = w2v.vectors[index]\n",
    "    out_m.write(word + \"\\n\")\n",
    "    out_v.write('\\t'.join([str(x) for x in vec]) + \"\\n\")\n",
    "out_v.close()\n",
    "out_m.close()"
   ]
  },
  {
   "cell_type": "code",
   "execution_count": 229,
   "id": "91d295da",
   "metadata": {},
   "outputs": [],
   "source": [
    "import sys\n",
    "import os\n",
    "import pathlib\n",
    "import numpy as np\n",
    "from gensim.models.keyedvectors import KeyedVectors\n",
    "import tensorflow.compat.v1 as tf\n",
    "tf.disable_v2_behavior()\n",
    "from tensorboard.plugins import projector"
   ]
  },
  {
   "cell_type": "code",
   "execution_count": 230,
   "id": "c253216f",
   "metadata": {},
   "outputs": [
    {
     "data": {
      "text/plain": [
       "(90814, 100)"
      ]
     },
     "execution_count": 230,
     "metadata": {},
     "output_type": "execute_result"
    }
   ],
   "source": [
    "len(model1.wv.index2word), model1.vector_size#vector_size"
   ]
  },
  {
   "cell_type": "code",
   "execution_count": 231,
   "id": "f3e6f16d",
   "metadata": {},
   "outputs": [
    {
     "data": {
      "text/plain": [
       "(90814, 100)"
      ]
     },
     "execution_count": 231,
     "metadata": {},
     "output_type": "execute_result"
    }
   ],
   "source": [
    "w2v_.shape"
   ]
  },
  {
   "cell_type": "code",
   "execution_count": 241,
   "id": "2c32d94f",
   "metadata": {},
   "outputs": [],
   "source": [
    "def visualize(model, output_path):\n",
    "    meta_file = \"w2x_metadata.tsv\"\n",
    "    placeholder = np.zeros((len(model.wv.index2word), model.vector_size))\n",
    "    print(placeholder.shape)\n",
    "    with open(os.path.join(output_path, meta_file), 'wb') as file_metadata:\n",
    "        for i, word in enumerate(model.wv.index2word):\n",
    "            placeholder[i] = model[word]\n",
    "            # temporary solution for https://github.com/tensorflow/tensorflow/issues/9094\n",
    "            if word == '':\n",
    "                print(\"Emply Line, should replecaed by any thing else, or will cause a bug of tensorboard\")\n",
    "                file_metadata.write(\"{0}\".format('<Empty Line>').encode('utf-8') + b'\\n')\n",
    "            else:\n",
    "                file_metadata.write(\"{0}\".format(word).encode('utf-8') + b'\\n')\n",
    "\n",
    "    # define the model without training\n",
    "    sess = tf.InteractiveSession()\n",
    "\n",
    "    embedding = tf.Variable(placeholder, trainable=False, name='w2x_metadata')\n",
    "    #tf.global_variables_initializer().run()\n",
    "    #Initializer\n",
    "    init = tf.global_variables_initializer()\n",
    "    sess.run(init, feed_dict={X_init: w2v_})\n",
    "    \n",
    "    saver = tf.train.Saver()\n",
    "    writer = tf.summary.FileWriter(output_path, sess.graph)\n",
    "\n",
    "    # adding into projector\n",
    "    config = projector.ProjectorConfig()\n",
    "    embed = config.embeddings.add()\n",
    "    embed.tensor_name = 'w2x_metadata'\n",
    "    embed.metadata_path = meta_file\n",
    "\n",
    "    # Specify the width and height of a single thumbnail.\n",
    "    projector.visualize_embeddings(writer, config)\n",
    "    saver.save(sess, os.path.join(output_path, 'w2x_metadata_10.ckpt'))\n",
    "    print('Run `tensorboard --logdir={0}` to run visualize result on tensorboard'.format(output_path))"
   ]
  },
  {
   "cell_type": "code",
   "execution_count": 242,
   "id": "655cb038",
   "metadata": {},
   "outputs": [
    {
     "name": "stdout",
     "output_type": "stream",
     "text": [
      "(90814, 100)\n",
      "Emply Line, should replecaed by any thing else, or will cause a bug of tensorboard\n"
     ]
    },
    {
     "name": "stderr",
     "output_type": "stream",
     "text": [
      "/Users/manalshah/opt/anaconda3/envs/tf/lib/python3.7/site-packages/ipykernel_launcher.py:7: DeprecationWarning: Call to deprecated `__getitem__` (Method will be removed in 4.0.0, use self.wv.__getitem__() instead).\n",
      "  import sys\n"
     ]
    },
    {
     "ename": "InvalidArgumentError",
     "evalue": "You must feed a value for placeholder tensor 'embedding' with dtype float and shape [90814,100]\n\t [[node embedding (defined at Users/manalshah/opt/anaconda3/envs/tf/lib/python3.7/site-packages/tensorflow_core/python/framework/ops.py:1751) ]]\n\nOriginal stack trace for 'embedding':\n  File \"Users/manalshah/opt/anaconda3/envs/tf/lib/python3.7/runpy.py\", line 193, in _run_module_as_main\n    \"__main__\", mod_spec)\n  File \"Users/manalshah/opt/anaconda3/envs/tf/lib/python3.7/runpy.py\", line 85, in _run_code\n    exec(code, run_globals)\n  File \"Users/manalshah/opt/anaconda3/envs/tf/lib/python3.7/site-packages/ipykernel_launcher.py\", line 16, in <module>\n    app.launch_new_instance()\n  File \"Users/manalshah/opt/anaconda3/envs/tf/lib/python3.7/site-packages/traitlets/config/application.py\", line 846, in launch_instance\n    app.start()\n  File \"Users/manalshah/opt/anaconda3/envs/tf/lib/python3.7/site-packages/ipykernel/kernelapp.py\", line 677, in start\n    self.io_loop.start()\n  File \"Users/manalshah/opt/anaconda3/envs/tf/lib/python3.7/site-packages/tornado/platform/asyncio.py\", line 199, in start\n    self.asyncio_loop.run_forever()\n  File \"Users/manalshah/opt/anaconda3/envs/tf/lib/python3.7/asyncio/base_events.py\", line 541, in run_forever\n    self._run_once()\n  File \"Users/manalshah/opt/anaconda3/envs/tf/lib/python3.7/asyncio/base_events.py\", line 1786, in _run_once\n    handle._run()\n  File \"Users/manalshah/opt/anaconda3/envs/tf/lib/python3.7/asyncio/events.py\", line 88, in _run\n    self._context.run(self._callback, *self._args)\n  File \"Users/manalshah/opt/anaconda3/envs/tf/lib/python3.7/site-packages/ipykernel/kernelbase.py\", line 457, in dispatch_queue\n    await self.process_one()\n  File \"Users/manalshah/opt/anaconda3/envs/tf/lib/python3.7/site-packages/ipykernel/kernelbase.py\", line 446, in process_one\n    await dispatch(*args)\n  File \"Users/manalshah/opt/anaconda3/envs/tf/lib/python3.7/site-packages/ipykernel/kernelbase.py\", line 353, in dispatch_shell\n    await result\n  File \"Users/manalshah/opt/anaconda3/envs/tf/lib/python3.7/site-packages/ipykernel/kernelbase.py\", line 648, in execute_request\n    reply_content = await reply_content\n  File \"Users/manalshah/opt/anaconda3/envs/tf/lib/python3.7/site-packages/ipykernel/ipkernel.py\", line 353, in do_execute\n    res = shell.run_cell(code, store_history=store_history, silent=silent)\n  File \"Users/manalshah/opt/anaconda3/envs/tf/lib/python3.7/site-packages/ipykernel/zmqshell.py\", line 533, in run_cell\n    return super(ZMQInteractiveShell, self).run_cell(*args, **kwargs)\n  File \"Users/manalshah/opt/anaconda3/envs/tf/lib/python3.7/site-packages/IPython/core/interactiveshell.py\", line 2899, in run_cell\n    raw_cell, store_history, silent, shell_futures)\n  File \"Users/manalshah/opt/anaconda3/envs/tf/lib/python3.7/site-packages/IPython/core/interactiveshell.py\", line 2944, in _run_cell\n    return runner(coro)\n  File \"Users/manalshah/opt/anaconda3/envs/tf/lib/python3.7/site-packages/IPython/core/async_helpers.py\", line 68, in _pseudo_sync_runner\n    coro.send(None)\n  File \"Users/manalshah/opt/anaconda3/envs/tf/lib/python3.7/site-packages/IPython/core/interactiveshell.py\", line 3170, in run_cell_async\n    interactivity=interactivity, compiler=compiler, result=result)\n  File \"Users/manalshah/opt/anaconda3/envs/tf/lib/python3.7/site-packages/IPython/core/interactiveshell.py\", line 3361, in run_ast_nodes\n    if (await self.run_code(code, result,  async_=asy)):\n  File \"Users/manalshah/opt/anaconda3/envs/tf/lib/python3.7/site-packages/IPython/core/interactiveshell.py\", line 3441, in run_code\n    exec(code_obj, self.user_global_ns, self.user_ns)\n  File \"var/folders/pr/vbbckh1132s7_94b6yhys1rr0000gn/T/ipykernel_90004/2756863298.py\", line 2, in <module>\n    X_init = tf.placeholder(tf.float32, shape=(VOCAB_SIZE, EMBEDDING_DIM), name=\"embedding\")\n  File \"Users/manalshah/opt/anaconda3/envs/tf/lib/python3.7/site-packages/tensorflow_core/python/ops/array_ops.py\", line 2630, in placeholder\n    return gen_array_ops.placeholder(dtype=dtype, shape=shape, name=name)\n  File \"Users/manalshah/opt/anaconda3/envs/tf/lib/python3.7/site-packages/tensorflow_core/python/ops/gen_array_ops.py\", line 6671, in placeholder\n    \"Placeholder\", dtype=dtype, shape=shape, name=name)\n  File \"Users/manalshah/opt/anaconda3/envs/tf/lib/python3.7/site-packages/tensorflow_core/python/framework/op_def_library.py\", line 793, in _apply_op_helper\n    op_def=op_def)\n  File \"Users/manalshah/opt/anaconda3/envs/tf/lib/python3.7/site-packages/tensorflow_core/python/util/deprecation.py\", line 507, in new_func\n    return func(*args, **kwargs)\n  File \"Users/manalshah/opt/anaconda3/envs/tf/lib/python3.7/site-packages/tensorflow_core/python/framework/ops.py\", line 3360, in create_op\n    attrs, op_def, compute_device)\n  File \"Users/manalshah/opt/anaconda3/envs/tf/lib/python3.7/site-packages/tensorflow_core/python/framework/ops.py\", line 3429, in _create_op_internal\n    op_def=op_def)\n  File \"Users/manalshah/opt/anaconda3/envs/tf/lib/python3.7/site-packages/tensorflow_core/python/framework/ops.py\", line 1751, in __init__\n    self._traceback = tf_stack.extract_stack()\n",
     "output_type": "error",
     "traceback": [
      "\u001b[0;31m---------------------------------------------------------------------------\u001b[0m",
      "\u001b[0;31mInvalidArgumentError\u001b[0m                      Traceback (most recent call last)",
      "\u001b[0;32m~/opt/anaconda3/envs/tf/lib/python3.7/site-packages/tensorflow_core/python/client/session.py\u001b[0m in \u001b[0;36m_do_call\u001b[0;34m(self, fn, *args)\u001b[0m\n\u001b[1;32m   1364\u001b[0m     \u001b[0;32mtry\u001b[0m\u001b[0;34m:\u001b[0m\u001b[0;34m\u001b[0m\u001b[0;34m\u001b[0m\u001b[0m\n\u001b[0;32m-> 1365\u001b[0;31m       \u001b[0;32mreturn\u001b[0m \u001b[0mfn\u001b[0m\u001b[0;34m(\u001b[0m\u001b[0;34m*\u001b[0m\u001b[0margs\u001b[0m\u001b[0;34m)\u001b[0m\u001b[0;34m\u001b[0m\u001b[0;34m\u001b[0m\u001b[0m\n\u001b[0m\u001b[1;32m   1366\u001b[0m     \u001b[0;32mexcept\u001b[0m \u001b[0merrors\u001b[0m\u001b[0;34m.\u001b[0m\u001b[0mOpError\u001b[0m \u001b[0;32mas\u001b[0m \u001b[0me\u001b[0m\u001b[0;34m:\u001b[0m\u001b[0;34m\u001b[0m\u001b[0;34m\u001b[0m\u001b[0m\n",
      "\u001b[0;32m~/opt/anaconda3/envs/tf/lib/python3.7/site-packages/tensorflow_core/python/client/session.py\u001b[0m in \u001b[0;36m_run_fn\u001b[0;34m(feed_dict, fetch_list, target_list, options, run_metadata)\u001b[0m\n\u001b[1;32m   1349\u001b[0m       return self._call_tf_sessionrun(options, feed_dict, fetch_list,\n\u001b[0;32m-> 1350\u001b[0;31m                                       target_list, run_metadata)\n\u001b[0m\u001b[1;32m   1351\u001b[0m \u001b[0;34m\u001b[0m\u001b[0m\n",
      "\u001b[0;32m~/opt/anaconda3/envs/tf/lib/python3.7/site-packages/tensorflow_core/python/client/session.py\u001b[0m in \u001b[0;36m_call_tf_sessionrun\u001b[0;34m(self, options, feed_dict, fetch_list, target_list, run_metadata)\u001b[0m\n\u001b[1;32m   1442\u001b[0m                                             \u001b[0mfetch_list\u001b[0m\u001b[0;34m,\u001b[0m \u001b[0mtarget_list\u001b[0m\u001b[0;34m,\u001b[0m\u001b[0;34m\u001b[0m\u001b[0;34m\u001b[0m\u001b[0m\n\u001b[0;32m-> 1443\u001b[0;31m                                             run_metadata)\n\u001b[0m\u001b[1;32m   1444\u001b[0m \u001b[0;34m\u001b[0m\u001b[0m\n",
      "\u001b[0;31mInvalidArgumentError\u001b[0m: You must feed a value for placeholder tensor 'embedding' with dtype float and shape [90814,100]\n\t [[{{node embedding}}]]",
      "\nDuring handling of the above exception, another exception occurred:\n",
      "\u001b[0;31mInvalidArgumentError\u001b[0m                      Traceback (most recent call last)",
      "\u001b[0;32m/var/folders/pr/vbbckh1132s7_94b6yhys1rr0000gn/T/ipykernel_90004/619686478.py\u001b[0m in \u001b[0;36m<module>\u001b[0;34m\u001b[0m\n\u001b[0;32m----> 1\u001b[0;31m \u001b[0mvisualize\u001b[0m\u001b[0;34m(\u001b[0m\u001b[0mmodel1\u001b[0m\u001b[0;34m,\u001b[0m \u001b[0;34m\"ms3\"\u001b[0m\u001b[0;34m)\u001b[0m\u001b[0;34m\u001b[0m\u001b[0;34m\u001b[0m\u001b[0m\n\u001b[0m",
      "\u001b[0;32m/var/folders/pr/vbbckh1132s7_94b6yhys1rr0000gn/T/ipykernel_90004/892832558.py\u001b[0m in \u001b[0;36mvisualize\u001b[0;34m(model, output_path)\u001b[0m\n\u001b[1;32m     20\u001b[0m     \u001b[0;31m#Initializer\u001b[0m\u001b[0;34m\u001b[0m\u001b[0;34m\u001b[0m\u001b[0;34m\u001b[0m\u001b[0m\n\u001b[1;32m     21\u001b[0m     \u001b[0minit\u001b[0m \u001b[0;34m=\u001b[0m \u001b[0mtf\u001b[0m\u001b[0;34m.\u001b[0m\u001b[0mglobal_variables_initializer\u001b[0m\u001b[0;34m(\u001b[0m\u001b[0;34m)\u001b[0m\u001b[0;34m\u001b[0m\u001b[0;34m\u001b[0m\u001b[0m\n\u001b[0;32m---> 22\u001b[0;31m     \u001b[0msess\u001b[0m\u001b[0;34m.\u001b[0m\u001b[0mrun\u001b[0m\u001b[0;34m(\u001b[0m\u001b[0minit\u001b[0m\u001b[0;34m,\u001b[0m \u001b[0mfeed_dict\u001b[0m\u001b[0;34m=\u001b[0m\u001b[0;34m{\u001b[0m\u001b[0mX_init\u001b[0m\u001b[0;34m:\u001b[0m \u001b[0mw2v_\u001b[0m\u001b[0;34m}\u001b[0m\u001b[0;34m)\u001b[0m\u001b[0;34m\u001b[0m\u001b[0;34m\u001b[0m\u001b[0m\n\u001b[0m\u001b[1;32m     23\u001b[0m \u001b[0;34m\u001b[0m\u001b[0m\n\u001b[1;32m     24\u001b[0m     \u001b[0msaver\u001b[0m \u001b[0;34m=\u001b[0m \u001b[0mtf\u001b[0m\u001b[0;34m.\u001b[0m\u001b[0mtrain\u001b[0m\u001b[0;34m.\u001b[0m\u001b[0mSaver\u001b[0m\u001b[0;34m(\u001b[0m\u001b[0;34m)\u001b[0m\u001b[0;34m\u001b[0m\u001b[0;34m\u001b[0m\u001b[0m\n",
      "\u001b[0;32m~/opt/anaconda3/envs/tf/lib/python3.7/site-packages/tensorflow_core/python/client/session.py\u001b[0m in \u001b[0;36mrun\u001b[0;34m(self, fetches, feed_dict, options, run_metadata)\u001b[0m\n\u001b[1;32m    954\u001b[0m     \u001b[0;32mtry\u001b[0m\u001b[0;34m:\u001b[0m\u001b[0;34m\u001b[0m\u001b[0;34m\u001b[0m\u001b[0m\n\u001b[1;32m    955\u001b[0m       result = self._run(None, fetches, feed_dict, options_ptr,\n\u001b[0;32m--> 956\u001b[0;31m                          run_metadata_ptr)\n\u001b[0m\u001b[1;32m    957\u001b[0m       \u001b[0;32mif\u001b[0m \u001b[0mrun_metadata\u001b[0m\u001b[0;34m:\u001b[0m\u001b[0;34m\u001b[0m\u001b[0;34m\u001b[0m\u001b[0m\n\u001b[1;32m    958\u001b[0m         \u001b[0mproto_data\u001b[0m \u001b[0;34m=\u001b[0m \u001b[0mtf_session\u001b[0m\u001b[0;34m.\u001b[0m\u001b[0mTF_GetBuffer\u001b[0m\u001b[0;34m(\u001b[0m\u001b[0mrun_metadata_ptr\u001b[0m\u001b[0;34m)\u001b[0m\u001b[0;34m\u001b[0m\u001b[0;34m\u001b[0m\u001b[0m\n",
      "\u001b[0;32m~/opt/anaconda3/envs/tf/lib/python3.7/site-packages/tensorflow_core/python/client/session.py\u001b[0m in \u001b[0;36m_run\u001b[0;34m(self, handle, fetches, feed_dict, options, run_metadata)\u001b[0m\n\u001b[1;32m   1178\u001b[0m     \u001b[0;32mif\u001b[0m \u001b[0mfinal_fetches\u001b[0m \u001b[0;32mor\u001b[0m \u001b[0mfinal_targets\u001b[0m \u001b[0;32mor\u001b[0m \u001b[0;34m(\u001b[0m\u001b[0mhandle\u001b[0m \u001b[0;32mand\u001b[0m \u001b[0mfeed_dict_tensor\u001b[0m\u001b[0;34m)\u001b[0m\u001b[0;34m:\u001b[0m\u001b[0;34m\u001b[0m\u001b[0;34m\u001b[0m\u001b[0m\n\u001b[1;32m   1179\u001b[0m       results = self._do_run(handle, final_targets, final_fetches,\n\u001b[0;32m-> 1180\u001b[0;31m                              feed_dict_tensor, options, run_metadata)\n\u001b[0m\u001b[1;32m   1181\u001b[0m     \u001b[0;32melse\u001b[0m\u001b[0;34m:\u001b[0m\u001b[0;34m\u001b[0m\u001b[0;34m\u001b[0m\u001b[0m\n\u001b[1;32m   1182\u001b[0m       \u001b[0mresults\u001b[0m \u001b[0;34m=\u001b[0m \u001b[0;34m[\u001b[0m\u001b[0;34m]\u001b[0m\u001b[0;34m\u001b[0m\u001b[0;34m\u001b[0m\u001b[0m\n",
      "\u001b[0;32m~/opt/anaconda3/envs/tf/lib/python3.7/site-packages/tensorflow_core/python/client/session.py\u001b[0m in \u001b[0;36m_do_run\u001b[0;34m(self, handle, target_list, fetch_list, feed_dict, options, run_metadata)\u001b[0m\n\u001b[1;32m   1357\u001b[0m     \u001b[0;32mif\u001b[0m \u001b[0mhandle\u001b[0m \u001b[0;32mis\u001b[0m \u001b[0;32mNone\u001b[0m\u001b[0;34m:\u001b[0m\u001b[0;34m\u001b[0m\u001b[0;34m\u001b[0m\u001b[0m\n\u001b[1;32m   1358\u001b[0m       return self._do_call(_run_fn, feeds, fetches, targets, options,\n\u001b[0;32m-> 1359\u001b[0;31m                            run_metadata)\n\u001b[0m\u001b[1;32m   1360\u001b[0m     \u001b[0;32melse\u001b[0m\u001b[0;34m:\u001b[0m\u001b[0;34m\u001b[0m\u001b[0;34m\u001b[0m\u001b[0m\n\u001b[1;32m   1361\u001b[0m       \u001b[0;32mreturn\u001b[0m \u001b[0mself\u001b[0m\u001b[0;34m.\u001b[0m\u001b[0m_do_call\u001b[0m\u001b[0;34m(\u001b[0m\u001b[0m_prun_fn\u001b[0m\u001b[0;34m,\u001b[0m \u001b[0mhandle\u001b[0m\u001b[0;34m,\u001b[0m \u001b[0mfeeds\u001b[0m\u001b[0;34m,\u001b[0m \u001b[0mfetches\u001b[0m\u001b[0;34m)\u001b[0m\u001b[0;34m\u001b[0m\u001b[0;34m\u001b[0m\u001b[0m\n",
      "\u001b[0;32m~/opt/anaconda3/envs/tf/lib/python3.7/site-packages/tensorflow_core/python/client/session.py\u001b[0m in \u001b[0;36m_do_call\u001b[0;34m(self, fn, *args)\u001b[0m\n\u001b[1;32m   1382\u001b[0m                     \u001b[0;34m'\\nsession_config.graph_options.rewrite_options.'\u001b[0m\u001b[0;34m\u001b[0m\u001b[0;34m\u001b[0m\u001b[0m\n\u001b[1;32m   1383\u001b[0m                     'disable_meta_optimizer = True')\n\u001b[0;32m-> 1384\u001b[0;31m       \u001b[0;32mraise\u001b[0m \u001b[0mtype\u001b[0m\u001b[0;34m(\u001b[0m\u001b[0me\u001b[0m\u001b[0;34m)\u001b[0m\u001b[0;34m(\u001b[0m\u001b[0mnode_def\u001b[0m\u001b[0;34m,\u001b[0m \u001b[0mop\u001b[0m\u001b[0;34m,\u001b[0m \u001b[0mmessage\u001b[0m\u001b[0;34m)\u001b[0m\u001b[0;34m\u001b[0m\u001b[0;34m\u001b[0m\u001b[0m\n\u001b[0m\u001b[1;32m   1385\u001b[0m \u001b[0;34m\u001b[0m\u001b[0m\n\u001b[1;32m   1386\u001b[0m   \u001b[0;32mdef\u001b[0m \u001b[0m_extend_graph\u001b[0m\u001b[0;34m(\u001b[0m\u001b[0mself\u001b[0m\u001b[0;34m)\u001b[0m\u001b[0;34m:\u001b[0m\u001b[0;34m\u001b[0m\u001b[0;34m\u001b[0m\u001b[0m\n",
      "\u001b[0;31mInvalidArgumentError\u001b[0m: You must feed a value for placeholder tensor 'embedding' with dtype float and shape [90814,100]\n\t [[node embedding (defined at Users/manalshah/opt/anaconda3/envs/tf/lib/python3.7/site-packages/tensorflow_core/python/framework/ops.py:1751) ]]\n\nOriginal stack trace for 'embedding':\n  File \"Users/manalshah/opt/anaconda3/envs/tf/lib/python3.7/runpy.py\", line 193, in _run_module_as_main\n    \"__main__\", mod_spec)\n  File \"Users/manalshah/opt/anaconda3/envs/tf/lib/python3.7/runpy.py\", line 85, in _run_code\n    exec(code, run_globals)\n  File \"Users/manalshah/opt/anaconda3/envs/tf/lib/python3.7/site-packages/ipykernel_launcher.py\", line 16, in <module>\n    app.launch_new_instance()\n  File \"Users/manalshah/opt/anaconda3/envs/tf/lib/python3.7/site-packages/traitlets/config/application.py\", line 846, in launch_instance\n    app.start()\n  File \"Users/manalshah/opt/anaconda3/envs/tf/lib/python3.7/site-packages/ipykernel/kernelapp.py\", line 677, in start\n    self.io_loop.start()\n  File \"Users/manalshah/opt/anaconda3/envs/tf/lib/python3.7/site-packages/tornado/platform/asyncio.py\", line 199, in start\n    self.asyncio_loop.run_forever()\n  File \"Users/manalshah/opt/anaconda3/envs/tf/lib/python3.7/asyncio/base_events.py\", line 541, in run_forever\n    self._run_once()\n  File \"Users/manalshah/opt/anaconda3/envs/tf/lib/python3.7/asyncio/base_events.py\", line 1786, in _run_once\n    handle._run()\n  File \"Users/manalshah/opt/anaconda3/envs/tf/lib/python3.7/asyncio/events.py\", line 88, in _run\n    self._context.run(self._callback, *self._args)\n  File \"Users/manalshah/opt/anaconda3/envs/tf/lib/python3.7/site-packages/ipykernel/kernelbase.py\", line 457, in dispatch_queue\n    await self.process_one()\n  File \"Users/manalshah/opt/anaconda3/envs/tf/lib/python3.7/site-packages/ipykernel/kernelbase.py\", line 446, in process_one\n    await dispatch(*args)\n  File \"Users/manalshah/opt/anaconda3/envs/tf/lib/python3.7/site-packages/ipykernel/kernelbase.py\", line 353, in dispatch_shell\n    await result\n  File \"Users/manalshah/opt/anaconda3/envs/tf/lib/python3.7/site-packages/ipykernel/kernelbase.py\", line 648, in execute_request\n    reply_content = await reply_content\n  File \"Users/manalshah/opt/anaconda3/envs/tf/lib/python3.7/site-packages/ipykernel/ipkernel.py\", line 353, in do_execute\n    res = shell.run_cell(code, store_history=store_history, silent=silent)\n  File \"Users/manalshah/opt/anaconda3/envs/tf/lib/python3.7/site-packages/ipykernel/zmqshell.py\", line 533, in run_cell\n    return super(ZMQInteractiveShell, self).run_cell(*args, **kwargs)\n  File \"Users/manalshah/opt/anaconda3/envs/tf/lib/python3.7/site-packages/IPython/core/interactiveshell.py\", line 2899, in run_cell\n    raw_cell, store_history, silent, shell_futures)\n  File \"Users/manalshah/opt/anaconda3/envs/tf/lib/python3.7/site-packages/IPython/core/interactiveshell.py\", line 2944, in _run_cell\n    return runner(coro)\n  File \"Users/manalshah/opt/anaconda3/envs/tf/lib/python3.7/site-packages/IPython/core/async_helpers.py\", line 68, in _pseudo_sync_runner\n    coro.send(None)\n  File \"Users/manalshah/opt/anaconda3/envs/tf/lib/python3.7/site-packages/IPython/core/interactiveshell.py\", line 3170, in run_cell_async\n    interactivity=interactivity, compiler=compiler, result=result)\n  File \"Users/manalshah/opt/anaconda3/envs/tf/lib/python3.7/site-packages/IPython/core/interactiveshell.py\", line 3361, in run_ast_nodes\n    if (await self.run_code(code, result,  async_=asy)):\n  File \"Users/manalshah/opt/anaconda3/envs/tf/lib/python3.7/site-packages/IPython/core/interactiveshell.py\", line 3441, in run_code\n    exec(code_obj, self.user_global_ns, self.user_ns)\n  File \"var/folders/pr/vbbckh1132s7_94b6yhys1rr0000gn/T/ipykernel_90004/2756863298.py\", line 2, in <module>\n    X_init = tf.placeholder(tf.float32, shape=(VOCAB_SIZE, EMBEDDING_DIM), name=\"embedding\")\n  File \"Users/manalshah/opt/anaconda3/envs/tf/lib/python3.7/site-packages/tensorflow_core/python/ops/array_ops.py\", line 2630, in placeholder\n    return gen_array_ops.placeholder(dtype=dtype, shape=shape, name=name)\n  File \"Users/manalshah/opt/anaconda3/envs/tf/lib/python3.7/site-packages/tensorflow_core/python/ops/gen_array_ops.py\", line 6671, in placeholder\n    \"Placeholder\", dtype=dtype, shape=shape, name=name)\n  File \"Users/manalshah/opt/anaconda3/envs/tf/lib/python3.7/site-packages/tensorflow_core/python/framework/op_def_library.py\", line 793, in _apply_op_helper\n    op_def=op_def)\n  File \"Users/manalshah/opt/anaconda3/envs/tf/lib/python3.7/site-packages/tensorflow_core/python/util/deprecation.py\", line 507, in new_func\n    return func(*args, **kwargs)\n  File \"Users/manalshah/opt/anaconda3/envs/tf/lib/python3.7/site-packages/tensorflow_core/python/framework/ops.py\", line 3360, in create_op\n    attrs, op_def, compute_device)\n  File \"Users/manalshah/opt/anaconda3/envs/tf/lib/python3.7/site-packages/tensorflow_core/python/framework/ops.py\", line 3429, in _create_op_internal\n    op_def=op_def)\n  File \"Users/manalshah/opt/anaconda3/envs/tf/lib/python3.7/site-packages/tensorflow_core/python/framework/ops.py\", line 1751, in __init__\n    self._traceback = tf_stack.extract_stack()\n"
     ]
    }
   ],
   "source": [
    "visualize(model1, \"ms3\")"
   ]
  },
  {
   "cell_type": "code",
   "execution_count": 3,
   "id": "d7bf6a15",
   "metadata": {},
   "outputs": [],
   "source": [
    "import squarify"
   ]
  },
  {
   "cell_type": "code",
   "execution_count": 9,
   "id": "9d22a616",
   "metadata": {},
   "outputs": [
    {
     "data": {
      "text/plain": [
       "Index(['FASTENERS/SCREWS/NAILS/BOLTS ETC', 'CMN Donations',\n",
       "       'KEY KWIKSET KW1-ACE250PK', 'BIRDSEED WILDBIRD 20#ACE',\n",
       "       'KEY SCHLAGE SC1-ACE250PK', 'CONTRACTOR BAGS 3MIL. 20CNT',\n",
       "       'TOP SOIL 40#', 'PEAK WASH/DEICER -25', '8363780 $1.5 INST SAVINGS',\n",
       "       'TRAP SPIDER & CRICKET PK', 'FASTENERS', 'CLEANR GLAS19OZ SPRAYWAY',\n",
       "       '81003 $1 INST SAVINGS', 'COLOR SAMPLE BM BASE1 PT',\n",
       "       'IN-STORE COUPON SAVE $5.00', 'WINDSHIELD WASH ACE GAL',\n",
       "       'ANTIFRZ ARTIC RV 1GL', '$5 CERTIFICATEG', 'SNGL SIDED HOME/AUTO KEY',\n",
       "       'PEQUA H/D DRAIN OPENER QT', 'REG SEL INT EGGSHL B1 GL',\n",
       "       '$5 CERTIFICATEF', 'ANNIE B'S CARAMEL  ASSORTED',\n",
       "       '6250633 $1 INST SAVINGS', 'COSTELLO'S MERCHANDISE CARD',\n",
       "       'LIQUID ANT BAIT 6PK', 'PROPANE FILL 20 LB', 'KEY ARROW AR1-ACE',\n",
       "       '6250617 $1 INST SAVINGS', 'SCREEN REPAIR', '65BR/FL/RP 120V',\n",
       "       'HTH SHOCK TREAT', 'PEQUA H/D DRAIN OPNR 1/2G', 'WATER',\n",
       "       'MDA DONATION $1', '$5 CERTIFICATEB', 'POT SOIL MOIST CONT 2 CF',\n",
       "       'PAINTBRSH CHIP 2\"WT BRSL', 'KEY KWIKSET KW1-ACE', 'CLASSIC 20OZ',\n",
       "       'TAPE ELECT3/4X60'VYL ACE', '$5 CERTIFICATEC',\n",
       "       'MSKG TAPE ORIGNL 1.88x60', '50% OFF 1 ITEM UNDER $30',\n",
       "       'APPLIANCES & HOME ENTERTAINMENT', 'CLICK N FLAME LIGHTERS',\n",
       "       '$5 CERTIFICATEE', 'MULCH HAMPTONS DYED BLACK 2CU',\n",
       "       'KEY SCHLAGE SC1-ACE', 'CLOSEOUT ITEMS BROOK',\n",
       "       'PAINTBRS CHIP 1.5WT BRSL', 'PAPR YARD BAG ACE30G PK5',\n",
       "       '$5 CERTIFICATEA', '7301609 $3 INST SAVINGS', 'PAINTBRSH FOAM 2\" JEN',\n",
       "       'TOTE 18GL SOLID BLK/SLVR', '$5 CERTIFICATED', 'CUTTER BUG FREE 32 OZ',\n",
       "       'BATTERY WATCH/CALC 2032', 'TOTE 18 GAL CLR/BLK',\n",
       "       'BLEACH LIQ REG CONC 64OZ', 'ICE MELT 20# BAG ACE', 'DAP XHOSE PRO 50'',\n",
       "       'SJ 25LBS CC PELLETS', 'MSKG TAPE ORIGNL 1.41x60',\n",
       "       'CHLORINE LIQUID GALLON', 'THREAD SEAL TAPE1/2X260',\n",
       "       'TRASH BAGS 45GAL 2MIL. 25CNT', 'POTTING MIX W/FERT 8QT',\n",
       "       'PEAK BUG WASH +32', '65BR30 REFLECTOR 2/PK', '8363863 $1 INST SAVINGS',\n",
       "       'LIBERTY GARDEN SEEDS-ASSORTED', 'DIET COKE 20OZ',\n",
       "       'PAINTBRSH FOAM 1\" JEN', 'BULB HAL A19 43W SW 4PK',\n",
       "       'RED BULL ENRGY DRNK8.4OZ', 'PROPANE FUEL 16OZ 2PK',\n",
       "       'EZ SEED SUN&SHADE 10#', 'WEED & FEED 5M',\n",
       "       'JUMBO MKT PACK 804/806 FLWR/VEG', 'PAINT TRAY LINER',\n",
       "       'TRAY PAINT9\"PLASTIC', 'REG SEL INT MATTE BS1 GL', 'LAWN FOOD 5M',\n",
       "       'BULB SOFTWHT 43W ACE 4PK', 'MULCH  LI COLOR ENH BLK MULCH',\n",
       "       'BIRD BLEND SUET', 'SHOVEL SNOW 18\"BLADE', '7287154 $20 INST SAVINGS',\n",
       "       'DRANO MAX GEL CLOG REMOV', 'SHOVEL SNOW D-HNDL 36\"', '$5 REWARDH',\n",
       "       'WEED&GRASS KILLER 1.33G', 'PAINTBRSH CHIP 1\"WH BRSL',\n",
       "       'DROPCLOTH 9' X 12' 1MIL', 'MSKG TAPE ORIGNL .94x60',\n",
       "       'CEILING WB U-FLT WHT GL', 'DROPCLOTH 9'X12' .5MIL',\n",
       "       'ZINSSER123 PRMR/SEALR GL'],\n",
       "      dtype='object')"
      ]
     },
     "execution_count": 9,
     "metadata": {},
     "output_type": "execute_result"
    }
   ],
   "source": [
    "df[\"Item Description\"].value_counts()[:100].index"
   ]
  },
  {
   "cell_type": "code",
   "execution_count": 48,
   "id": "40e999a7",
   "metadata": {},
   "outputs": [],
   "source": [
    "new_df = pd.DataFrame()"
   ]
  },
  {
   "cell_type": "code",
   "execution_count": 49,
   "id": "ea7b8d9e",
   "metadata": {},
   "outputs": [],
   "source": [
    "new_df[\"Item Description\"] = df[\"Item Description\"].value_counts().index\n",
    "#new_df[\"Counts\"] = df[\"Item Description\"].value_counts()[:100]"
   ]
  },
  {
   "cell_type": "code",
   "execution_count": 50,
   "id": "287b365d",
   "metadata": {
    "scrolled": true
   },
   "outputs": [
    {
     "data": {
      "text/html": [
       "<div>\n",
       "<style scoped>\n",
       "    .dataframe tbody tr th:only-of-type {\n",
       "        vertical-align: middle;\n",
       "    }\n",
       "\n",
       "    .dataframe tbody tr th {\n",
       "        vertical-align: top;\n",
       "    }\n",
       "\n",
       "    .dataframe thead th {\n",
       "        text-align: right;\n",
       "    }\n",
       "</style>\n",
       "<table border=\"1\" class=\"dataframe\">\n",
       "  <thead>\n",
       "    <tr style=\"text-align: right;\">\n",
       "      <th></th>\n",
       "      <th>Item Description</th>\n",
       "      <th>Counts</th>\n",
       "    </tr>\n",
       "  </thead>\n",
       "  <tbody>\n",
       "    <tr>\n",
       "      <th>0</th>\n",
       "      <td>FASTENERS/SCREWS/NAILS/BOLTS ETC</td>\n",
       "      <td>996474</td>\n",
       "    </tr>\n",
       "    <tr>\n",
       "      <th>1</th>\n",
       "      <td>CMN Donations</td>\n",
       "      <td>159804</td>\n",
       "    </tr>\n",
       "    <tr>\n",
       "      <th>2</th>\n",
       "      <td>KEY KWIKSET KW1-ACE250PK</td>\n",
       "      <td>69540</td>\n",
       "    </tr>\n",
       "    <tr>\n",
       "      <th>3</th>\n",
       "      <td>BIRDSEED WILDBIRD 20#ACE</td>\n",
       "      <td>66847</td>\n",
       "    </tr>\n",
       "    <tr>\n",
       "      <th>4</th>\n",
       "      <td>KEY SCHLAGE SC1-ACE250PK</td>\n",
       "      <td>60908</td>\n",
       "    </tr>\n",
       "    <tr>\n",
       "      <th>...</th>\n",
       "      <td>...</td>\n",
       "      <td>...</td>\n",
       "    </tr>\n",
       "    <tr>\n",
       "      <th>103291</th>\n",
       "      <td>GEORGIAN AGED BRONZE 2T</td>\n",
       "      <td>1</td>\n",
       "    </tr>\n",
       "    <tr>\n",
       "      <th>103292</th>\n",
       "      <td>BIT DRILL HING/BRKT#12</td>\n",
       "      <td>1</td>\n",
       "    </tr>\n",
       "    <tr>\n",
       "      <th>103293</th>\n",
       "      <td>PRE-CUT CABLE50'GALV1/8\"</td>\n",
       "      <td>1</td>\n",
       "    </tr>\n",
       "    <tr>\n",
       "      <th>103294</th>\n",
       "      <td>1-1/4 FROST FLAS BRA BASE</td>\n",
       "      <td>1</td>\n",
       "    </tr>\n",
       "    <tr>\n",
       "      <th>103295</th>\n",
       "      <td>SMALL BIGFOOT GEAR BAG</td>\n",
       "      <td>1</td>\n",
       "    </tr>\n",
       "  </tbody>\n",
       "</table>\n",
       "<p>103296 rows × 2 columns</p>\n",
       "</div>"
      ],
      "text/plain": [
       "                        Item Description  Counts\n",
       "0       FASTENERS/SCREWS/NAILS/BOLTS ETC  996474\n",
       "1                          CMN Donations  159804\n",
       "2               KEY KWIKSET KW1-ACE250PK   69540\n",
       "3               BIRDSEED WILDBIRD 20#ACE   66847\n",
       "4               KEY SCHLAGE SC1-ACE250PK   60908\n",
       "...                                  ...     ...\n",
       "103291           GEORGIAN AGED BRONZE 2T       1\n",
       "103292            BIT DRILL HING/BRKT#12       1\n",
       "103293          PRE-CUT CABLE50'GALV1/8\"       1\n",
       "103294         1-1/4 FROST FLAS BRA BASE       1\n",
       "103295            SMALL BIGFOOT GEAR BAG       1\n",
       "\n",
       "[103296 rows x 2 columns]"
      ]
     },
     "execution_count": 50,
     "metadata": {},
     "output_type": "execute_result"
    }
   ],
   "source": [
    "new_df[\"Counts\"] = df[\"Item Description\"].value_counts().to_list()\n",
    "new_df"
   ]
  },
  {
   "cell_type": "code",
   "execution_count": 52,
   "id": "9429a18b",
   "metadata": {},
   "outputs": [],
   "source": [
    "new_df[\"Item Description\"] = new_df[\"Item Description\"].apply(lambda x: str(x)[:15])"
   ]
  },
  {
   "cell_type": "code",
   "execution_count": 53,
   "id": "fdfc3530",
   "metadata": {},
   "outputs": [],
   "source": [
    "new_df = new_df.loc[new_df[\"Counts\"]>1000]"
   ]
  },
  {
   "cell_type": "code",
   "execution_count": 55,
   "id": "d7e32a74",
   "metadata": {},
   "outputs": [
    {
     "data": {
      "image/png": "[encoded data removed]",
      "text/plain": [
       "<Figure size 864x864 with 1 Axes>"
      ]
     },
     "metadata": {
      "needs_background": "light"
     },
     "output_type": "display_data"
    }
   ],
   "source": [
    "import matplotlib.pyplot as plt\n",
    "fig, ax = plt.subplots(1, figsize = (12,12))\n",
    "squarify.plot(sizes=new_df['Counts'], \n",
    "              label=new_df['Item Description'][:6], \n",
    "              alpha=.9 )\n",
    "plt.axis('off')\n",
    "plt.show()"
   ]
  },
  {
   "cell_type": "code",
   "execution_count": 74,
   "id": "df57824b",
   "metadata": {},
   "outputs": [],
   "source": [
    "new_df = pd.DataFrame()\n",
    "new_df[\"Department Name\"] = df[\"Department Name\"].value_counts().index\n",
    "new_df[\"Dept Counts\"] = df[\"Department Name\"].value_counts().to_list()"
   ]
  },
  {
   "cell_type": "code",
   "execution_count": 75,
   "id": "65564245",
   "metadata": {},
   "outputs": [],
   "source": [
    "new_df[\"Department Name\"] = new_df[\"Department Name\"].apply(lambda x: str(x)[:20])"
   ]
  },
  {
   "cell_type": "code",
   "execution_count": 78,
   "id": "bf1272d3",
   "metadata": {},
   "outputs": [
    {
     "data": {
      "image/png": "[encoded data removed]",
      "text/plain": [
       "<Figure size 864x864 with 1 Axes>"
      ]
     },
     "metadata": {
      "needs_background": "light"
     },
     "output_type": "display_data"
    }
   ],
   "source": [
    "import matplotlib.pyplot as plt\n",
    "fig, ax = plt.subplots(1, figsize = (12,12))\n",
    "squarify.plot(sizes=new_df['Dept Counts'], \n",
    "              label=new_df['Department Name'][:20], \n",
    "              alpha=.9 )\n",
    "plt.axis('off')\n",
    "plt.show()"
   ]
  },
  {
   "cell_type": "code",
   "execution_count": 7,
   "id": "84c5b2c9",
   "metadata": {},
   "outputs": [
    {
     "name": "stdout",
     "output_type": "stream",
     "text": [
      "Barcode Number:  082901000273 \n",
      "\n",
      "Title:  Ace 5/32 in. S X 3-1/8 in. L High Speed Steel Drill Bit 1 Pc \n",
      "\n",
      "Entire Response:\n",
      "{'products': [{'age_group': '',\n",
      "               'asin': '',\n",
      "               'barcode_formats': 'UPC-A 082901000273, EAN-13 0082901000273',\n",
      "               'barcode_number': '082901000273',\n",
      "               'brand': 'Black & Decker Us Inc',\n",
      "               'category': 'Hardware > Tool Accessories > Drill & Screwdriver '\n",
      "                           'Accessories > Drill & Screwdriver Bits',\n",
      "               'color': '',\n",
      "               'contributors': [],\n",
      "               'description': 'Ace High Speed Steel drill bit is crafted for '\n",
      "                              'durability and perfect for hard materials.',\n",
      "               'energy_efficiency_class': '',\n",
      "               'features': [],\n",
      "               'format': '',\n",
      "               'gender': '',\n",
      "               'height': '',\n",
      "               'images': ['https://images.barcodelookup.com/1799/17997051-1.jpg'],\n",
      "               'ingredients': '',\n",
      "               'last_update': '2021-10-25 09:37:55',\n",
      "               'length': '',\n",
      "               'manufacturer': 'Ace',\n",
      "               'material': '',\n",
      "               'model': '',\n",
      "               'mpn': '1833985',\n",
      "               'multipack': '',\n",
      "               'nutrition_facts': '',\n",
      "               'pattern': '',\n",
      "               'release_date': '',\n",
      "               'reviews': [],\n",
      "               'size': '',\n",
      "               'stores': [{'availability': '',\n",
      "                           'condition': 'new',\n",
      "                           'country': 'US',\n",
      "                           'currency': 'USD',\n",
      "                           'currency_symbol': '$',\n",
      "                           'item_group_id': '',\n",
      "                           'last_update': '2021-10-25 09:37:55',\n",
      "                           'link': 'https://www.acehardware.com/p/2000123?x429=true&utm_source=google&utm_medium=organic-shopping&utm_campaign=organic-shopping',\n",
      "                           'name': 'ACE Hardware',\n",
      "                           'price': '1.79',\n",
      "                           'sale_price': '1.79',\n",
      "                           'shipping': [],\n",
      "                           'tax': []},\n",
      "                          {'availability': '',\n",
      "                           'condition': '',\n",
      "                           'country': 'US',\n",
      "                           'currency': 'USD',\n",
      "                           'currency_symbol': '$',\n",
      "                           'item_group_id': '',\n",
      "                           'last_update': '2021-06-22 06:53:33',\n",
      "                           'link': 'https://www.rakuten.com/shop/jejco/product/B63ZJABA73/?sku=B63ZJABA73&scid=af_feed',\n",
      "                           'name': 'Rakuten.com',\n",
      "                           'price': '42.94',\n",
      "                           'sale_price': '',\n",
      "                           'shipping': [],\n",
      "                           'tax': []}],\n",
      "               'title': 'Ace 5/32 in. S X 3-1/8 in. L High Speed Steel Drill '\n",
      "                        'Bit 1 Pc',\n",
      "               'weight': '0.1 pounds',\n",
      "               'width': ''}]}\n"
     ]
    }
   ],
   "source": [
    "import urllib.request\n",
    "import json\n",
    "import pprint\n",
    "\n",
    "api_key = \"14r9pwct4czmli6uz0r3e0i1vznr7x\"\n",
    "url = \"https://api.barcodelookup.com/v3/products?barcode=082901000273&formatted=y&key=\" + api_key\n",
    "\n",
    "with urllib.request.urlopen(url) as url:\n",
    "    data = json.loads(url.read().decode())\n",
    "\n",
    "barcode = data[\"products\"][0][\"barcode_number\"]\n",
    "print (\"Barcode Number: \", barcode, \"\\n\")\n",
    "\n",
    "name = data[\"products\"][0][\"title\"]\n",
    "print (\"Title: \", name, \"\\n\")\n",
    "\n",
    "print (\"Entire Response:\")\n",
    "pprint.pprint(data)"
   ]
  },
  {
   "cell_type": "code",
   "execution_count": null,
   "id": "3c05e415",
   "metadata": {},
   "outputs": [],
   "source": [
    "import requests\n",
    "import json\n",
    "\n",
    "headers = {\n",
    "  'Content-Type': 'application/json',\n",
    "  'Accept': 'application/json',\n",
    "  'Accept-Encoding': 'gzip,deflate',\n",
    "  #'user_key': 'only_for_dev_or_pro',\n",
    "  #'key_type': '3scale'\n",
    "}\n",
    "resp = requests.get('https://api.upcitemdb.com/prod/v1/lookup?upc=4002293401102', headers=headers)\n",
    "data = json.loads(resp.text)\n",
    "for item in data['items']:\n",
    "  print(\"{}\\t{}\\t{}\\t{}-{}\".format(item['ean'], item['title'], item['brand'], item['lowest_recorded_price'], item['highest_recorded_price']))\n",
    "  for offer in item['offers']:\n",
    "    print(\"{}\\t{}\\t{}\".format(offer['domain'], offer['title'], offer['price']))"
   ]
  },
  {
   "cell_type": "code",
   "execution_count": 4,
   "id": "15326f52",
   "metadata": {},
   "outputs": [],
   "source": [
    "import plotly"
   ]
  },
  {
   "cell_type": "code",
   "execution_count": 122,
   "id": "ca49087a",
   "metadata": {},
   "outputs": [],
   "source": [
    "def append_list(sim_words, words):\n",
    "    \n",
    "    list_of_words = []\n",
    "    \n",
    "    for i in range(len(sim_words)):\n",
    "        \n",
    "        sim_words_list = list(sim_words[i])\n",
    "        sim_words_list.append(words)\n",
    "        sim_words_tuple = tuple(sim_words_list)\n",
    "        list_of_words.append(sim_words_tuple)\n",
    "        \n",
    "    return list_of_words\n",
    "\n",
    "input_word = \"TWINKLE_FLAMETIP_SET_CLR\"#\"COSTELLO'S_FALL_GRASS_SEED_10LB\"##\"BIRDSEED_WILDBIRD_20#ACE, KEY_KWIKSET_KW1-ACE250PK, POLAR_FLEECE_GLOVES\"\n",
    "user_input = [x.strip() for x in input_word.split(',')]\n",
    "result_word = []\n",
    "    \n",
    "for words in user_input:\n",
    "    \n",
    "        sim_words = model1.wv.most_similar(words, topn = 5)\n",
    "        sim_words = append_list(sim_words, words)\n",
    "            \n",
    "        result_word.extend(sim_words)\n",
    "    \n",
    "similar_word = [word[0] for word in result_word]\n",
    "similarity = [word[1] for word in result_word] \n",
    "similar_word.extend(user_input)\n",
    "labels = [word[2] for word in result_word]\n",
    "label_dict = dict([(y,x+1) for x,y in enumerate(set(labels))])\n",
    "color_map = [label_dict[x] for x in labels]"
   ]
  },
  {
   "cell_type": "code",
   "execution_count": 72,
   "id": "da856ef9",
   "metadata": {},
   "outputs": [],
   "source": [
    "import plotly\n",
    "import numpy as np\n",
    "import plotly.graph_objs as go\n",
    "from sklearn.decomposition import PCA\n",
    "\n",
    "def display_pca_scatterplot_3D(model, user_input=None, words=None, label=None, color_map=None, topn=5, sample=10):\n",
    "\n",
    "    if words == None:\n",
    "        if sample > 0:\n",
    "            words = np.random.choice(list(model.wv.vocab.keys()), sample)\n",
    "        else:\n",
    "            words = [ word for word in model.wv.vocab ]\n",
    "    \n",
    "    word_vectors = np.array([model.wv[w] for w in words])\n",
    "    \n",
    "    three_dim = PCA(random_state=0).fit_transform(word_vectors)[:,:3]\n",
    "    # For 2D, change the three_dim variable into something like two_dim like the following:\n",
    "    #two_dim = PCA(random_state=0).fit_transform(word_vectors)[:,:2]\n",
    "\n",
    "    data = []\n",
    "    count = 0\n",
    "    \n",
    "    for i in range (len(user_input)):\n",
    "\n",
    "                trace = go.Scatter3d(\n",
    "                    x = three_dim[count:count+topn,0], \n",
    "                    y = three_dim[count:count+topn,1],  \n",
    "                    z = three_dim[count:count+topn,2],\n",
    "                    text = words[count:count+topn],\n",
    "                    name = user_input[i],\n",
    "                    textposition = \"top center\",\n",
    "                    textfont_size = 10,\n",
    "                    mode = 'markers+text',\n",
    "                    marker = {\n",
    "                        'size': 5,\n",
    "                        'opacity': 0.8,\n",
    "                        'color': 2\n",
    "                    }\n",
    "       \n",
    "                )\n",
    "\n",
    "#                 trace = go.Scatter(\n",
    "#                     x = two_dim[count:count+topn,0], \n",
    "#                     y = two_dim[count:count+topn,1],  \n",
    "#                     #z = two_dim[count:count+topn,2],\n",
    "#                     text = words[count:count+topn],\n",
    "#                     name = user_input[i],\n",
    "#                     textposition = \"top center\",\n",
    "#                     textfont_size = 20,\n",
    "#                     mode = 'markers+text',\n",
    "#                     marker = {\n",
    "#                         'size': 10,\n",
    "#                         'opacity': 0.8,\n",
    "#                         'color': 2\n",
    "#                     }\n",
    "       \n",
    "#                 )\n",
    "                \n",
    "                # For 2D, instead of using go.Scatter3d, we need to use go.Scatter and delete the z variable. Also, instead of using\n",
    "                # variable three_dim, use the variable that we have declared earlier (e.g two_dim)\n",
    "            \n",
    "                data.append(trace)\n",
    "                count = count+topn\n",
    "\n",
    "    trace_input = go.Scatter3d(\n",
    "                    x = three_dim[count:,0], \n",
    "                    y = three_dim[count:,1],  \n",
    "                    z = three_dim[count:,2],\n",
    "                    text = words[count:],\n",
    "                    name = 'input words',\n",
    "                    textposition = \"top center\",\n",
    "                    textfont_size = 10,\n",
    "                    mode = 'markers+text',\n",
    "                    marker = {\n",
    "                        'size':5,\n",
    "                        'opacity': 1,\n",
    "                        'color': 'black'\n",
    "                    }\n",
    "                    )\n",
    "\n",
    "#     trace_input = go.Scatter(\n",
    "#                     x = two_dim[count:,0], \n",
    "#                     y = two_dim[count:,1],  \n",
    "#                     #z = three_dim[count:,2],\n",
    "#                     text = words[count:],\n",
    "#                     name = 'input words',\n",
    "#                     textposition = \"top center\",\n",
    "#                     textfont_size = 20,\n",
    "#                     mode = 'markers+text',\n",
    "#                     marker = {\n",
    "#                         'size': 10,\n",
    "#                         'opacity': 1,\n",
    "#                         'color': 'black'\n",
    "#                     }\n",
    "#                     )\n",
    "\n",
    "    # For 2D, instead of using go.Scatter3d, we need to use go.Scatter and delete the z variable.  Also, instead of using\n",
    "    # variable three_dim, use the variable that we have declared earlier (e.g two_dim)\n",
    "            \n",
    "    data.append(trace_input)\n",
    "    \n",
    "# Configure the layout\n",
    "\n",
    "    layout = go.Layout(\n",
    "        margin = {'l': 0, 'r': 0, 'b': 0, 't': 0},\n",
    "        showlegend=True,\n",
    "        legend=dict(\n",
    "        x=1,\n",
    "        y=0.5,\n",
    "        font=dict(\n",
    "            family=\"Courier New\",\n",
    "            size=10,\n",
    "            color=\"black\"\n",
    "        )),\n",
    "        font = dict(\n",
    "            family = \" Courier New \",\n",
    "            size = 10),\n",
    "        autosize = False,\n",
    "        width = 1000,\n",
    "        height = 1000\n",
    "        )\n",
    "\n",
    "\n",
    "    plot_figure = go.Figure(data = data, layout = layout)\n",
    "    plot_figure.show()\n",
    "    \n"
   ]
  },
  {
   "cell_type": "code",
   "execution_count": 123,
   "id": "15b83751",
   "metadata": {},
   "outputs": [
    {
     "data": {
      "application/vnd.plotly.v1+json": {
       "config": {
        "plotlyServerURL": "https://plot.ly"
       },
       "data": [
        {
         "marker": {
          "color": 2,
          "opacity": 0.8,
          "size": 5
         },
         "mode": "markers+text",
         "name": "TWINKLE_FLAMETIP_SET_CLR",
         "text": [
          "DOL_LT_UP/MUSIC_SANTA_TREE",
          "LED_C5_REPLACEMENT_4PK_B",
          "DOL_SANTA_TRAIN_MUSIC/LED",
          "CORD_REEL_INDOOR_8'",
          "\"24\"\"ELECTRIC_ANIMATED_ELF\""
         ],
         "textfont": {
          "size": 10
         },
         "textposition": "top center",
         "type": "scatter3d",
         "x": [
          0.24356843531131744,
          -0.3613119423389435,
          0.07798322290182114,
          -0.03053932823240757,
          0.48664653301239014
         ],
         "y": [
          -0.049745284020900726,
          -0.031175514683127403,
          -0.04822917282581329,
          0.12936903536319733,
          0.009383278898894787
         ],
         "z": [
          -0.06750454008579254,
          0.017813831567764282,
          -0.025267696008086205,
          -0.03423638269305229,
          0.07670725882053375
         ]
        },
        {
         "marker": {
          "color": "black",
          "opacity": 1,
          "size": 5
         },
         "mode": "markers+text",
         "name": "input words",
         "text": [
          "TWINKLE_FLAMETIP_SET_CLR"
         ],
         "textfont": {
          "size": 10
         },
         "textposition": "top center",
         "type": "scatter3d",
         "x": [
          -0.4163471460342407
         ],
         "y": [
          -0.00960224773734808
         ],
         "z": [
          0.03248753771185875
         ]
        }
       ],
       "layout": {
        "autosize": false,
        "font": {
         "family": " Courier New ",
         "size": 10
        },
        "height": 1000,
        "legend": {
         "font": {
          "color": "black",
          "family": "Courier New",
          "size": 10
         },
         "x": 1,
         "y": 0.5
        },
        "margin": {
         "b": 0,
         "l": 0,
         "r": 0,
         "t": 0
        },
        "showlegend": true,
        "template": {
         "data": {
          "bar": [
           {
            "error_x": {
             "color": "#2a3f5f"
            },
            "error_y": {
             "color": "#2a3f5f"
            },
            "marker": {
             "line": {
              "color": "#E5ECF6",
              "width": 0.5
             },
             "pattern": {
              "fillmode": "overlay",
              "size": 10,
              "solidity": 0.2
             }
            },
            "type": "bar"
           }
          ],
          "barpolar": [
           {
            "marker": {
             "line": {
              "color": "#E5ECF6",
              "width": 0.5
             },
             "pattern": {
              "fillmode": "overlay",
              "size": 10,
              "solidity": 0.2
             }
            },
            "type": "barpolar"
           }
          ],
          "carpet": [
           {
            "aaxis": {
             "endlinecolor": "#2a3f5f",
             "gridcolor": "white",
             "linecolor": "white",
             "minorgridcolor": "white",
             "startlinecolor": "#2a3f5f"
            },
            "baxis": {
             "endlinecolor": "#2a3f5f",
             "gridcolor": "white",
             "linecolor": "white",
             "minorgridcolor": "white",
             "startlinecolor": "#2a3f5f"
            },
            "type": "carpet"
           }
          ],
          "choropleth": [
           {
            "colorbar": {
             "outlinewidth": 0,
             "ticks": ""
            },
            "type": "choropleth"
           }
          ],
          "contour": [
           {
            "colorbar": {
             "outlinewidth": 0,
             "ticks": ""
            },
            "colorscale": [
             [
              0,
              "#0d0887"
             ],
             [
              0.1111111111111111,
              "#46039f"
             ],
             [
              0.2222222222222222,
              "#7201a8"
             ],
             [
              0.3333333333333333,
              "#9c179e"
             ],
             [
              0.4444444444444444,
              "#bd3786"
             ],
             [
              0.5555555555555556,
              "#d8576b"
             ],
             [
              0.6666666666666666,
              "#ed7953"
             ],
             [
              0.7777777777777778,
              "#fb9f3a"
             ],
             [
              0.8888888888888888,
              "#fdca26"
             ],
             [
              1,
              "#f0f921"
             ]
            ],
            "type": "contour"
           }
          ],
          "contourcarpet": [
           {
            "colorbar": {
             "outlinewidth": 0,
             "ticks": ""
            },
            "type": "contourcarpet"
           }
          ],
          "heatmap": [
           {
            "colorbar": {
             "outlinewidth": 0,
             "ticks": ""
            },
            "colorscale": [
             [
              0,
              "#0d0887"
             ],
             [
              0.1111111111111111,
              "#46039f"
             ],
             [
              0.2222222222222222,
              "#7201a8"
             ],
             [
              0.3333333333333333,
              "#9c179e"
             ],
             [
              0.4444444444444444,
              "#bd3786"
             ],
             [
              0.5555555555555556,
              "#d8576b"
             ],
             [
              0.6666666666666666,
              "#ed7953"
             ],
             [
              0.7777777777777778,
              "#fb9f3a"
             ],
             [
              0.8888888888888888,
              "#fdca26"
             ],
             [
              1,
              "#f0f921"
             ]
            ],
            "type": "heatmap"
           }
          ],
          "heatmapgl": [
           {
            "colorbar": {
             "outlinewidth": 0,
             "ticks": ""
            },
            "colorscale": [
             [
              0,
              "#0d0887"
             ],
             [
              0.1111111111111111,
              "#46039f"
             ],
             [
              0.2222222222222222,
              "#7201a8"
             ],
             [
              0.3333333333333333,
              "#9c179e"
             ],
             [
              0.4444444444444444,
              "#bd3786"
             ],
             [
              0.5555555555555556,
              "#d8576b"
             ],
             [
              0.6666666666666666,
              "#ed7953"
             ],
             [
              0.7777777777777778,
              "#fb9f3a"
             ],
             [
              0.8888888888888888,
              "#fdca26"
             ],
             [
              1,
              "#f0f921"
             ]
            ],
            "type": "heatmapgl"
           }
          ],
          "histogram": [
           {
            "marker": {
             "pattern": {
              "fillmode": "overlay",
              "size": 10,
              "solidity": 0.2
             }
            },
            "type": "histogram"
           }
          ],
          "histogram2d": [
           {
            "colorbar": {
             "outlinewidth": 0,
             "ticks": ""
            },
            "colorscale": [
             [
              0,
              "#0d0887"
             ],
             [
              0.1111111111111111,
              "#46039f"
             ],
             [
              0.2222222222222222,
              "#7201a8"
             ],
             [
              0.3333333333333333,
              "#9c179e"
             ],
             [
              0.4444444444444444,
              "#bd3786"
             ],
             [
              0.5555555555555556,
              "#d8576b"
             ],
             [
              0.6666666666666666,
              "#ed7953"
             ],
             [
              0.7777777777777778,
              "#fb9f3a"
             ],
             [
              0.8888888888888888,
              "#fdca26"
             ],
             [
              1,
              "#f0f921"
             ]
            ],
            "type": "histogram2d"
           }
          ],
          "histogram2dcontour": [
           {
            "colorbar": {
             "outlinewidth": 0,
             "ticks": ""
            },
            "colorscale": [
             [
              0,
              "#0d0887"
             ],
             [
              0.1111111111111111,
              "#46039f"
             ],
             [
              0.2222222222222222,
              "#7201a8"
             ],
             [
              0.3333333333333333,
              "#9c179e"
             ],
             [
              0.4444444444444444,
              "#bd3786"
             ],
             [
              0.5555555555555556,
              "#d8576b"
             ],
             [
              0.6666666666666666,
              "#ed7953"
             ],
             [
              0.7777777777777778,
              "#fb9f3a"
             ],
             [
              0.8888888888888888,
              "#fdca26"
             ],
             [
              1,
              "#f0f921"
             ]
            ],
            "type": "histogram2dcontour"
           }
          ],
          "mesh3d": [
           {
            "colorbar": {
             "outlinewidth": 0,
             "ticks": ""
            },
            "type": "mesh3d"
           }
          ],
          "parcoords": [
           {
            "line": {
             "colorbar": {
              "outlinewidth": 0,
              "ticks": ""
             }
            },
            "type": "parcoords"
           }
          ],
          "pie": [
           {
            "automargin": true,
            "type": "pie"
           }
          ],
          "scatter": [
           {
            "marker": {
             "colorbar": {
              "outlinewidth": 0,
              "ticks": ""
             }
            },
            "type": "scatter"
           }
          ],
          "scatter3d": [
           {
            "line": {
             "colorbar": {
              "outlinewidth": 0,
              "ticks": ""
             }
            },
            "marker": {
             "colorbar": {
              "outlinewidth": 0,
              "ticks": ""
             }
            },
            "type": "scatter3d"
           }
          ],
          "scattercarpet": [
           {
            "marker": {
             "colorbar": {
              "outlinewidth": 0,
              "ticks": ""
             }
            },
            "type": "scattercarpet"
           }
          ],
          "scattergeo": [
           {
            "marker": {
             "colorbar": {
              "outlinewidth": 0,
              "ticks": ""
             }
            },
            "type": "scattergeo"
           }
          ],
          "scattergl": [
           {
            "marker": {
             "colorbar": {
              "outlinewidth": 0,
              "ticks": ""
             }
            },
            "type": "scattergl"
           }
          ],
          "scattermapbox": [
           {
            "marker": {
             "colorbar": {
              "outlinewidth": 0,
              "ticks": ""
             }
            },
            "type": "scattermapbox"
           }
          ],
          "scatterpolar": [
           {
            "marker": {
             "colorbar": {
              "outlinewidth": 0,
              "ticks": ""
             }
            },
            "type": "scatterpolar"
           }
          ],
          "scatterpolargl": [
           {
            "marker": {
             "colorbar": {
              "outlinewidth": 0,
              "ticks": ""
             }
            },
            "type": "scatterpolargl"
           }
          ],
          "scatterternary": [
           {
            "marker": {
             "colorbar": {
              "outlinewidth": 0,
              "ticks": ""
             }
            },
            "type": "scatterternary"
           }
          ],
          "surface": [
           {
            "colorbar": {
             "outlinewidth": 0,
             "ticks": ""
            },
            "colorscale": [
             [
              0,
              "#0d0887"
             ],
             [
              0.1111111111111111,
              "#46039f"
             ],
             [
              0.2222222222222222,
              "#7201a8"
             ],
             [
              0.3333333333333333,
              "#9c179e"
             ],
             [
              0.4444444444444444,
              "#bd3786"
             ],
             [
              0.5555555555555556,
              "#d8576b"
             ],
             [
              0.6666666666666666,
              "#ed7953"
             ],
             [
              0.7777777777777778,
              "#fb9f3a"
             ],
             [
              0.8888888888888888,
              "#fdca26"
             ],
             [
              1,
              "#f0f921"
             ]
            ],
            "type": "surface"
           }
          ],
          "table": [
           {
            "cells": {
             "fill": {
              "color": "#EBF0F8"
             },
             "line": {
              "color": "white"
             }
            },
            "header": {
             "fill": {
              "color": "#C8D4E3"
             },
             "line": {
              "color": "white"
             }
            },
            "type": "table"
           }
          ]
         },
         "layout": {
          "annotationdefaults": {
           "arrowcolor": "#2a3f5f",
           "arrowhead": 0,
           "arrowwidth": 1
          },
          "autotypenumbers": "strict",
          "coloraxis": {
           "colorbar": {
            "outlinewidth": 0,
            "ticks": ""
           }
          },
          "colorscale": {
           "diverging": [
            [
             0,
             "#8e0152"
            ],
            [
             0.1,
             "#c51b7d"
            ],
            [
             0.2,
             "#de77ae"
            ],
            [
             0.3,
             "#f1b6da"
            ],
            [
             0.4,
             "#fde0ef"
            ],
            [
             0.5,
             "#f7f7f7"
            ],
            [
             0.6,
             "#e6f5d0"
            ],
            [
             0.7,
             "#b8e186"
            ],
            [
             0.8,
             "#7fbc41"
            ],
            [
             0.9,
             "#4d9221"
            ],
            [
             1,
             "#276419"
            ]
           ],
           "sequential": [
            [
             0,
             "#0d0887"
            ],
            [
             0.1111111111111111,
             "#46039f"
            ],
            [
             0.2222222222222222,
             "#7201a8"
            ],
            [
             0.3333333333333333,
             "#9c179e"
            ],
            [
             0.4444444444444444,
             "#bd3786"
            ],
            [
             0.5555555555555556,
             "#d8576b"
            ],
            [
             0.6666666666666666,
             "#ed7953"
            ],
            [
             0.7777777777777778,
             "#fb9f3a"
            ],
            [
             0.8888888888888888,
             "#fdca26"
            ],
            [
             1,
             "#f0f921"
            ]
           ],
           "sequentialminus": [
            [
             0,
             "#0d0887"
            ],
            [
             0.1111111111111111,
             "#46039f"
            ],
            [
             0.2222222222222222,
             "#7201a8"
            ],
            [
             0.3333333333333333,
             "#9c179e"
            ],
            [
             0.4444444444444444,
             "#bd3786"
            ],
            [
             0.5555555555555556,
             "#d8576b"
            ],
            [
             0.6666666666666666,
             "#ed7953"
            ],
            [
             0.7777777777777778,
             "#fb9f3a"
            ],
            [
             0.8888888888888888,
             "#fdca26"
            ],
            [
             1,
             "#f0f921"
            ]
           ]
          },
          "colorway": [
           "#636efa",
           "#EF553B",
           "#00cc96",
           "#ab63fa",
           "#FFA15A",
           "#19d3f3",
           "#FF6692",
           "#B6E880",
           "#FF97FF",
           "#FECB52"
          ],
          "font": {
           "color": "#2a3f5f"
          },
          "geo": {
           "bgcolor": "white",
           "lakecolor": "white",
           "landcolor": "#E5ECF6",
           "showlakes": true,
           "showland": true,
           "subunitcolor": "white"
          },
          "hoverlabel": {
           "align": "left"
          },
          "hovermode": "closest",
          "mapbox": {
           "style": "light"
          },
          "paper_bgcolor": "white",
          "plot_bgcolor": "#E5ECF6",
          "polar": {
           "angularaxis": {
            "gridcolor": "white",
            "linecolor": "white",
            "ticks": ""
           },
           "bgcolor": "#E5ECF6",
           "radialaxis": {
            "gridcolor": "white",
            "linecolor": "white",
            "ticks": ""
           }
          },
          "scene": {
           "xaxis": {
            "backgroundcolor": "#E5ECF6",
            "gridcolor": "white",
            "gridwidth": 2,
            "linecolor": "white",
            "showbackground": true,
            "ticks": "",
            "zerolinecolor": "white"
           },
           "yaxis": {
            "backgroundcolor": "#E5ECF6",
            "gridcolor": "white",
            "gridwidth": 2,
            "linecolor": "white",
            "showbackground": true,
            "ticks": "",
            "zerolinecolor": "white"
           },
           "zaxis": {
            "backgroundcolor": "#E5ECF6",
            "gridcolor": "white",
            "gridwidth": 2,
            "linecolor": "white",
            "showbackground": true,
            "ticks": "",
            "zerolinecolor": "white"
           }
          },
          "shapedefaults": {
           "line": {
            "color": "#2a3f5f"
           }
          },
          "ternary": {
           "aaxis": {
            "gridcolor": "white",
            "linecolor": "white",
            "ticks": ""
           },
           "baxis": {
            "gridcolor": "white",
            "linecolor": "white",
            "ticks": ""
           },
           "bgcolor": "#E5ECF6",
           "caxis": {
            "gridcolor": "white",
            "linecolor": "white",
            "ticks": ""
           }
          },
          "title": {
           "x": 0.05
          },
          "xaxis": {
           "automargin": true,
           "gridcolor": "white",
           "linecolor": "white",
           "ticks": "",
           "title": {
            "standoff": 15
           },
           "zerolinecolor": "white",
           "zerolinewidth": 2
          },
          "yaxis": {
           "automargin": true,
           "gridcolor": "white",
           "linecolor": "white",
           "ticks": "",
           "title": {
            "standoff": 15
           },
           "zerolinecolor": "white",
           "zerolinewidth": 2
          }
         }
        },
        "width": 1000
       }
      },
      "text/html": [
       "<div>                            <div id=\"fb5eabc1-28fe-43e1-b51e-ea4fc8288122\" class=\"plotly-graph-div\" style=\"height:1000px; width:1000px;\"></div>            <script type=\"text/javascript\">                require([\"plotly\"], function(Plotly) {                    window.PLOTLYENV=window.PLOTLYENV || {};                                    if (document.getElementById(\"fb5eabc1-28fe-43e1-b51e-ea4fc8288122\")) {                    Plotly.newPlot(                        \"fb5eabc1-28fe-43e1-b51e-ea4fc8288122\",                        [{\"marker\":{\"color\":2,\"opacity\":0.8,\"size\":5},\"mode\":\"markers+text\",\"name\":\"TWINKLE_FLAMETIP_SET_CLR\",\"text\":[\"DOL_LT_UP/MUSIC_SANTA_TREE\",\"LED_C5_REPLACEMENT_4PK_B\",\"DOL_SANTA_TRAIN_MUSIC/LED\",\"CORD_REEL_INDOOR_8'\",\"\\\"24\\\"\\\"ELECTRIC_ANIMATED_ELF\\\"\"],\"textfont\":{\"size\":10},\"textposition\":\"top center\",\"type\":\"scatter3d\",\"x\":[0.24356843531131744,-0.3613119423389435,0.07798322290182114,-0.03053932823240757,0.48664653301239014],\"y\":[-0.049745284020900726,-0.031175514683127403,-0.04822917282581329,0.12936903536319733,0.009383278898894787],\"z\":[-0.06750454008579254,0.017813831567764282,-0.025267696008086205,-0.03423638269305229,0.07670725882053375]},{\"marker\":{\"color\":\"black\",\"opacity\":1,\"size\":5},\"mode\":\"markers+text\",\"name\":\"input words\",\"text\":[\"TWINKLE_FLAMETIP_SET_CLR\"],\"textfont\":{\"size\":10},\"textposition\":\"top center\",\"type\":\"scatter3d\",\"x\":[-0.4163471460342407],\"y\":[-0.00960224773734808],\"z\":[0.03248753771185875]}],                        {\"autosize\":false,\"font\":{\"family\":\" Courier New \",\"size\":10},\"height\":1000,\"legend\":{\"font\":{\"color\":\"black\",\"family\":\"Courier New\",\"size\":10},\"x\":1,\"y\":0.5},\"margin\":{\"b\":0,\"l\":0,\"r\":0,\"t\":0},\"showlegend\":true,\"template\":{\"data\":{\"bar\":[{\"error_x\":{\"color\":\"#2a3f5f\"},\"error_y\":{\"color\":\"#2a3f5f\"},\"marker\":{\"line\":{\"color\":\"#E5ECF6\",\"width\":0.5},\"pattern\":{\"fillmode\":\"overlay\",\"size\":10,\"solidity\":0.2}},\"type\":\"bar\"}],\"barpolar\":[{\"marker\":{\"line\":{\"color\":\"#E5ECF6\",\"width\":0.5},\"pattern\":{\"fillmode\":\"overlay\",\"size\":10,\"solidity\":0.2}},\"type\":\"barpolar\"}],\"carpet\":[{\"aaxis\":{\"endlinecolor\":\"#2a3f5f\",\"gridcolor\":\"white\",\"linecolor\":\"white\",\"minorgridcolor\":\"white\",\"startlinecolor\":\"#2a3f5f\"},\"baxis\":{\"endlinecolor\":\"#2a3f5f\",\"gridcolor\":\"white\",\"linecolor\":\"white\",\"minorgridcolor\":\"white\",\"startlinecolor\":\"#2a3f5f\"},\"type\":\"carpet\"}],\"choropleth\":[{\"colorbar\":{\"outlinewidth\":0,\"ticks\":\"\"},\"type\":\"choropleth\"}],\"contour\":[{\"colorbar\":{\"outlinewidth\":0,\"ticks\":\"\"},\"colorscale\":[[0.0,\"#0d0887\"],[0.1111111111111111,\"#46039f\"],[0.2222222222222222,\"#7201a8\"],[0.3333333333333333,\"#9c179e\"],[0.4444444444444444,\"#bd3786\"],[0.5555555555555556,\"#d8576b\"],[0.6666666666666666,\"#ed7953\"],[0.7777777777777778,\"#fb9f3a\"],[0.8888888888888888,\"#fdca26\"],[1.0,\"#f0f921\"]],\"type\":\"contour\"}],\"contourcarpet\":[{\"colorbar\":{\"outlinewidth\":0,\"ticks\":\"\"},\"type\":\"contourcarpet\"}],\"heatmap\":[{\"colorbar\":{\"outlinewidth\":0,\"ticks\":\"\"},\"colorscale\":[[0.0,\"#0d0887\"],[0.1111111111111111,\"#46039f\"],[0.2222222222222222,\"#7201a8\"],[0.3333333333333333,\"#9c179e\"],[0.4444444444444444,\"#bd3786\"],[0.5555555555555556,\"#d8576b\"],[0.6666666666666666,\"#ed7953\"],[0.7777777777777778,\"#fb9f3a\"],[0.8888888888888888,\"#fdca26\"],[1.0,\"#f0f921\"]],\"type\":\"heatmap\"}],\"heatmapgl\":[{\"colorbar\":{\"outlinewidth\":0,\"ticks\":\"\"},\"colorscale\":[[0.0,\"#0d0887\"],[0.1111111111111111,\"#46039f\"],[0.2222222222222222,\"#7201a8\"],[0.3333333333333333,\"#9c179e\"],[0.4444444444444444,\"#bd3786\"],[0.5555555555555556,\"#d8576b\"],[0.6666666666666666,\"#ed7953\"],[0.7777777777777778,\"#fb9f3a\"],[0.8888888888888888,\"#fdca26\"],[1.0,\"#f0f921\"]],\"type\":\"heatmapgl\"}],\"histogram\":[{\"marker\":{\"pattern\":{\"fillmode\":\"overlay\",\"size\":10,\"solidity\":0.2}},\"type\":\"histogram\"}],\"histogram2d\":[{\"colorbar\":{\"outlinewidth\":0,\"ticks\":\"\"},\"colorscale\":[[0.0,\"#0d0887\"],[0.1111111111111111,\"#46039f\"],[0.2222222222222222,\"#7201a8\"],[0.3333333333333333,\"#9c179e\"],[0.4444444444444444,\"#bd3786\"],[0.5555555555555556,\"#d8576b\"],[0.6666666666666666,\"#ed7953\"],[0.7777777777777778,\"#fb9f3a\"],[0.8888888888888888,\"#fdca26\"],[1.0,\"#f0f921\"]],\"type\":\"histogram2d\"}],\"histogram2dcontour\":[{\"colorbar\":{\"outlinewidth\":0,\"ticks\":\"\"},\"colorscale\":[[0.0,\"#0d0887\"],[0.1111111111111111,\"#46039f\"],[0.2222222222222222,\"#7201a8\"],[0.3333333333333333,\"#9c179e\"],[0.4444444444444444,\"#bd3786\"],[0.5555555555555556,\"#d8576b\"],[0.6666666666666666,\"#ed7953\"],[0.7777777777777778,\"#fb9f3a\"],[0.8888888888888888,\"#fdca26\"],[1.0,\"#f0f921\"]],\"type\":\"histogram2dcontour\"}],\"mesh3d\":[{\"colorbar\":{\"outlinewidth\":0,\"ticks\":\"\"},\"type\":\"mesh3d\"}],\"parcoords\":[{\"line\":{\"colorbar\":{\"outlinewidth\":0,\"ticks\":\"\"}},\"type\":\"parcoords\"}],\"pie\":[{\"automargin\":true,\"type\":\"pie\"}],\"scatter\":[{\"marker\":{\"colorbar\":{\"outlinewidth\":0,\"ticks\":\"\"}},\"type\":\"scatter\"}],\"scatter3d\":[{\"line\":{\"colorbar\":{\"outlinewidth\":0,\"ticks\":\"\"}},\"marker\":{\"colorbar\":{\"outlinewidth\":0,\"ticks\":\"\"}},\"type\":\"scatter3d\"}],\"scattercarpet\":[{\"marker\":{\"colorbar\":{\"outlinewidth\":0,\"ticks\":\"\"}},\"type\":\"scattercarpet\"}],\"scattergeo\":[{\"marker\":{\"colorbar\":{\"outlinewidth\":0,\"ticks\":\"\"}},\"type\":\"scattergeo\"}],\"scattergl\":[{\"marker\":{\"colorbar\":{\"outlinewidth\":0,\"ticks\":\"\"}},\"type\":\"scattergl\"}],\"scattermapbox\":[{\"marker\":{\"colorbar\":{\"outlinewidth\":0,\"ticks\":\"\"}},\"type\":\"scattermapbox\"}],\"scatterpolar\":[{\"marker\":{\"colorbar\":{\"outlinewidth\":0,\"ticks\":\"\"}},\"type\":\"scatterpolar\"}],\"scatterpolargl\":[{\"marker\":{\"colorbar\":{\"outlinewidth\":0,\"ticks\":\"\"}},\"type\":\"scatterpolargl\"}],\"scatterternary\":[{\"marker\":{\"colorbar\":{\"outlinewidth\":0,\"ticks\":\"\"}},\"type\":\"scatterternary\"}],\"surface\":[{\"colorbar\":{\"outlinewidth\":0,\"ticks\":\"\"},\"colorscale\":[[0.0,\"#0d0887\"],[0.1111111111111111,\"#46039f\"],[0.2222222222222222,\"#7201a8\"],[0.3333333333333333,\"#9c179e\"],[0.4444444444444444,\"#bd3786\"],[0.5555555555555556,\"#d8576b\"],[0.6666666666666666,\"#ed7953\"],[0.7777777777777778,\"#fb9f3a\"],[0.8888888888888888,\"#fdca26\"],[1.0,\"#f0f921\"]],\"type\":\"surface\"}],\"table\":[{\"cells\":{\"fill\":{\"color\":\"#EBF0F8\"},\"line\":{\"color\":\"white\"}},\"header\":{\"fill\":{\"color\":\"#C8D4E3\"},\"line\":{\"color\":\"white\"}},\"type\":\"table\"}]},\"layout\":{\"annotationdefaults\":{\"arrowcolor\":\"#2a3f5f\",\"arrowhead\":0,\"arrowwidth\":1},\"autotypenumbers\":\"strict\",\"coloraxis\":{\"colorbar\":{\"outlinewidth\":0,\"ticks\":\"\"}},\"colorscale\":{\"diverging\":[[0,\"#8e0152\"],[0.1,\"#c51b7d\"],[0.2,\"#de77ae\"],[0.3,\"#f1b6da\"],[0.4,\"#fde0ef\"],[0.5,\"#f7f7f7\"],[0.6,\"#e6f5d0\"],[0.7,\"#b8e186\"],[0.8,\"#7fbc41\"],[0.9,\"#4d9221\"],[1,\"#276419\"]],\"sequential\":[[0.0,\"#0d0887\"],[0.1111111111111111,\"#46039f\"],[0.2222222222222222,\"#7201a8\"],[0.3333333333333333,\"#9c179e\"],[0.4444444444444444,\"#bd3786\"],[0.5555555555555556,\"#d8576b\"],[0.6666666666666666,\"#ed7953\"],[0.7777777777777778,\"#fb9f3a\"],[0.8888888888888888,\"#fdca26\"],[1.0,\"#f0f921\"]],\"sequentialminus\":[[0.0,\"#0d0887\"],[0.1111111111111111,\"#46039f\"],[0.2222222222222222,\"#7201a8\"],[0.3333333333333333,\"#9c179e\"],[0.4444444444444444,\"#bd3786\"],[0.5555555555555556,\"#d8576b\"],[0.6666666666666666,\"#ed7953\"],[0.7777777777777778,\"#fb9f3a\"],[0.8888888888888888,\"#fdca26\"],[1.0,\"#f0f921\"]]},\"colorway\":[\"#636efa\",\"#EF553B\",\"#00cc96\",\"#ab63fa\",\"#FFA15A\",\"#19d3f3\",\"#FF6692\",\"#B6E880\",\"#FF97FF\",\"#FECB52\"],\"font\":{\"color\":\"#2a3f5f\"},\"geo\":{\"bgcolor\":\"white\",\"lakecolor\":\"white\",\"landcolor\":\"#E5ECF6\",\"showlakes\":true,\"showland\":true,\"subunitcolor\":\"white\"},\"hoverlabel\":{\"align\":\"left\"},\"hovermode\":\"closest\",\"mapbox\":{\"style\":\"light\"},\"paper_bgcolor\":\"white\",\"plot_bgcolor\":\"#E5ECF6\",\"polar\":{\"angularaxis\":{\"gridcolor\":\"white\",\"linecolor\":\"white\",\"ticks\":\"\"},\"bgcolor\":\"#E5ECF6\",\"radialaxis\":{\"gridcolor\":\"white\",\"linecolor\":\"white\",\"ticks\":\"\"}},\"scene\":{\"xaxis\":{\"backgroundcolor\":\"#E5ECF6\",\"gridcolor\":\"white\",\"gridwidth\":2,\"linecolor\":\"white\",\"showbackground\":true,\"ticks\":\"\",\"zerolinecolor\":\"white\"},\"yaxis\":{\"backgroundcolor\":\"#E5ECF6\",\"gridcolor\":\"white\",\"gridwidth\":2,\"linecolor\":\"white\",\"showbackground\":true,\"ticks\":\"\",\"zerolinecolor\":\"white\"},\"zaxis\":{\"backgroundcolor\":\"#E5ECF6\",\"gridcolor\":\"white\",\"gridwidth\":2,\"linecolor\":\"white\",\"showbackground\":true,\"ticks\":\"\",\"zerolinecolor\":\"white\"}},\"shapedefaults\":{\"line\":{\"color\":\"#2a3f5f\"}},\"ternary\":{\"aaxis\":{\"gridcolor\":\"white\",\"linecolor\":\"white\",\"ticks\":\"\"},\"baxis\":{\"gridcolor\":\"white\",\"linecolor\":\"white\",\"ticks\":\"\"},\"bgcolor\":\"#E5ECF6\",\"caxis\":{\"gridcolor\":\"white\",\"linecolor\":\"white\",\"ticks\":\"\"}},\"title\":{\"x\":0.05},\"xaxis\":{\"automargin\":true,\"gridcolor\":\"white\",\"linecolor\":\"white\",\"ticks\":\"\",\"title\":{\"standoff\":15},\"zerolinecolor\":\"white\",\"zerolinewidth\":2},\"yaxis\":{\"automargin\":true,\"gridcolor\":\"white\",\"linecolor\":\"white\",\"ticks\":\"\",\"title\":{\"standoff\":15},\"zerolinecolor\":\"white\",\"zerolinewidth\":2}}},\"width\":1000},                        {\"responsive\": true}                    ).then(function(){\n",
       "                            \n",
       "var gd = document.getElementById('fb5eabc1-28fe-43e1-b51e-ea4fc8288122');\n",
       "var x = new MutationObserver(function (mutations, observer) {{\n",
       "        var display = window.getComputedStyle(gd).display;\n",
       "        if (!display || display === 'none') {{\n",
       "            console.log([gd, 'removed!']);\n",
       "            Plotly.purge(gd);\n",
       "            observer.disconnect();\n",
       "        }}\n",
       "}});\n",
       "\n",
       "// Listen for the removal of the full notebook cells\n",
       "var notebookContainer = gd.closest('#notebook-container');\n",
       "if (notebookContainer) {{\n",
       "    x.observe(notebookContainer, {childList: true});\n",
       "}}\n",
       "\n",
       "// Listen for the clearing of the current output cell\n",
       "var outputEl = gd.closest('.output');\n",
       "if (outputEl) {{\n",
       "    x.observe(outputEl, {childList: true});\n",
       "}}\n",
       "\n",
       "                        })                };                });            </script>        </div>"
      ]
     },
     "metadata": {},
     "output_type": "display_data"
    }
   ],
   "source": [
    "display_pca_scatterplot_3D(model1, user_input, similar_word, labels, color_map)"
   ]
  },
  {
   "cell_type": "code",
   "execution_count": 121,
   "id": "4100d820",
   "metadata": {},
   "outputs": [
    {
     "data": {
      "application/vnd.plotly.v1+json": {
       "config": {
        "plotlyServerURL": "https://plot.ly"
       },
       "data": [
        {
         "marker": {
          "color": 2,
          "opacity": 0.8,
          "size": 5
         },
         "mode": "markers+text",
         "name": "COSTELLO'S_FALL_GRASS_SEED_10LB",
         "text": [
          "PEAT_MOSS_1.0_CU._FT",
          "ACE_FERTL_STARTER_5M",
          "AFRICAN_VIOLET_4\"",
          "WEED-B-GON_MAX_RTU_GAL",
          "ROUND_TRIO_JADE_13\""
         ],
         "textfont": {
          "size": 10
         },
         "textposition": "top center",
         "type": "scatter3d",
         "x": [
          0.7350122928619385,
          0.38037508726119995,
          -0.30643537640571594,
          -0.14706359803676605,
          -0.7287449836730957
         ],
         "y": [
          -0.40795883536338806,
          0.7037387490272522,
          -0.2560374438762665,
          -0.20090997219085693,
          0.10886164754629135
         ],
         "z": [
          -0.11033777892589569,
          0.18115895986557007,
          0.12428336590528488,
          0.46931329369544983,
          -0.2057759314775467
         ]
        },
        {
         "marker": {
          "color": "black",
          "opacity": 1,
          "size": 5
         },
         "mode": "markers+text",
         "name": "input words",
         "text": [
          "COSTELLO'S_FALL_GRASS_SEED_10LB"
         ],
         "textfont": {
          "size": 10
         },
         "textposition": "top center",
         "type": "scatter3d",
         "x": [
          0.06685638427734375
         ],
         "y": [
          0.05230609327554703
         ],
         "z": [
          -0.4586419463157654
         ]
        }
       ],
       "layout": {
        "autosize": false,
        "font": {
         "family": " Courier New ",
         "size": 10
        },
        "height": 1000,
        "legend": {
         "font": {
          "color": "black",
          "family": "Courier New",
          "size": 10
         },
         "x": 1,
         "y": 0.5
        },
        "margin": {
         "b": 0,
         "l": 0,
         "r": 0,
         "t": 0
        },
        "showlegend": true,
        "template": {
         "data": {
          "bar": [
           {
            "error_x": {
             "color": "#2a3f5f"
            },
            "error_y": {
             "color": "#2a3f5f"
            },
            "marker": {
             "line": {
              "color": "#E5ECF6",
              "width": 0.5
             },
             "pattern": {
              "fillmode": "overlay",
              "size": 10,
              "solidity": 0.2
             }
            },
            "type": "bar"
           }
          ],
          "barpolar": [
           {
            "marker": {
             "line": {
              "color": "#E5ECF6",
              "width": 0.5
             },
             "pattern": {
              "fillmode": "overlay",
              "size": 10,
              "solidity": 0.2
             }
            },
            "type": "barpolar"
           }
          ],
          "carpet": [
           {
            "aaxis": {
             "endlinecolor": "#2a3f5f",
             "gridcolor": "white",
             "linecolor": "white",
             "minorgridcolor": "white",
             "startlinecolor": "#2a3f5f"
            },
            "baxis": {
             "endlinecolor": "#2a3f5f",
             "gridcolor": "white",
             "linecolor": "white",
             "minorgridcolor": "white",
             "startlinecolor": "#2a3f5f"
            },
            "type": "carpet"
           }
          ],
          "choropleth": [
           {
            "colorbar": {
             "outlinewidth": 0,
             "ticks": ""
            },
            "type": "choropleth"
           }
          ],
          "contour": [
           {
            "colorbar": {
             "outlinewidth": 0,
             "ticks": ""
            },
            "colorscale": [
             [
              0,
              "#0d0887"
             ],
             [
              0.1111111111111111,
              "#46039f"
             ],
             [
              0.2222222222222222,
              "#7201a8"
             ],
             [
              0.3333333333333333,
              "#9c179e"
             ],
             [
              0.4444444444444444,
              "#bd3786"
             ],
             [
              0.5555555555555556,
              "#d8576b"
             ],
             [
              0.6666666666666666,
              "#ed7953"
             ],
             [
              0.7777777777777778,
              "#fb9f3a"
             ],
             [
              0.8888888888888888,
              "#fdca26"
             ],
             [
              1,
              "#f0f921"
             ]
            ],
            "type": "contour"
           }
          ],
          "contourcarpet": [
           {
            "colorbar": {
             "outlinewidth": 0,
             "ticks": ""
            },
            "type": "contourcarpet"
           }
          ],
          "heatmap": [
           {
            "colorbar": {
             "outlinewidth": 0,
             "ticks": ""
            },
            "colorscale": [
             [
              0,
              "#0d0887"
             ],
             [
              0.1111111111111111,
              "#46039f"
             ],
             [
              0.2222222222222222,
              "#7201a8"
             ],
             [
              0.3333333333333333,
              "#9c179e"
             ],
             [
              0.4444444444444444,
              "#bd3786"
             ],
             [
              0.5555555555555556,
              "#d8576b"
             ],
             [
              0.6666666666666666,
              "#ed7953"
             ],
             [
              0.7777777777777778,
              "#fb9f3a"
             ],
             [
              0.8888888888888888,
              "#fdca26"
             ],
             [
              1,
              "#f0f921"
             ]
            ],
            "type": "heatmap"
           }
          ],
          "heatmapgl": [
           {
            "colorbar": {
             "outlinewidth": 0,
             "ticks": ""
            },
            "colorscale": [
             [
              0,
              "#0d0887"
             ],
             [
              0.1111111111111111,
              "#46039f"
             ],
             [
              0.2222222222222222,
              "#7201a8"
             ],
             [
              0.3333333333333333,
              "#9c179e"
             ],
             [
              0.4444444444444444,
              "#bd3786"
             ],
             [
              0.5555555555555556,
              "#d8576b"
             ],
             [
              0.6666666666666666,
              "#ed7953"
             ],
             [
              0.7777777777777778,
              "#fb9f3a"
             ],
             [
              0.8888888888888888,
              "#fdca26"
             ],
             [
              1,
              "#f0f921"
             ]
            ],
            "type": "heatmapgl"
           }
          ],
          "histogram": [
           {
            "marker": {
             "pattern": {
              "fillmode": "overlay",
              "size": 10,
              "solidity": 0.2
             }
            },
            "type": "histogram"
           }
          ],
          "histogram2d": [
           {
            "colorbar": {
             "outlinewidth": 0,
             "ticks": ""
            },
            "colorscale": [
             [
              0,
              "#0d0887"
             ],
             [
              0.1111111111111111,
              "#46039f"
             ],
             [
              0.2222222222222222,
              "#7201a8"
             ],
             [
              0.3333333333333333,
              "#9c179e"
             ],
             [
              0.4444444444444444,
              "#bd3786"
             ],
             [
              0.5555555555555556,
              "#d8576b"
             ],
             [
              0.6666666666666666,
              "#ed7953"
             ],
             [
              0.7777777777777778,
              "#fb9f3a"
             ],
             [
              0.8888888888888888,
              "#fdca26"
             ],
             [
              1,
              "#f0f921"
             ]
            ],
            "type": "histogram2d"
           }
          ],
          "histogram2dcontour": [
           {
            "colorbar": {
             "outlinewidth": 0,
             "ticks": ""
            },
            "colorscale": [
             [
              0,
              "#0d0887"
             ],
             [
              0.1111111111111111,
              "#46039f"
             ],
             [
              0.2222222222222222,
              "#7201a8"
             ],
             [
              0.3333333333333333,
              "#9c179e"
             ],
             [
              0.4444444444444444,
              "#bd3786"
             ],
             [
              0.5555555555555556,
              "#d8576b"
             ],
             [
              0.6666666666666666,
              "#ed7953"
             ],
             [
              0.7777777777777778,
              "#fb9f3a"
             ],
             [
              0.8888888888888888,
              "#fdca26"
             ],
             [
              1,
              "#f0f921"
             ]
            ],
            "type": "histogram2dcontour"
           }
          ],
          "mesh3d": [
           {
            "colorbar": {
             "outlinewidth": 0,
             "ticks": ""
            },
            "type": "mesh3d"
           }
          ],
          "parcoords": [
           {
            "line": {
             "colorbar": {
              "outlinewidth": 0,
              "ticks": ""
             }
            },
            "type": "parcoords"
           }
          ],
          "pie": [
           {
            "automargin": true,
            "type": "pie"
           }
          ],
          "scatter": [
           {
            "marker": {
             "colorbar": {
              "outlinewidth": 0,
              "ticks": ""
             }
            },
            "type": "scatter"
           }
          ],
          "scatter3d": [
           {
            "line": {
             "colorbar": {
              "outlinewidth": 0,
              "ticks": ""
             }
            },
            "marker": {
             "colorbar": {
              "outlinewidth": 0,
              "ticks": ""
             }
            },
            "type": "scatter3d"
           }
          ],
          "scattercarpet": [
           {
            "marker": {
             "colorbar": {
              "outlinewidth": 0,
              "ticks": ""
             }
            },
            "type": "scattercarpet"
           }
          ],
          "scattergeo": [
           {
            "marker": {
             "colorbar": {
              "outlinewidth": 0,
              "ticks": ""
             }
            },
            "type": "scattergeo"
           }
          ],
          "scattergl": [
           {
            "marker": {
             "colorbar": {
              "outlinewidth": 0,
              "ticks": ""
             }
            },
            "type": "scattergl"
           }
          ],
          "scattermapbox": [
           {
            "marker": {
             "colorbar": {
              "outlinewidth": 0,
              "ticks": ""
             }
            },
            "type": "scattermapbox"
           }
          ],
          "scatterpolar": [
           {
            "marker": {
             "colorbar": {
              "outlinewidth": 0,
              "ticks": ""
             }
            },
            "type": "scatterpolar"
           }
          ],
          "scatterpolargl": [
           {
            "marker": {
             "colorbar": {
              "outlinewidth": 0,
              "ticks": ""
             }
            },
            "type": "scatterpolargl"
           }
          ],
          "scatterternary": [
           {
            "marker": {
             "colorbar": {
              "outlinewidth": 0,
              "ticks": ""
             }
            },
            "type": "scatterternary"
           }
          ],
          "surface": [
           {
            "colorbar": {
             "outlinewidth": 0,
             "ticks": ""
            },
            "colorscale": [
             [
              0,
              "#0d0887"
             ],
             [
              0.1111111111111111,
              "#46039f"
             ],
             [
              0.2222222222222222,
              "#7201a8"
             ],
             [
              0.3333333333333333,
              "#9c179e"
             ],
             [
              0.4444444444444444,
              "#bd3786"
             ],
             [
              0.5555555555555556,
              "#d8576b"
             ],
             [
              0.6666666666666666,
              "#ed7953"
             ],
             [
              0.7777777777777778,
              "#fb9f3a"
             ],
             [
              0.8888888888888888,
              "#fdca26"
             ],
             [
              1,
              "#f0f921"
             ]
            ],
            "type": "surface"
           }
          ],
          "table": [
           {
            "cells": {
             "fill": {
              "color": "#EBF0F8"
             },
             "line": {
              "color": "white"
             }
            },
            "header": {
             "fill": {
              "color": "#C8D4E3"
             },
             "line": {
              "color": "white"
             }
            },
            "type": "table"
           }
          ]
         },
         "layout": {
          "annotationdefaults": {
           "arrowcolor": "#2a3f5f",
           "arrowhead": 0,
           "arrowwidth": 1
          },
          "autotypenumbers": "strict",
          "coloraxis": {
           "colorbar": {
            "outlinewidth": 0,
            "ticks": ""
           }
          },
          "colorscale": {
           "diverging": [
            [
             0,
             "#8e0152"
            ],
            [
             0.1,
             "#c51b7d"
            ],
            [
             0.2,
             "#de77ae"
            ],
            [
             0.3,
             "#f1b6da"
            ],
            [
             0.4,
             "#fde0ef"
            ],
            [
             0.5,
             "#f7f7f7"
            ],
            [
             0.6,
             "#e6f5d0"
            ],
            [
             0.7,
             "#b8e186"
            ],
            [
             0.8,
             "#7fbc41"
            ],
            [
             0.9,
             "#4d9221"
            ],
            [
             1,
             "#276419"
            ]
           ],
           "sequential": [
            [
             0,
             "#0d0887"
            ],
            [
             0.1111111111111111,
             "#46039f"
            ],
            [
             0.2222222222222222,
             "#7201a8"
            ],
            [
             0.3333333333333333,
             "#9c179e"
            ],
            [
             0.4444444444444444,
             "#bd3786"
            ],
            [
             0.5555555555555556,
             "#d8576b"
            ],
            [
             0.6666666666666666,
             "#ed7953"
            ],
            [
             0.7777777777777778,
             "#fb9f3a"
            ],
            [
             0.8888888888888888,
             "#fdca26"
            ],
            [
             1,
             "#f0f921"
            ]
           ],
           "sequentialminus": [
            [
             0,
             "#0d0887"
            ],
            [
             0.1111111111111111,
             "#46039f"
            ],
            [
             0.2222222222222222,
             "#7201a8"
            ],
            [
             0.3333333333333333,
             "#9c179e"
            ],
            [
             0.4444444444444444,
             "#bd3786"
            ],
            [
             0.5555555555555556,
             "#d8576b"
            ],
            [
             0.6666666666666666,
             "#ed7953"
            ],
            [
             0.7777777777777778,
             "#fb9f3a"
            ],
            [
             0.8888888888888888,
             "#fdca26"
            ],
            [
             1,
             "#f0f921"
            ]
           ]
          },
          "colorway": [
           "#636efa",
           "#EF553B",
           "#00cc96",
           "#ab63fa",
           "#FFA15A",
           "#19d3f3",
           "#FF6692",
           "#B6E880",
           "#FF97FF",
           "#FECB52"
          ],
          "font": {
           "color": "#2a3f5f"
          },
          "geo": {
           "bgcolor": "white",
           "lakecolor": "white",
           "landcolor": "#E5ECF6",
           "showlakes": true,
           "showland": true,
           "subunitcolor": "white"
          },
          "hoverlabel": {
           "align": "left"
          },
          "hovermode": "closest",
          "mapbox": {
           "style": "light"
          },
          "paper_bgcolor": "white",
          "plot_bgcolor": "#E5ECF6",
          "polar": {
           "angularaxis": {
            "gridcolor": "white",
            "linecolor": "white",
            "ticks": ""
           },
           "bgcolor": "#E5ECF6",
           "radialaxis": {
            "gridcolor": "white",
            "linecolor": "white",
            "ticks": ""
           }
          },
          "scene": {
           "xaxis": {
            "backgroundcolor": "#E5ECF6",
            "gridcolor": "white",
            "gridwidth": 2,
            "linecolor": "white",
            "showbackground": true,
            "ticks": "",
            "zerolinecolor": "white"
           },
           "yaxis": {
            "backgroundcolor": "#E5ECF6",
            "gridcolor": "white",
            "gridwidth": 2,
            "linecolor": "white",
            "showbackground": true,
            "ticks": "",
            "zerolinecolor": "white"
           },
           "zaxis": {
            "backgroundcolor": "#E5ECF6",
            "gridcolor": "white",
            "gridwidth": 2,
            "linecolor": "white",
            "showbackground": true,
            "ticks": "",
            "zerolinecolor": "white"
           }
          },
          "shapedefaults": {
           "line": {
            "color": "#2a3f5f"
           }
          },
          "ternary": {
           "aaxis": {
            "gridcolor": "white",
            "linecolor": "white",
            "ticks": ""
           },
           "baxis": {
            "gridcolor": "white",
            "linecolor": "white",
            "ticks": ""
           },
           "bgcolor": "#E5ECF6",
           "caxis": {
            "gridcolor": "white",
            "linecolor": "white",
            "ticks": ""
           }
          },
          "title": {
           "x": 0.05
          },
          "xaxis": {
           "automargin": true,
           "gridcolor": "white",
           "linecolor": "white",
           "ticks": "",
           "title": {
            "standoff": 15
           },
           "zerolinecolor": "white",
           "zerolinewidth": 2
          },
          "yaxis": {
           "automargin": true,
           "gridcolor": "white",
           "linecolor": "white",
           "ticks": "",
           "title": {
            "standoff": 15
           },
           "zerolinecolor": "white",
           "zerolinewidth": 2
          }
         }
        },
        "width": 1000
       }
      },
      "text/html": [
       "<div>                            <div id=\"d98c2a6b-0be3-4313-96ae-6692ec404044\" class=\"plotly-graph-div\" style=\"height:1000px; width:1000px;\"></div>            <script type=\"text/javascript\">                require([\"plotly\"], function(Plotly) {                    window.PLOTLYENV=window.PLOTLYENV || {};                                    if (document.getElementById(\"d98c2a6b-0be3-4313-96ae-6692ec404044\")) {                    Plotly.newPlot(                        \"d98c2a6b-0be3-4313-96ae-6692ec404044\",                        [{\"marker\":{\"color\":2,\"opacity\":0.8,\"size\":5},\"mode\":\"markers+text\",\"name\":\"COSTELLO'S_FALL_GRASS_SEED_10LB\",\"text\":[\"PEAT_MOSS_1.0_CU._FT\",\"ACE_FERTL_STARTER_5M\",\"AFRICAN_VIOLET_4\\\"\",\"WEED-B-GON_MAX_RTU_GAL\",\"ROUND_TRIO_JADE_13\\\"\"],\"textfont\":{\"size\":10},\"textposition\":\"top center\",\"type\":\"scatter3d\",\"x\":[0.7350122928619385,0.38037508726119995,-0.30643537640571594,-0.14706359803676605,-0.7287449836730957],\"y\":[-0.40795883536338806,0.7037387490272522,-0.2560374438762665,-0.20090997219085693,0.10886164754629135],\"z\":[-0.11033777892589569,0.18115895986557007,0.12428336590528488,0.46931329369544983,-0.2057759314775467]},{\"marker\":{\"color\":\"black\",\"opacity\":1,\"size\":5},\"mode\":\"markers+text\",\"name\":\"input words\",\"text\":[\"COSTELLO'S_FALL_GRASS_SEED_10LB\"],\"textfont\":{\"size\":10},\"textposition\":\"top center\",\"type\":\"scatter3d\",\"x\":[0.06685638427734375],\"y\":[0.05230609327554703],\"z\":[-0.4586419463157654]}],                        {\"autosize\":false,\"font\":{\"family\":\" Courier New \",\"size\":10},\"height\":1000,\"legend\":{\"font\":{\"color\":\"black\",\"family\":\"Courier New\",\"size\":10},\"x\":1,\"y\":0.5},\"margin\":{\"b\":0,\"l\":0,\"r\":0,\"t\":0},\"showlegend\":true,\"template\":{\"data\":{\"bar\":[{\"error_x\":{\"color\":\"#2a3f5f\"},\"error_y\":{\"color\":\"#2a3f5f\"},\"marker\":{\"line\":{\"color\":\"#E5ECF6\",\"width\":0.5},\"pattern\":{\"fillmode\":\"overlay\",\"size\":10,\"solidity\":0.2}},\"type\":\"bar\"}],\"barpolar\":[{\"marker\":{\"line\":{\"color\":\"#E5ECF6\",\"width\":0.5},\"pattern\":{\"fillmode\":\"overlay\",\"size\":10,\"solidity\":0.2}},\"type\":\"barpolar\"}],\"carpet\":[{\"aaxis\":{\"endlinecolor\":\"#2a3f5f\",\"gridcolor\":\"white\",\"linecolor\":\"white\",\"minorgridcolor\":\"white\",\"startlinecolor\":\"#2a3f5f\"},\"baxis\":{\"endlinecolor\":\"#2a3f5f\",\"gridcolor\":\"white\",\"linecolor\":\"white\",\"minorgridcolor\":\"white\",\"startlinecolor\":\"#2a3f5f\"},\"type\":\"carpet\"}],\"choropleth\":[{\"colorbar\":{\"outlinewidth\":0,\"ticks\":\"\"},\"type\":\"choropleth\"}],\"contour\":[{\"colorbar\":{\"outlinewidth\":0,\"ticks\":\"\"},\"colorscale\":[[0.0,\"#0d0887\"],[0.1111111111111111,\"#46039f\"],[0.2222222222222222,\"#7201a8\"],[0.3333333333333333,\"#9c179e\"],[0.4444444444444444,\"#bd3786\"],[0.5555555555555556,\"#d8576b\"],[0.6666666666666666,\"#ed7953\"],[0.7777777777777778,\"#fb9f3a\"],[0.8888888888888888,\"#fdca26\"],[1.0,\"#f0f921\"]],\"type\":\"contour\"}],\"contourcarpet\":[{\"colorbar\":{\"outlinewidth\":0,\"ticks\":\"\"},\"type\":\"contourcarpet\"}],\"heatmap\":[{\"colorbar\":{\"outlinewidth\":0,\"ticks\":\"\"},\"colorscale\":[[0.0,\"#0d0887\"],[0.1111111111111111,\"#46039f\"],[0.2222222222222222,\"#7201a8\"],[0.3333333333333333,\"#9c179e\"],[0.4444444444444444,\"#bd3786\"],[0.5555555555555556,\"#d8576b\"],[0.6666666666666666,\"#ed7953\"],[0.7777777777777778,\"#fb9f3a\"],[0.8888888888888888,\"#fdca26\"],[1.0,\"#f0f921\"]],\"type\":\"heatmap\"}],\"heatmapgl\":[{\"colorbar\":{\"outlinewidth\":0,\"ticks\":\"\"},\"colorscale\":[[0.0,\"#0d0887\"],[0.1111111111111111,\"#46039f\"],[0.2222222222222222,\"#7201a8\"],[0.3333333333333333,\"#9c179e\"],[0.4444444444444444,\"#bd3786\"],[0.5555555555555556,\"#d8576b\"],[0.6666666666666666,\"#ed7953\"],[0.7777777777777778,\"#fb9f3a\"],[0.8888888888888888,\"#fdca26\"],[1.0,\"#f0f921\"]],\"type\":\"heatmapgl\"}],\"histogram\":[{\"marker\":{\"pattern\":{\"fillmode\":\"overlay\",\"size\":10,\"solidity\":0.2}},\"type\":\"histogram\"}],\"histogram2d\":[{\"colorbar\":{\"outlinewidth\":0,\"ticks\":\"\"},\"colorscale\":[[0.0,\"#0d0887\"],[0.1111111111111111,\"#46039f\"],[0.2222222222222222,\"#7201a8\"],[0.3333333333333333,\"#9c179e\"],[0.4444444444444444,\"#bd3786\"],[0.5555555555555556,\"#d8576b\"],[0.6666666666666666,\"#ed7953\"],[0.7777777777777778,\"#fb9f3a\"],[0.8888888888888888,\"#fdca26\"],[1.0,\"#f0f921\"]],\"type\":\"histogram2d\"}],\"histogram2dcontour\":[{\"colorbar\":{\"outlinewidth\":0,\"ticks\":\"\"},\"colorscale\":[[0.0,\"#0d0887\"],[0.1111111111111111,\"#46039f\"],[0.2222222222222222,\"#7201a8\"],[0.3333333333333333,\"#9c179e\"],[0.4444444444444444,\"#bd3786\"],[0.5555555555555556,\"#d8576b\"],[0.6666666666666666,\"#ed7953\"],[0.7777777777777778,\"#fb9f3a\"],[0.8888888888888888,\"#fdca26\"],[1.0,\"#f0f921\"]],\"type\":\"histogram2dcontour\"}],\"mesh3d\":[{\"colorbar\":{\"outlinewidth\":0,\"ticks\":\"\"},\"type\":\"mesh3d\"}],\"parcoords\":[{\"line\":{\"colorbar\":{\"outlinewidth\":0,\"ticks\":\"\"}},\"type\":\"parcoords\"}],\"pie\":[{\"automargin\":true,\"type\":\"pie\"}],\"scatter\":[{\"marker\":{\"colorbar\":{\"outlinewidth\":0,\"ticks\":\"\"}},\"type\":\"scatter\"}],\"scatter3d\":[{\"line\":{\"colorbar\":{\"outlinewidth\":0,\"ticks\":\"\"}},\"marker\":{\"colorbar\":{\"outlinewidth\":0,\"ticks\":\"\"}},\"type\":\"scatter3d\"}],\"scattercarpet\":[{\"marker\":{\"colorbar\":{\"outlinewidth\":0,\"ticks\":\"\"}},\"type\":\"scattercarpet\"}],\"scattergeo\":[{\"marker\":{\"colorbar\":{\"outlinewidth\":0,\"ticks\":\"\"}},\"type\":\"scattergeo\"}],\"scattergl\":[{\"marker\":{\"colorbar\":{\"outlinewidth\":0,\"ticks\":\"\"}},\"type\":\"scattergl\"}],\"scattermapbox\":[{\"marker\":{\"colorbar\":{\"outlinewidth\":0,\"ticks\":\"\"}},\"type\":\"scattermapbox\"}],\"scatterpolar\":[{\"marker\":{\"colorbar\":{\"outlinewidth\":0,\"ticks\":\"\"}},\"type\":\"scatterpolar\"}],\"scatterpolargl\":[{\"marker\":{\"colorbar\":{\"outlinewidth\":0,\"ticks\":\"\"}},\"type\":\"scatterpolargl\"}],\"scatterternary\":[{\"marker\":{\"colorbar\":{\"outlinewidth\":0,\"ticks\":\"\"}},\"type\":\"scatterternary\"}],\"surface\":[{\"colorbar\":{\"outlinewidth\":0,\"ticks\":\"\"},\"colorscale\":[[0.0,\"#0d0887\"],[0.1111111111111111,\"#46039f\"],[0.2222222222222222,\"#7201a8\"],[0.3333333333333333,\"#9c179e\"],[0.4444444444444444,\"#bd3786\"],[0.5555555555555556,\"#d8576b\"],[0.6666666666666666,\"#ed7953\"],[0.7777777777777778,\"#fb9f3a\"],[0.8888888888888888,\"#fdca26\"],[1.0,\"#f0f921\"]],\"type\":\"surface\"}],\"table\":[{\"cells\":{\"fill\":{\"color\":\"#EBF0F8\"},\"line\":{\"color\":\"white\"}},\"header\":{\"fill\":{\"color\":\"#C8D4E3\"},\"line\":{\"color\":\"white\"}},\"type\":\"table\"}]},\"layout\":{\"annotationdefaults\":{\"arrowcolor\":\"#2a3f5f\",\"arrowhead\":0,\"arrowwidth\":1},\"autotypenumbers\":\"strict\",\"coloraxis\":{\"colorbar\":{\"outlinewidth\":0,\"ticks\":\"\"}},\"colorscale\":{\"diverging\":[[0,\"#8e0152\"],[0.1,\"#c51b7d\"],[0.2,\"#de77ae\"],[0.3,\"#f1b6da\"],[0.4,\"#fde0ef\"],[0.5,\"#f7f7f7\"],[0.6,\"#e6f5d0\"],[0.7,\"#b8e186\"],[0.8,\"#7fbc41\"],[0.9,\"#4d9221\"],[1,\"#276419\"]],\"sequential\":[[0.0,\"#0d0887\"],[0.1111111111111111,\"#46039f\"],[0.2222222222222222,\"#7201a8\"],[0.3333333333333333,\"#9c179e\"],[0.4444444444444444,\"#bd3786\"],[0.5555555555555556,\"#d8576b\"],[0.6666666666666666,\"#ed7953\"],[0.7777777777777778,\"#fb9f3a\"],[0.8888888888888888,\"#fdca26\"],[1.0,\"#f0f921\"]],\"sequentialminus\":[[0.0,\"#0d0887\"],[0.1111111111111111,\"#46039f\"],[0.2222222222222222,\"#7201a8\"],[0.3333333333333333,\"#9c179e\"],[0.4444444444444444,\"#bd3786\"],[0.5555555555555556,\"#d8576b\"],[0.6666666666666666,\"#ed7953\"],[0.7777777777777778,\"#fb9f3a\"],[0.8888888888888888,\"#fdca26\"],[1.0,\"#f0f921\"]]},\"colorway\":[\"#636efa\",\"#EF553B\",\"#00cc96\",\"#ab63fa\",\"#FFA15A\",\"#19d3f3\",\"#FF6692\",\"#B6E880\",\"#FF97FF\",\"#FECB52\"],\"font\":{\"color\":\"#2a3f5f\"},\"geo\":{\"bgcolor\":\"white\",\"lakecolor\":\"white\",\"landcolor\":\"#E5ECF6\",\"showlakes\":true,\"showland\":true,\"subunitcolor\":\"white\"},\"hoverlabel\":{\"align\":\"left\"},\"hovermode\":\"closest\",\"mapbox\":{\"style\":\"light\"},\"paper_bgcolor\":\"white\",\"plot_bgcolor\":\"#E5ECF6\",\"polar\":{\"angularaxis\":{\"gridcolor\":\"white\",\"linecolor\":\"white\",\"ticks\":\"\"},\"bgcolor\":\"#E5ECF6\",\"radialaxis\":{\"gridcolor\":\"white\",\"linecolor\":\"white\",\"ticks\":\"\"}},\"scene\":{\"xaxis\":{\"backgroundcolor\":\"#E5ECF6\",\"gridcolor\":\"white\",\"gridwidth\":2,\"linecolor\":\"white\",\"showbackground\":true,\"ticks\":\"\",\"zerolinecolor\":\"white\"},\"yaxis\":{\"backgroundcolor\":\"#E5ECF6\",\"gridcolor\":\"white\",\"gridwidth\":2,\"linecolor\":\"white\",\"showbackground\":true,\"ticks\":\"\",\"zerolinecolor\":\"white\"},\"zaxis\":{\"backgroundcolor\":\"#E5ECF6\",\"gridcolor\":\"white\",\"gridwidth\":2,\"linecolor\":\"white\",\"showbackground\":true,\"ticks\":\"\",\"zerolinecolor\":\"white\"}},\"shapedefaults\":{\"line\":{\"color\":\"#2a3f5f\"}},\"ternary\":{\"aaxis\":{\"gridcolor\":\"white\",\"linecolor\":\"white\",\"ticks\":\"\"},\"baxis\":{\"gridcolor\":\"white\",\"linecolor\":\"white\",\"ticks\":\"\"},\"bgcolor\":\"#E5ECF6\",\"caxis\":{\"gridcolor\":\"white\",\"linecolor\":\"white\",\"ticks\":\"\"}},\"title\":{\"x\":0.05},\"xaxis\":{\"automargin\":true,\"gridcolor\":\"white\",\"linecolor\":\"white\",\"ticks\":\"\",\"title\":{\"standoff\":15},\"zerolinecolor\":\"white\",\"zerolinewidth\":2},\"yaxis\":{\"automargin\":true,\"gridcolor\":\"white\",\"linecolor\":\"white\",\"ticks\":\"\",\"title\":{\"standoff\":15},\"zerolinecolor\":\"white\",\"zerolinewidth\":2}}},\"width\":1000},                        {\"responsive\": true}                    ).then(function(){\n",
       "                            \n",
       "var gd = document.getElementById('d98c2a6b-0be3-4313-96ae-6692ec404044');\n",
       "var x = new MutationObserver(function (mutations, observer) {{\n",
       "        var display = window.getComputedStyle(gd).display;\n",
       "        if (!display || display === 'none') {{\n",
       "            console.log([gd, 'removed!']);\n",
       "            Plotly.purge(gd);\n",
       "            observer.disconnect();\n",
       "        }}\n",
       "}});\n",
       "\n",
       "// Listen for the removal of the full notebook cells\n",
       "var notebookContainer = gd.closest('#notebook-container');\n",
       "if (notebookContainer) {{\n",
       "    x.observe(notebookContainer, {childList: true});\n",
       "}}\n",
       "\n",
       "// Listen for the clearing of the current output cell\n",
       "var outputEl = gd.closest('.output');\n",
       "if (outputEl) {{\n",
       "    x.observe(outputEl, {childList: true});\n",
       "}}\n",
       "\n",
       "                        })                };                });            </script>        </div>"
      ]
     },
     "metadata": {},
     "output_type": "display_data"
    }
   ],
   "source": [
    "display_pca_scatterplot_3D(model, user_input, similar_word, labels, color_map)"
   ]
  },
  {
   "cell_type": "code",
   "execution_count": null,
   "id": "2d4cb409",
   "metadata": {},
   "outputs": [],
   "source": []
  }
 ],
 "metadata": {
  "kernelspec": {
   "display_name": "Python 3 (ipykernel)",
   "language": "python",
   "name": "python3"
  },
  "language_info": {
   "codemirror_mode": {
    "name": "ipython",
    "version": 3
   },
   "file_extension": ".py",
   "mimetype": "text/x-python",
   "name": "python",
   "nbconvert_exporter": "python",
   "pygments_lexer": "ipython3",
   "version": "3.7.11"
  }
 },
 "nbformat": 4,
 "nbformat_minor": 5
}
